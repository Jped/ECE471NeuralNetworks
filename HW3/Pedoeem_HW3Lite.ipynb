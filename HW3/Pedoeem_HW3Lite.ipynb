{
 "cells": [
  {
   "cell_type": "code",
   "execution_count": 437,
   "metadata": {},
   "outputs": [],
   "source": [
    "import numpy as np\n",
    "import tensorflow as tf\n",
    "from tensorflow import keras\n",
    "import matplotlib.pyplot as plt\n",
    "from tqdm import tqdm\n",
    "from time import time"
   ]
  },
  {
   "cell_type": "code",
   "execution_count": 438,
   "metadata": {},
   "outputs": [],
   "source": [
    "np.random.seed(1234)\n",
    "tf.set_random_seed(1234)\n",
    "IMAGE_HEIGHT = 28\n",
    "IMAGE_WIDTH  = 28\n",
    "batch_size = 20\n",
    "NUM_CLASSES = 10\n",
    "l2_lamb = 1e-5"
   ]
  },
  {
   "cell_type": "code",
   "execution_count": 439,
   "metadata": {},
   "outputs": [],
   "source": [
    "def reshape(x):\n",
    "    return np.reshape(x, [-1,IMAGE_WIDTH,IMAGE_HEIGHT,1])"
   ]
  },
  {
   "cell_type": "code",
   "execution_count": 440,
   "metadata": {},
   "outputs": [],
   "source": [
    "def get_mnist():\n",
    "    datum = {}\n",
    "    mnist = tf.keras.datasets.mnist\n",
    "    (x_train, y_train),(x_test, y_test) = mnist.load_data()\n",
    "    x_train, x_test = x_train / 255.0, x_test / 255.0\n",
    "    randos = np.random.choice(60000,60000)\n",
    "    validation_randos = randos[:12000]\n",
    "    train_randos = randos[12000:]\n",
    "    val_x, val_y = reshape(x_train[validation_randos]), y_train[validation_randos]\n",
    "    x_train, y_train = reshape(x_train[train_randos]), y_train[train_randos]\n",
    "    x_test = reshape(x_test)\n",
    "    y_train = keras.utils.to_categorical(y_train, NUM_CLASSES)\n",
    "    y_test = keras.utils.to_categorical(y_test, NUM_CLASSES)\n",
    "    val_y = keras.utils.to_categorical(val_y,NUM_CLASSES)\n",
    "    datum = {\"x_train\":x_train, \"y_train\":y_train, \"x_val\":val_x, \"y_val\":val_y,\"x_test\":x_test,\"y_test\":y_test}\n",
    "    return datum"
   ]
  },
  {
   "cell_type": "code",
   "execution_count": 441,
   "metadata": {},
   "outputs": [],
   "source": [
    "datum = get_mnist()"
   ]
  },
  {
   "cell_type": "code",
   "execution_count": 484,
   "metadata": {},
   "outputs": [],
   "source": [
    "model = keras.Sequential()\n",
    "model.add(keras.layers.Conv2D(filters=2,kernel_size=(6,4),strides=2,padding='valid',activation='elu'))\n",
    "model.add(keras.layers.MaxPool2D(pool_size=(3,3)))\n",
    "model.add(keras.layers.Conv2D(filters=1,kernel_size=(2,2),strides=1,padding='valid',activation='elu'))\n",
    "model.add(keras.layers.Flatten())\n",
    "model.add(keras.layers.Dense(NUM_CLASSES,activation=\"softmax\"))\n",
    "model.compile(optimizer=tf.train.AdamOptimizer(0.01),\n",
    "              loss='categorical_crossentropy',\n",
    "              metrics=['accuracy'])"
   ]
  },
  {
   "cell_type": "code",
   "execution_count": null,
   "metadata": {},
   "outputs": [
    {
     "name": "stdout",
     "output_type": "stream",
     "text": [
      "Train on 48000 samples, validate on 12000 samples\n",
      "Epoch 1/200\n",
      " - 6s - loss: 1.3043 - acc: 0.5455 - val_loss: 0.8225 - val_acc: 0.7183\n",
      "Epoch 2/200\n",
      " - 4s - loss: 0.8010 - acc: 0.7287 - val_loss: 0.7542 - val_acc: 0.7518\n",
      "Epoch 3/200\n",
      " - 4s - loss: 0.7651 - acc: 0.7442 - val_loss: 0.7341 - val_acc: 0.7511\n",
      "Epoch 4/200\n",
      " - 4s - loss: 0.7416 - acc: 0.7520 - val_loss: 0.7087 - val_acc: 0.7637\n",
      "Epoch 5/200\n"
     ]
    }
   ],
   "source": [
    "\n",
    "tensorboard = tf.keras.callbacks.TensorBoard(log_dir=\"logs/{}\".format(time()))\n",
    "model.fit(datum[\"x_train\"],datum[\"y_train\"], epochs=200, batch_size=256,\n",
    "          validation_data=(datum[\"x_val\"], datum[\"y_val\"]), verbose=2, callbacks=[tensorboard])"
   ]
  },
  {
   "cell_type": "code",
   "execution_count": 482,
   "metadata": {},
   "outputs": [
    {
     "name": "stdout",
     "output_type": "stream",
     "text": [
      "161\n",
      "[None, 12, 12, 2]\n",
      "[None, 4, 4, 2]\n",
      "[None, 3, 3, 1]\n",
      "[None, 9]\n",
      "[None, 10]\n"
     ]
    }
   ],
   "source": [
    "print(model.count_params())\n",
    "for layer in model.layers:\n",
    "    print(layer.get_output_at(0).get_shape().as_list())"
   ]
  },
  {
   "cell_type": "code",
   "execution_count": 483,
   "metadata": {},
   "outputs": [
    {
     "name": "stdout",
     "output_type": "stream",
     "text": [
      "10000/10000 [==============================] - ETA:  - ETA:  - ETA:  - ETA:  - ETA:  - ETA:  - ETA:  - ETA:  - ETA:  - ETA:  - ETA:  - ETA:  - ETA:  - ETA:  - ETA:  - ETA:  - ETA:  - ETA:  - ETA:  - ETA:  - ETA:  - ETA:  - ETA:  - ETA:  - ETA:  - ETA:  - ETA:  - ETA:  - ETA:  - ETA:  - ETA:  - ETA:  - ETA:  - 2s 172us/step\n"
     ]
    },
    {
     "data": {
      "text/plain": [
       "[0.4135714764714241, 0.8662]"
      ]
     },
     "execution_count": 483,
     "metadata": {},
     "output_type": "execute_result"
    }
   ],
   "source": [
    "model.evaluate(datum[\"x_test\"],datum[\"y_test\"])"
   ]
  },
  {
   "cell_type": "code",
   "execution_count": null,
   "metadata": {},
   "outputs": [],
   "source": []
  }
 ],
 "metadata": {
  "kernelspec": {
   "display_name": "Python 3",
   "language": "python",
   "name": "python3"
  },
  "language_info": {
   "codemirror_mode": {
    "name": "ipython",
    "version": 3
   },
   "file_extension": ".py",
   "mimetype": "text/x-python",
   "name": "python",
   "nbconvert_exporter": "python",
   "pygments_lexer": "ipython3",
   "version": "3.6.5"
  }
 },
 "nbformat": 4,
 "nbformat_minor": 2
}

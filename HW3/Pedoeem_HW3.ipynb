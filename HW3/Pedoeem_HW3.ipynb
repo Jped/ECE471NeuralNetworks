{
 "cells": [
  {
   "cell_type": "markdown",
   "metadata": {},
   "source": [
    "## Jonathan Pedoeem\n",
    "## Prof. Curro HW3\n",
    "## September 26th, 2018"
   ]
  },
  {
   "cell_type": "code",
   "execution_count": 11,
   "metadata": {
    "collapsed": true
   },
   "outputs": [],
   "source": [
    "import numpy as np\n",
    "import tensorflow as tf\n",
    "from tensorflow import keras\n",
    "import matplotlib.pyplot as plt\n",
    "from tqdm import tqdm\n",
    "from time import time"
   ]
  },
  {
   "cell_type": "code",
   "execution_count": 21,
   "metadata": {
    "collapsed": true
   },
   "outputs": [],
   "source": [
    "np.random.seed(1234)\n",
    "tf.set_random_seed(1234)\n",
    "IMAGE_HEIGHT = 28\n",
    "IMAGE_WIDTH  = 28\n",
    "batch_size = 20\n",
    "NUM_CLASSES = 10\n",
    "l2_lamb = 1e-5\n",
    "lr = 0.001"
   ]
  },
  {
   "cell_type": "code",
   "execution_count": 22,
   "metadata": {
    "collapsed": true
   },
   "outputs": [],
   "source": [
    "def reshape(x):\n",
    "    return np.reshape(x, [-1,IMAGE_WIDTH,IMAGE_HEIGHT,1])"
   ]
  },
  {
   "cell_type": "code",
   "execution_count": 23,
   "metadata": {
    "collapsed": true
   },
   "outputs": [],
   "source": [
    "def get_mnist():\n",
    "    datum = {}\n",
    "    mnist = tf.keras.datasets.mnist\n",
    "    (x_train, y_train),(x_test, y_test) = mnist.load_data()\n",
    "    x_train, x_test = x_train / 255.0, x_test / 255.0\n",
    "    randos = np.random.choice(60000,60000)\n",
    "    validation_randos = randos[:12000]\n",
    "    train_randos = randos[12000:]\n",
    "    val_x, val_y = reshape(x_train[validation_randos]), y_train[validation_randos]\n",
    "    x_train, y_train = reshape(x_train[train_randos]), y_train[train_randos]\n",
    "    x_test = reshape(x_test)\n",
    "    y_train = keras.utils.to_categorical(y_train, NUM_CLASSES)\n",
    "    y_test = keras.utils.to_categorical(y_test, NUM_CLASSES)\n",
    "    val_y = keras.utils.to_categorical(val_y,NUM_CLASSES)\n",
    "    datum = {\"x_train\":x_train, \"y_train\":y_train, \"x_val\":val_x, \"y_val\":val_y,\"x_test\":x_test,\"y_test\":y_test}\n",
    "    return datum"
   ]
  },
  {
   "cell_type": "code",
   "execution_count": 24,
   "metadata": {
    "collapsed": true
   },
   "outputs": [],
   "source": [
    "datum = get_mnist()"
   ]
  },
  {
   "cell_type": "code",
   "execution_count": 25,
   "metadata": {
    "collapsed": true
   },
   "outputs": [],
   "source": [
    "model = keras.Sequential()\n",
    "model.add(keras.layers.Conv2D(filters=5,kernel_size=(3,3),strides=2,padding='same',activation='elu', kernel_regularizer=tf.keras.regularizers.l2(l2_lamb)))\n",
    "model.add(keras.layers.Dropout(0.025))\n",
    "model.add(keras.layers.MaxPool2D(pool_size=(2,2)))\n",
    "model.add(keras.layers.Conv2D(filters=6,kernel_size=(3,3),strides=2,padding='same',activation='elu',  kernel_regularizer=tf.keras.regularizers.l2(l2_lamb)))\n",
    "model.add(keras.layers.Dropout(0.10))\n",
    "model.add(keras.layers.Flatten())\n",
    "model.add(keras.layers.Dense(NUM_CLASSES,activation=\"softmax\"))\n",
    "model.compile(optimizer=tf.train.AdamOptimizer(lr),\n",
    "              loss='categorical_crossentropy',\n",
    "              metrics=['accuracy'])"
   ]
  },
  {
   "cell_type": "code",
   "execution_count": 29,
   "metadata": {
    "collapsed": true
   },
   "outputs": [
    {
     "name": "stdout",
     "output_type": "stream",
     "text": [
      "Train on 48000 samples, validate on 12000 samples\n",
      "Epoch 1/50\n",
      " - 5s - loss: 0.1714 - acc: 0.9455 - val_loss: 0.1389 - val_acc: 0.9587\n",
      "Epoch 2/50\n",
      " - 4s - loss: 0.1723 - acc: 0.9456 - val_loss: 0.1379 - val_acc: 0.9590\n",
      "Epoch 3/50\n",
      " - 5s - loss: 0.1711 - acc: 0.9467 - val_loss: 0.1356 - val_acc: 0.9599\n",
      "Epoch 4/50\n",
      " - 4s - loss: 0.1719 - acc: 0.9451 - val_loss: 0.1360 - val_acc: 0.9591\n",
      "Epoch 5/50\n",
      " - 4s - loss: 0.1700 - acc: 0.9463 - val_loss: 0.1365 - val_acc: 0.9592\n",
      "Epoch 6/50\n",
      " - 4s - loss: 0.1682 - acc: 0.9479 - val_loss: 0.1354 - val_acc: 0.9594\n",
      "Epoch 7/50\n",
      " - 4s - loss: 0.1651 - acc: 0.9466 - val_loss: 0.1339 - val_acc: 0.9599\n",
      "Epoch 8/50\n",
      " - 4s - loss: 0.1667 - acc: 0.9477 - val_loss: 0.1353 - val_acc: 0.9602\n",
      "Epoch 9/50\n",
      " - 4s - loss: 0.1678 - acc: 0.9472 - val_loss: 0.1330 - val_acc: 0.9604\n",
      "Epoch 10/50\n",
      " - 5s - loss: 0.1612 - acc: 0.9497 - val_loss: 0.1335 - val_acc: 0.9605\n",
      "Epoch 11/50\n",
      " - 5s - loss: 0.1654 - acc: 0.9477 - val_loss: 0.1319 - val_acc: 0.9606\n",
      "Epoch 12/50\n",
      " - 5s - loss: 0.1623 - acc: 0.9488 - val_loss: 0.1305 - val_acc: 0.9611\n",
      "Epoch 13/50\n",
      " - 5s - loss: 0.1634 - acc: 0.9477 - val_loss: 0.1306 - val_acc: 0.9614\n",
      "Epoch 14/50\n",
      " - 4s - loss: 0.1622 - acc: 0.9482 - val_loss: 0.1297 - val_acc: 0.9618\n",
      "Epoch 15/50\n",
      " - 4s - loss: 0.1623 - acc: 0.9484 - val_loss: 0.1298 - val_acc: 0.9616\n",
      "Epoch 16/50\n",
      " - 5s - loss: 0.1619 - acc: 0.9484 - val_loss: 0.1305 - val_acc: 0.9615\n",
      "Epoch 17/50\n",
      " - 4s - loss: 0.1652 - acc: 0.9478 - val_loss: 0.1290 - val_acc: 0.9616\n",
      "Epoch 18/50\n",
      " - 4s - loss: 0.1610 - acc: 0.9493 - val_loss: 0.1285 - val_acc: 0.9617\n",
      "Epoch 19/50\n",
      " - 5s - loss: 0.1590 - acc: 0.9485 - val_loss: 0.1275 - val_acc: 0.9621\n",
      "Epoch 20/50\n",
      " - 5s - loss: 0.1594 - acc: 0.9488 - val_loss: 0.1275 - val_acc: 0.9617\n",
      "Epoch 21/50\n",
      " - 5s - loss: 0.1591 - acc: 0.9494 - val_loss: 0.1295 - val_acc: 0.9627\n",
      "Epoch 22/50\n",
      " - 4s - loss: 0.1558 - acc: 0.9508 - val_loss: 0.1283 - val_acc: 0.9622\n",
      "Epoch 23/50\n",
      " - 4s - loss: 0.1582 - acc: 0.9502 - val_loss: 0.1266 - val_acc: 0.9620\n",
      "Epoch 24/50\n",
      " - 4s - loss: 0.1575 - acc: 0.9509 - val_loss: 0.1265 - val_acc: 0.9625\n",
      "Epoch 25/50\n",
      " - 5s - loss: 0.1555 - acc: 0.9507 - val_loss: 0.1270 - val_acc: 0.9619\n",
      "Epoch 26/50\n",
      " - 5s - loss: 0.1562 - acc: 0.9490 - val_loss: 0.1267 - val_acc: 0.9625\n",
      "Epoch 27/50\n",
      " - 5s - loss: 0.1575 - acc: 0.9492 - val_loss: 0.1266 - val_acc: 0.9623\n",
      "Epoch 28/50\n",
      " - 5s - loss: 0.1567 - acc: 0.9508 - val_loss: 0.1264 - val_acc: 0.9627\n",
      "Epoch 29/50\n",
      " - 5s - loss: 0.1564 - acc: 0.9502 - val_loss: 0.1260 - val_acc: 0.9632\n",
      "Epoch 30/50\n",
      " - 5s - loss: 0.1521 - acc: 0.9515 - val_loss: 0.1240 - val_acc: 0.9632\n",
      "Epoch 31/50\n",
      " - 4s - loss: 0.1561 - acc: 0.9499 - val_loss: 0.1234 - val_acc: 0.9627\n",
      "Epoch 32/50\n",
      " - 4s - loss: 0.1543 - acc: 0.9506 - val_loss: 0.1241 - val_acc: 0.9628\n",
      "Epoch 33/50\n",
      " - 4s - loss: 0.1562 - acc: 0.9499 - val_loss: 0.1241 - val_acc: 0.9633\n",
      "Epoch 34/50\n",
      " - 4s - loss: 0.1551 - acc: 0.9503 - val_loss: 0.1232 - val_acc: 0.9627\n",
      "Epoch 35/50\n",
      " - 4s - loss: 0.1557 - acc: 0.9503 - val_loss: 0.1248 - val_acc: 0.9624\n",
      "Epoch 36/50\n",
      " - 4s - loss: 0.1540 - acc: 0.9508 - val_loss: 0.1237 - val_acc: 0.9626\n",
      "Epoch 37/50\n",
      " - 4s - loss: 0.1536 - acc: 0.9505 - val_loss: 0.1239 - val_acc: 0.9624\n",
      "Epoch 38/50\n",
      " - 5s - loss: 0.1550 - acc: 0.9495 - val_loss: 0.1235 - val_acc: 0.9638\n",
      "Epoch 39/50\n",
      " - 5s - loss: 0.1535 - acc: 0.9516 - val_loss: 0.1229 - val_acc: 0.9633\n",
      "Epoch 40/50\n",
      " - 6s - loss: 0.1527 - acc: 0.9514 - val_loss: 0.1224 - val_acc: 0.9634\n",
      "Epoch 41/50\n",
      " - 5s - loss: 0.1523 - acc: 0.9523 - val_loss: 0.1234 - val_acc: 0.9634\n",
      "Epoch 42/50\n",
      " - 5s - loss: 0.1530 - acc: 0.9516 - val_loss: 0.1229 - val_acc: 0.9621\n",
      "Epoch 43/50\n",
      " - 5s - loss: 0.1538 - acc: 0.9516 - val_loss: 0.1235 - val_acc: 0.9631\n",
      "Epoch 44/50\n",
      " - 4s - loss: 0.1526 - acc: 0.9511 - val_loss: 0.1223 - val_acc: 0.9623\n",
      "Epoch 45/50\n",
      " - 4s - loss: 0.1532 - acc: 0.9509 - val_loss: 0.1216 - val_acc: 0.9637\n",
      "Epoch 46/50\n",
      " - 4s - loss: 0.1540 - acc: 0.9517 - val_loss: 0.1216 - val_acc: 0.9627\n",
      "Epoch 47/50\n",
      " - 4s - loss: 0.1497 - acc: 0.9521 - val_loss: 0.1225 - val_acc: 0.9637\n",
      "Epoch 48/50\n",
      " - 4s - loss: 0.1521 - acc: 0.9508 - val_loss: 0.1220 - val_acc: 0.9636\n",
      "Epoch 49/50\n",
      " - 5s - loss: 0.1500 - acc: 0.9534 - val_loss: 0.1217 - val_acc: 0.9637\n",
      "Epoch 50/50\n",
      " - 4s - loss: 0.1537 - acc: 0.9503 - val_loss: 0.1221 - val_acc: 0.9635\n"
     ]
    },
    {
     "data": {
      "text/plain": [
       "<tensorflow.python.keras.callbacks.History at 0x1d3a49425c0>"
      ]
     },
     "execution_count": 29,
     "metadata": {},
     "output_type": "execute_result"
    }
   ],
   "source": [
    "tensorboard = tf.keras.callbacks.TensorBoard(log_dir=\"logs/{}\".format(time()))\n",
    "model.fit(datum[\"x_train\"],datum[\"y_train\"], epochs=50, batch_size=256,\n",
    "          validation_data=(datum[\"x_val\"], datum[\"y_val\"]), verbose=2, callbacks=[tensorboard])"
   ]
  },
  {
   "cell_type": "code",
   "execution_count": 30,
   "metadata": {},
   "outputs": [
    {
     "name": "stdout",
     "output_type": "stream",
     "text": [
      "10000/10000 [==============================] - ETA:  - ETA:  - ETA:  - ETA:  - ETA:  - ETA:  - ETA:  - ETA:  - ETA:  - ETA:  - ETA:  - ETA:  - ETA:  - ETA:  - ETA:  - 1s 73us/step\n"
     ]
    },
    {
     "data": {
      "text/plain": [
       "[0.12222394917085767, 0.9627]"
      ]
     },
     "execution_count": 30,
     "metadata": {},
     "output_type": "execute_result"
    }
   ],
   "source": [
    "model.evaluate(datum[\"x_test\"],datum[\"y_test\"])"
   ]
  },
  {
   "cell_type": "code",
   "execution_count": 31,
   "metadata": {},
   "outputs": [
    {
     "data": {
      "text/plain": [
       "1296"
      ]
     },
     "execution_count": 31,
     "metadata": {},
     "output_type": "execute_result"
    }
   ],
   "source": [
    "model.count_params()"
   ]
  },
  {
   "cell_type": "markdown",
   "metadata": {},
   "source": [
    "Testing Accuracy: 96.27%\n",
    "Parameter Count: 1296"
   ]
  },
  {
   "cell_type": "code",
   "execution_count": null,
   "metadata": {
    "collapsed": true
   },
   "outputs": [],
   "source": []
  }
 ],
 "metadata": {
  "kernelspec": {
   "display_name": "Python 3",
   "language": "python",
   "name": "python3"
  },
  "language_info": {
   "codemirror_mode": {
    "name": "ipython",
    "version": 3
   },
   "file_extension": ".py",
   "mimetype": "text/x-python",
   "name": "python",
   "nbconvert_exporter": "python",
   "pygments_lexer": "ipython3",
   "version": "3.6.5"
  }
 },
 "nbformat": 4,
 "nbformat_minor": 2
}

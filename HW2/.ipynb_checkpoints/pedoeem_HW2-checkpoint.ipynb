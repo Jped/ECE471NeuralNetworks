{
 "cells": [
  {
   "cell_type": "code",
   "execution_count": 1,
   "metadata": {},
   "outputs": [],
   "source": [
    "import numpy as np\n",
    "import tensorflow as tf\n",
    "import matplotlib.pyplot as plt\n",
    "from tqdm import tqdm"
   ]
  },
  {
   "cell_type": "code",
   "execution_count": 2,
   "metadata": {},
   "outputs": [],
   "source": [
    "#all the good old hyperparameters.\n",
    "np.random.seed(1234)\n",
    "tf.set_random_seed(1234)\n",
    "samples = 300\n",
    "noise = 0.67\n",
    "NUM_BATCHES= 1000\n",
    "lr = 0.05\n",
    "latentDim = 30\n",
    "latentDim2= 10\n",
    "latentDim3= 10\n",
    "\n",
    "lamb = 0.3\n",
    "batch_size = 1\n",
    "#h is resolution for descion plot\n",
    "h = 0.1\n",
    "circles = 150"
   ]
  },
  {
   "cell_type": "code",
   "execution_count": 3,
   "metadata": {
    "scrolled": true
   },
   "outputs": [
    {
     "data": {
      "image/png": "[encoded data removed]",
      "text/plain": [
       "<Figure size 432x288 with 1 Axes>"
      ]
     },
     "metadata": {},
     "output_type": "display_data"
    }
   ],
   "source": [
    "#derived this method for creating data from:https://goo.gl/s46c9a\n",
    "\n",
    "n = np.sqrt(np.random.rand(samples,1)) * circles * (2*np.pi)/360\n",
    "#sampling numbers from 0 to 780 (a little more than 2* 360) then convert it to raidans\n",
    "#trig functions go from -1,1, by scaling it by n we are making them go from ~0 to 15 \n",
    "#add some noise to make it tasty.\n",
    "x1 = np.cos(n)*n + np.random.rand(samples,1) * noise\n",
    "#x1 = np.log(n)\n",
    "#x2 =  n*np.log(n)\n",
    "x2 = np.sin(n)*n + np.random.rand(samples,1) * noise\n",
    "Spiral1 = np.hstack((x1,x2))\n",
    "Spiral2 = np.hstack((-x1,-x2))\n",
    "Y = np.hstack((np.zeros(samples),np.ones(samples)))\n",
    "plt.title(\"Spirals\")\n",
    "plt.plot(Spiral1[0:-1,0], Spiral1[0:-1,1], \".\", label=\"Spiral 1\", alpha=0.5)\n",
    "plt.plot(Spiral2[0:-1,0], Spiral2[0:-1,1], \".\", label=\"Spiral 2\", alpha=0.5)\n",
    "Spirals = np.vstack((Spiral1,Spiral2))\n",
    "\n"
   ]
  },
  {
   "cell_type": "code",
   "execution_count": 4,
   "metadata": {},
   "outputs": [],
   "source": [
    "# # The f(x) we get is not going to produce a probability, we are going to leave that to the TF cross entropy loss boy.\n",
    "# def f(x): \n",
    "#     w1 = tf.get_variable('w1', [2, latentDim], tf.float32, tf.random_normal_initializer())\n",
    "#     #w2 = tf.get_variable('w2', [latentDim, latentDim2], tf.float32, tf.random_normal_initializer())\n",
    "#     w2 = tf.get_variable('w2', [latentDim, 1], tf.float32, tf.random_normal_initializer())\n",
    "#     #w3 = tf.get_variable('w3', [latentDim2, latentDim3], tf.float32, tf.random_normal_initializer())\n",
    "#     #w4 = tf.get_variable('w4', [latentDim3, 1], tf.float32, tf.random_normal_initializer())\n",
    "#     b1 = tf.get_variable('b1', [], tf.float32, tf.zeros_initializer())\n",
    "#     b2 = tf.get_variable('b2', [], tf.float32, tf.zeros_initializer())   \n",
    "#     return tf.matmul(tf.nn.elu(tf.matmul(x,w1)+ b1), w2) + b2    \n",
    "#     #b3 = tf.get_variable('b3', [], tf.float32, tf.zeros_initializer())\n",
    "#     #b4 = tf.get_variable('b4', [], tf.float32, tf.zeros_initializer())\n",
    "#     #return tf.matmul(tf.sigmoid(tf.matmul(tf.nn.sigmoid(tf.matmul(tf.sigmoid(tf.matmul(x,w1)+ b1), w2) + b2),w3) + b3), w4) + b4"
   ]
  },
  {
   "cell_type": "code",
   "execution_count": 5,
   "metadata": {},
   "outputs": [],
   "source": [
    "#The f(x) we get is not going to produce a probability, we are going to leave that to the TF cross entropy loss boy.\n",
    "def f(x): \n",
    "    w1 = tf.get_variable('w1', [2, latentDim], tf.float32, tf.random_normal_initializer())\n",
    "    w2 = tf.get_variable('w2', [latentDim, 1], tf.float32, tf.random_normal_initializer())\n",
    "    w3 = tf.get_variable('w3', [latentDim2, latentDim3], tf.float32, tf.random_normal_initializer())\n",
    "    w4 = tf.get_variable('w4', [latentDim3, 1], tf.float32, tf.random_normal_initializer())\n",
    "    b1 = tf.get_variable('b1', [], tf.float32, tf.zeros_initializer())\n",
    "    b2 = tf.get_variable('b2', [], tf.float32, tf.zeros_initializer())   \n",
    "    b3 = tf.get_variable('b3', [], tf.float32, tf.zeros_initializer())\n",
    "    b4 = tf.get_variable('b4', [], tf.float32, tf.zeros_initializer())\n",
    "    return tf.matmul(tf.nn.tanh(tf.matmul(x,w1)+ b1), w2)\n",
    "#     return tf.matmul(tf.nn.elu(tf.matmul(tf.nn.tanh(tf.matmul(tf.nn.tanh(tf.matmul(x,w1)+ b1), w2) + b2),w3) + b3), w4) + b4"
   ]
  },
  {
   "cell_type": "code",
   "execution_count": 6,
   "metadata": {
    "scrolled": true
   },
   "outputs": [],
   "source": [
    "x = tf.placeholder(tf.float32, [batch_size,2])\n",
    "y = tf.placeholder(tf.float32, [batch_size,1])\n",
    "w1= tf.placeholder(tf.float32, [2, latentDim])\n",
    "w2= tf.placeholder(tf.float32, [latentDim,1])\n",
    "w3= tf.placeholder(tf.float32, [latentDim2,latentDim3])\n",
    "w4= tf.placeholder(tf.float32, [latentDim3,1])\n",
    "\n",
    "y_hat = f(x)\n",
    "#loss = tf.losses.sigmoid_cross_entropy(y,y_hat,label_smoothing=5) + lamb*(tf.pow(tf.norm(w1),2) + tf.pow(tf.norm(w2),2))\n",
    "\n",
    "#loss = tf.losses.sigmoid_cross_entropy(y,y_hat) \n",
    "loss = tf.losses.sigmoid_cross_entropy(y,y_hat) + lamb*(tf.pow(tf.norm(w1),2) + tf.pow(tf.norm(w2),2) + tf.pow(tf.norm(w3),2) + tf.pow(tf.norm(w4),2))\n",
    "optim = tf.train.MomentumOptimizer(lr, 0.9).minimize(loss)\n",
    "init = tf.global_variables_initializer()\n",
    "\n",
    "sess = tf.Session()\n",
    "sess.run(init)"
   ]
  },
  {
   "cell_type": "code",
   "execution_count": 7,
   "metadata": {},
   "outputs": [
    {
     "name": "stderr",
     "output_type": "stream",
     "text": [
      "100%|█████████████████████████████████████████████████████████████████████████████| 1000/1000 [00:02<00:00, 475.86it/s]\n"
     ]
    }
   ],
   "source": [
    "tf.get_variable_scope().reuse_variables()\n",
    "for _ in tqdm(range(0, NUM_BATCHES)):\n",
    "    choices = np.random.choice(samples,batch_size)\n",
    "    x_np = Spirals[choices]\n",
    "    y_np = np.array(Y[choices]).reshape((batch_size,1))\n",
    "    w1prime   = sess.run(tf.get_variable(\"w1\"))\n",
    "    w2prime   = sess.run(tf.get_variable(\"w2\"))\n",
    "    w3prime   = sess.run(tf.get_variable(\"w3\"))\n",
    "    w4prime   = sess.run(tf.get_variable(\"w4\"))\n",
    "    loss_np, _ = sess.run([loss, optim], feed_dict={x: x_np, y: y_np, w1:w1prime, w2:w2prime, w3:w3prime, w4:w4prime})\n",
    "    tf.summary.scalar\n",
    "#     print(loss_np)\n",
    "    #loss_np, _ = sess.run([loss, optim], feed_dict={x: x_np, y: y_np, w1:w1prime, w2:w2prime})\n"
   ]
  },
  {
   "cell_type": "code",
   "execution_count": 8,
   "metadata": {},
   "outputs": [],
   "source": [
    "#Now need to plot the descion boundary. \n",
    "\n",
    "#basically we are just going to sample a bunchacrunch points, pass em through the network and then matplotlib do a filled contour\n",
    "\n",
    "xx,yy = np.meshgrid(np.arange(-7,7,h), np.arange(-7,7,h))\n",
    "inputx = np.stack((xx,yy), axis=2)\n"
   ]
  },
  {
   "cell_type": "code",
   "execution_count": 9,
   "metadata": {},
   "outputs": [
    {
     "name": "stderr",
     "output_type": "stream",
     "text": [
      "100%|██████████████████████████████████████████████████████████████████████████████| 140/140 [00:00<00:00, 2228.13it/s]\n"
     ]
    }
   ],
   "source": [
    "y_hats = np.array([])\n",
    "a = tf.placeholder(tf.float32, [inputx.shape[0],2])\n",
    "y_hat = f(a)\n",
    "\n",
    "for i in tqdm(range(inputx.shape[0])):\n",
    "    if y_hats.size>0: \n",
    "        y_hats = np.hstack((y_hats,sess.run(y_hat,{a:inputx[i]})))\n",
    "    else: \n",
    "        y_hats = sess.run(y_hat,{a:inputx[i]})\n",
    "    \n"
   ]
  },
  {
   "cell_type": "code",
   "execution_count": 10,
   "metadata": {},
   "outputs": [],
   "source": [
    "#change them either to have zero or 1....\n",
    "y_hats[y_hats>0] = 1\n",
    "y_hats[y_hats<=0] = 0"
   ]
  },
  {
   "cell_type": "code",
   "execution_count": 11,
   "metadata": {},
   "outputs": [
    {
     "data": {
      "text/plain": [
       "[<matplotlib.lines.Line2D at 0x22df8d80240>]"
      ]
     },
     "execution_count": 11,
     "metadata": {},
     "output_type": "execute_result"
    },
    {
     "data": {
      "image/png": "[encoded data removed]",
      "text/plain": [
       "<Figure size 432x288 with 1 Axes>"
      ]
     },
     "metadata": {},
     "output_type": "display_data"
    }
   ],
   "source": [
    "plt.contourf(xx,yy,y_hats,alpha=0.5)\n",
    "\n",
    "plt.plot(Spiral1[0:-1,0], Spiral1[0:-1,1], \".\", label=\"Spiral 1\", alpha=0.5)\n",
    "plt.plot(Spiral2[0:-1,0], Spiral2[0:-1,1], \".\", label=\"Spiral 2\", alpha=0.5)"
   ]
  }
 ],
 "metadata": {
  "kernelspec": {
   "display_name": "Python 3",
   "language": "python",
   "name": "python3"
  },
  "language_info": {
   "codemirror_mode": {
    "name": "ipython",
    "version": 3
   },
   "file_extension": ".py",
   "mimetype": "text/x-python",
   "name": "python",
   "nbconvert_exporter": "python",
   "pygments_lexer": "ipython3",
   "version": "3.6.5"
  }
 },
 "nbformat": 4,
 "nbformat_minor": 2
}

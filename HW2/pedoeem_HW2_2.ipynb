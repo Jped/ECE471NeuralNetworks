{
 "cells": [
  {
   "cell_type": "code",
   "execution_count": 1,
   "metadata": {},
   "outputs": [],
   "source": [
    "import numpy as np\n",
    "import tensorflow as tf\n",
    "import matplotlib.pyplot as plt\n",
    "from tqdm import tqdm"
   ]
  },
  {
   "cell_type": "code",
   "execution_count": 2,
   "metadata": {},
   "outputs": [],
   "source": [
    "batch_size = 100\n",
    "samples = 300\n",
    "NUM_BATCHES = 1000\n",
    "lr = 0.0001\n",
    "h=1e-2\n",
    "circles = 180\n",
    "noise = 0.60\n",
    "np.random.seed(1234)\n",
    "tf.set_random_seed(1234)"
   ]
  },
  {
   "cell_type": "code",
   "execution_count": 3,
   "metadata": {},
   "outputs": [],
   "source": [
    "def variable_summaries(var, name):\n",
    "  \"\"\"Attach a lot of summaries to a Tensor (for TensorBoard visualization).\"\"\"\n",
    "  with tf.name_scope(name):\n",
    "    mean = tf.reduce_mean(var)\n",
    "    tf.summary.scalar('mean', mean)\n",
    "    with tf.name_scope('stddev'):\n",
    "      stddev = tf.sqrt(tf.reduce_mean(tf.square(var - mean)))\n",
    "    tf.summary.scalar('stddev', stddev)\n",
    "    tf.summary.scalar('max', tf.reduce_max(var))\n",
    "    tf.summary.scalar('min', tf.reduce_min(var))\n",
    "    tf.summary.histogram('histogram', var)"
   ]
  },
  {
   "cell_type": "code",
   "execution_count": 4,
   "metadata": {},
   "outputs": [],
   "source": [
    "def create_spirals(samples,circles,noise):\n",
    "    n = np.sqrt(np.random.rand(samples,1)) * circles * (2*np.pi)/360\n",
    "    x1 = np.cos(n)*n + np.random.rand(samples,1) * noise\n",
    "    x2 = np.sin(n)*n + np.random.rand(samples,1) * noise\n",
    "#     x1 = n + np.random.rand(samples,1) * noise\n",
    "#     x2 = n + np.random.rand(samples,1) * noise\n",
    "    Spiral1 = np.hstack((x1,x2))\n",
    "    Spiral2 = np.hstack((-x1,-x2))\n",
    "    Spirals = np.vstack((Spiral1,Spiral2))\n",
    "    Y = np.hstack((np.zeros(samples),np.ones(samples)))\n",
    "    plt.title(\"Spirals\")\n",
    "    plt.plot(Spiral1[0:-1,0], Spiral1[0:-1,1], \".\", label=\"Spiral 1\", alpha=0.5)\n",
    "    plt.plot(Spiral2[0:-1,0], Spiral2[0:-1,1], \".\", label=\"Spiral 2\", alpha=0.5)\n",
    "    return Spirals,Y,Spiral1,Spiral2"
   ]
  },
  {
   "cell_type": "code",
   "execution_count": 5,
   "metadata": {},
   "outputs": [
    {
     "data": {
      "image/png": "[encoded data removed]",
      "text/plain": [
       "<Figure size 432x288 with 1 Axes>"
      ]
     },
     "metadata": {},
     "output_type": "display_data"
    }
   ],
   "source": [
    "Spirals, Y,Spiral1,Spiral2 = create_spirals(samples,circles,noise)"
   ]
  },
  {
   "cell_type": "code",
   "execution_count": 6,
   "metadata": {},
   "outputs": [],
   "source": [
    "def init_weights(num_weights,sizes):\n",
    "    weights_dict = {}\n",
    "    biases_dict ={}\n",
    "    for i in range(num_weights):\n",
    "        nameW = \"w{}\".format(i)\n",
    "        nameB = \"b{}\".format(i)\n",
    "        weights_dict[nameW] = tf.get_variable(nameW, sizes[i], tf.float32, tf.truncated_normal_initializer())\n",
    "        biases_dict[nameW] = tf.get_variable(nameB, [1,sizes[i][1]], tf.float32, tf.zeros_initializer())\n",
    "        variable_summaries(weights_dict[nameW], nameW)        \n",
    "        variable_summaries(biases_dict[nameW], nameB)\n",
    "    return weights_dict,biases_dict"
   ]
  },
  {
   "cell_type": "code",
   "execution_count": 7,
   "metadata": {
    "scrolled": false
   },
   "outputs": [],
   "source": [
    "def f(weights_dict,biases_dict,x):\n",
    "    for weight in weights_dict:\n",
    "        if weight == \"w0\":\n",
    "            #pre sigmoid\n",
    "            y_hatPS = tf.matmul(x,weights_dict[weight]) + biases_dict[weight]\n",
    "        else:\n",
    "            y_hatPS = tf.matmul(tf.nn.elu(y_hatPS),weights_dict[weight]) + biases_dict[weight]\n",
    "    return y_hatPS\n",
    "        "
   ]
  },
  {
   "cell_type": "code",
   "execution_count": 8,
   "metadata": {},
   "outputs": [],
   "source": [
    "weights_dictionary, biases_dictionary = init_weights(3,[(2,16),(16,16),(16,1)])"
   ]
  },
  {
   "cell_type": "code",
   "execution_count": 9,
   "metadata": {},
   "outputs": [],
   "source": [
    "def train(weights_dictionary,biases_dictionary,iteration):\n",
    "    a = tf.placeholder(tf.float32, [batch_size,2])\n",
    "    b = tf.placeholder(tf.float32,[batch_size,1])\n",
    "    y_hat = f(weights_dictionary,biases_dictionary,a)\n",
    "    #eventually add the matrix\n",
    "    loss = tf.reduce_mean(tf.nn.sigmoid_cross_entropy_with_logits(labels=b, logits=y_hat))\n",
    "    tf.summary.scalar(\"Loss\", loss)\n",
    "    variable_summaries(y_hat, 'yhat')\n",
    "    optim = tf.train.GradientDescentOptimizer(lr).minimize(loss)\n",
    "    init = tf.global_variables_initializer()\n",
    "    sess = tf.Session()\n",
    "    sess.run(init)\n",
    "    merged = tf.summary.merge_all()\n",
    "    train_writer = tf.summary.FileWriter(\"./train{}\".format(iteration), sess.graph)\n",
    "    for i in tqdm(range(0,NUM_BATCHES)):\n",
    "        choices = np.random.choice(samples*2,batch_size)\n",
    "        x_np = Spirals[choices]\n",
    "        y_np = np.array(Y[choices]).reshape((batch_size,1))\n",
    "        loss_np, _ = sess.run([loss, optim], feed_dict={a: x_np, b: y_np})\n",
    "        summary = sess.run(merged, feed_dict={a:x_np, b:y_np})\n",
    "        train_writer.add_summary(summary,i)\n",
    "        if i<10 or i>(NUM_BATCHES-10):\n",
    "            print(loss_np)\n",
    "    return sess"
   ]
  },
  {
   "cell_type": "code",
   "execution_count": 10,
   "metadata": {},
   "outputs": [
    {
     "name": "stderr",
     "output_type": "stream",
     "text": [
      "\r",
      "  0%|                                                                                         | 0/1000 [00:00<?, ?it/s]"
     ]
    },
    {
     "name": "stdout",
     "output_type": "stream",
     "text": [
      "8.974428\n"
     ]
    },
    {
     "name": "stderr",
     "output_type": "stream",
     "text": [
      "\r",
      "  0%|                                                                                 | 1/1000 [00:00<02:07,  7.83it/s]"
     ]
    },
    {
     "name": "stdout",
     "output_type": "stream",
     "text": [
      "9.729857\n",
      "8.913125\n",
      "9.1586\n",
      "9.215231\n",
      "9.900557\n",
      "10.083744\n",
      "7.953993\n",
      "8.320392\n",
      "9.05457\n"
     ]
    },
    {
     "name": "stderr",
     "output_type": "stream",
     "text": [
      " 99%|█████████████████████████████████████████████████████████████████████████████▎| 991/1000 [00:05<00:00, 170.26it/s]"
     ]
    },
    {
     "name": "stdout",
     "output_type": "stream",
     "text": [
      "0.3312793\n",
      "0.20331521\n",
      "0.2651712\n",
      "0.37186632\n",
      "0.32809654\n",
      "0.46212974\n",
      "0.33150384\n",
      "0.33710244\n",
      "0.46344036\n"
     ]
    },
    {
     "name": "stderr",
     "output_type": "stream",
     "text": [
      "100%|█████████████████████████████████████████████████████████████████████████████| 1000/1000 [00:05<00:00, 169.57it/s]\n"
     ]
    }
   ],
   "source": [
    "sess =train(weights_dictionary,biases_dictionary,0)"
   ]
  },
  {
   "cell_type": "code",
   "execution_count": 11,
   "metadata": {},
   "outputs": [
    {
     "data": {
      "text/plain": [
       "300"
      ]
     },
     "execution_count": 11,
     "metadata": {},
     "output_type": "execute_result"
    }
   ],
   "source": [
    "samples"
   ]
  },
  {
   "cell_type": "code",
   "execution_count": 12,
   "metadata": {},
   "outputs": [
    {
     "name": "stderr",
     "output_type": "stream",
     "text": [
      "100%|█████████████████████████████████████████████████████████████████████████████| 1400/1400 [00:04<00:00, 291.35it/s]\n"
     ]
    },
    {
     "data": {
      "text/plain": [
       "[<matplotlib.lines.Line2D at 0x21b1858c518>]"
      ]
     },
     "execution_count": 12,
     "metadata": {},
     "output_type": "execute_result"
    },
    {
     "data": {
      "image/png": "[encoded data removed]",
      "text/plain": [
       "<Figure size 432x288 with 1 Axes>"
      ]
     },
     "metadata": {},
     "output_type": "display_data"
    }
   ],
   "source": [
    "xx,yy = np.meshgrid(np.arange(-7,7,h), np.arange(-7,7,h))\n",
    "inputx = np.stack((xx,yy), axis=2)\n",
    "y_hats = np.array([])\n",
    "c = tf.placeholder(tf.float32, [inputx.shape[0],2])\n",
    "y_hat = f(weights_dictionary,biases_dictionary,c)\n",
    "\n",
    "for i in tqdm(range(inputx.shape[0])):\n",
    "    if y_hats.size>0: \n",
    "        y_hats = np.hstack((y_hats,sess.run(y_hat,{c: inputx[i]})))\n",
    "    else: \n",
    "        y_hats = sess.run(y_hat,{c:inputx[i]})\n",
    "    \n",
    "y_hats[y_hats>0] = 1\n",
    "y_hats[y_hats<=0] = 0\n",
    "plt.contourf(xx,yy,y_hats,alpha=0.5)\n",
    "plt.plot(Spiral1[0:-1,0], Spiral1[0:-1,1], \".\", label=\"Spiral 1\", alpha=0.5)\n",
    "plt.plot(Spiral2[0:-1,0], Spiral2[0:-1,1], \".\", label=\"Spiral 2\", alpha=0.5)"
   ]
  },
  {
   "cell_type": "code",
   "execution_count": null,
   "metadata": {},
   "outputs": [],
   "source": []
  },
  {
   "cell_type": "code",
   "execution_count": null,
   "metadata": {},
   "outputs": [],
   "source": []
  }
 ],
 "metadata": {
  "kernelspec": {
   "display_name": "Python 3",
   "language": "python",
   "name": "python3"
  },
  "language_info": {
   "codemirror_mode": {
    "name": "ipython",
    "version": 3
   },
   "file_extension": ".py",
   "mimetype": "text/x-python",
   "name": "python",
   "nbconvert_exporter": "python",
   "pygments_lexer": "ipython3",
   "version": "3.6.5"
  }
 },
 "nbformat": 4,
 "nbformat_minor": 2
}

{
 "cells": [
  {
   "cell_type": "code",
   "execution_count": 1,
   "metadata": {},
   "outputs": [],
   "source": [
    "import numpy as np\n",
    "import tensorflow as tf\n",
    "import matplotlib.pyplot as plt\n",
    "from tqdm import tqdm"
   ]
  },
  {
   "cell_type": "code",
   "execution_count": 2,
   "metadata": {},
   "outputs": [],
   "source": [
    "#all the good old hyperparameters.\n",
    "np.random.seed(1234)\n",
    "tf.set_random_seed(1234)\n",
    "samples = 300\n",
    "noise = 0.67\n",
    "NUM_BATCHES= 4000\n",
    "lr = .01\n",
    "latentDim = 613\n",
    "latentDim2= 613\n",
    "# latentDim4= 10\n",
    "lamb = 0.03\n",
    "batch_size = 10\n",
    "#h is resolution for descion plot\n",
    "h = 0.1\n",
    "circles = 150"
   ]
  },
  {
   "cell_type": "code",
   "execution_count": 3,
   "metadata": {
    "scrolled": true
   },
   "outputs": [
    {
     "data": {
      "image/png": "[encoded data removed]",
      "text/plain": [
       "<Figure size 432x288 with 1 Axes>"
      ]
     },
     "metadata": {},
     "output_type": "display_data"
    }
   ],
   "source": [
    "#derived this method for creating data from:https://goo.gl/s46c9a\n",
    "\n",
    "n = np.sqrt(np.random.rand(samples,1)) * circles * (2*np.pi)/360\n",
    "#sampling numbers from 0 to 780 (a little more than 2* 360) then convert it to raidans\n",
    "#trig functions go from -1,1, by scaling it by n we are making them go from ~0 to 15 \n",
    "#add some noise to make it tasty.\n",
    "x1 = np.cos(n)*n + np.random.rand(samples,1) * noise\n",
    "#x1 = np.log(n)\n",
    "#x2 =  n*np.log(n)\n",
    "x2 = np.sin(n)*n + np.random.rand(samples,1) * noise\n",
    "Spiral1 = np.hstack((x1,x2))\n",
    "Spiral2 = np.hstack((-x1,-x2))\n",
    "Y = np.hstack((np.zeros(samples),np.ones(samples)))\n",
    "plt.title(\"Spirals\")\n",
    "plt.plot(Spiral1[0:-1,0], Spiral1[0:-1,1], \".\", label=\"Spiral 1\", alpha=0.5)\n",
    "plt.plot(Spiral2[0:-1,0], Spiral2[0:-1,1], \".\", label=\"Spiral 2\", alpha=0.5)\n",
    "Spirals = np.vstack((Spiral1,Spiral2))\n",
    "\n"
   ]
  },
  {
   "cell_type": "code",
   "execution_count": 4,
   "metadata": {},
   "outputs": [],
   "source": [
    "w1 = tf.get_variable('w1', [2, latentDim], tf.float32, tf.random_normal_initializer())\n",
    "w2 = tf.get_variable('w2', [latentDim, latentDim2], tf.float32, tf.random_normal_initializer())\n",
    "w3 = tf.get_variable('w3', [latentDim2, 1], tf.float32, tf.random_normal_initializer())\n",
    "# w4 = tf.get_variable('w4', [latentDim3, latentDim4], tf.float32, tf.random_normal_initializer())\n",
    "# w5 = tf.get_variable('w5', [latentDim4, 1], tf.float32, tf.random_normal_initializer())\n",
    "b1 = tf.get_variable('b1', [1,latentDim], tf.float32, tf.zeros_initializer())\n",
    "b2 = tf.get_variable('b2', [1, latentDim2], tf.float32, tf.zeros_initializer())   \n",
    "b3 = tf.get_variable('b3', [1,1], tf.float32, tf.zeros_initializer())\n",
    "# b4 = tf.get_variable('b4', [1,latentDim4], tf.float32, tf.zeros_initializer())\n",
    "# b5 = tf.get_variable('b5', [1,1], tf.float32, tf.zeros_initializer())"
   ]
  },
  {
   "cell_type": "code",
   "execution_count": 5,
   "metadata": {},
   "outputs": [],
   "source": [
    "#The f(x) we get is not going to produce a probability, we are going to leave that to the TF cross entropy loss boy.\n",
    "def f(x): \n",
    "    return tf.matmul(tf.nn.tanh(tf.matmul(tf.nn.tanh(tf.matmul(x,w1)+ b1), w2) + b2),w3) + b3    \n",
    "#     return tf.matmul(tf.nn.tanh(tf.matmul(tf.nn.tanh(tf.matmul(tf.nn.tanh(tf.matmul(tf.nn.tanh(tf.matmul(x,w1)+ b1), w2) + b2),w3) + b3), w4) + b4), w5) + b5"
   ]
  },
  {
   "cell_type": "code",
   "execution_count": 6,
   "metadata": {
    "scrolled": true
   },
   "outputs": [],
   "source": [
    "x = tf.placeholder(tf.float32, [batch_size,2])\n",
    "y = tf.placeholder(tf.float32, [batch_size,1])\n",
    "\n",
    "y_hat = f(x)\n",
    "loss = tf.losses.sigmoid_cross_entropy(y,y_hat,label_smoothing=5) + lamb*(tf.pow(tf.norm(w1),2) + tf.pow(tf.norm(w2),2))\n",
    "\n",
    "#loss = tf.losses.sigmoid_cross_entropy(y,y_hat) \n",
    "#loss = tf.losses.sigmoid_cross_entropy(y,y_hat) + lamb*(tf.pow(tf.norm(w1),2) + tf.pow(tf.norm(w2),2) + tf.pow(tf.norm(w3),2) + tf.pow(tf.norm(w4),2) + tf.pow(tf.norm(w5),2))\n",
    "optim = tf.train.AdagradOptimizer(lr).minimize(loss)\n",
    "init = tf.global_variables_initializer()\n",
    "\n",
    "sess = tf.Session()\n",
    "sess.run(init)"
   ]
  },
  {
   "cell_type": "code",
   "execution_count": 7,
   "metadata": {},
   "outputs": [
    {
     "name": "stderr",
     "output_type": "stream",
     "text": [
      "\r",
      "  0%|                                                                                         | 0/4000 [00:00<?, ?it/s]"
     ]
    },
    {
     "name": "stdout",
     "output_type": "stream",
     "text": [
      "11324.0625\n"
     ]
    },
    {
     "name": "stderr",
     "output_type": "stream",
     "text": [
      "\r",
      "  0%|                                                                                 | 1/4000 [00:00<08:34,  7.77it/s]"
     ]
    },
    {
     "name": "stdout",
     "output_type": "stream",
     "text": [
      "11214.339\n",
      "11146.093\n",
      "11092.135\n",
      "11042.206\n",
      "10978.075\n",
      "10925.431\n",
      "10898.243\n",
      "10870.648\n"
     ]
    },
    {
     "name": "stderr",
     "output_type": "stream",
     "text": [
      "\r",
      "  0%|▏                                                                                | 9/4000 [00:00<01:46, 37.44it/s]"
     ]
    },
    {
     "name": "stdout",
     "output_type": "stream",
     "text": [
      "10806.431\n",
      "10772.052\n",
      "10735.96\n",
      "10697.601\n",
      "10651.549\n",
      "10615.009\n",
      "10598.287\n",
      "10554.293\n"
     ]
    },
    {
     "name": "stderr",
     "output_type": "stream",
     "text": [
      "\r",
      "  0%|▎                                                                               | 17/4000 [00:00<01:20, 49.41it/s]"
     ]
    },
    {
     "name": "stdout",
     "output_type": "stream",
     "text": [
      "10570.619\n",
      "10483.784\n",
      "10461.957\n",
      "10424.886\n",
      "10400.106\n",
      "10380.762\n",
      "10353.126\n"
     ]
    },
    {
     "name": "stderr",
     "output_type": "stream",
     "text": [
      "\r",
      "  1%|▍                                                                               | 24/4000 [00:00<01:14, 53.60it/s]"
     ]
    },
    {
     "name": "stdout",
     "output_type": "stream",
     "text": [
      "10323.442\n",
      "10303.112\n",
      "10268.854\n",
      "10226.892\n",
      "10228.29\n",
      "10202.976\n",
      "10158.672\n",
      "10190.619\n"
     ]
    },
    {
     "name": "stderr",
     "output_type": "stream",
     "text": [
      "\r",
      "  1%|▋                                                                               | 32/4000 [00:00<01:08, 58.23it/s]"
     ]
    },
    {
     "name": "stdout",
     "output_type": "stream",
     "text": [
      "10122.578\n",
      "10092.4375\n",
      "10066.896\n",
      "10080.22\n",
      "10024.682\n",
      "10018.025\n",
      "9995.675\n",
      "9945.864\n",
      "9931.442\n"
     ]
    },
    {
     "name": "stderr",
     "output_type": "stream",
     "text": [
      "\r",
      "  1%|▊                                                                               | 41/4000 [00:00<01:03, 62.10it/s]"
     ]
    },
    {
     "name": "stdout",
     "output_type": "stream",
     "text": [
      "9917.221\n",
      "9890.562\n",
      "9867.608\n",
      "9841.054\n",
      "9815.307\n",
      "9812.267\n",
      "9778.575\n"
     ]
    },
    {
     "name": "stderr",
     "output_type": "stream",
     "text": [
      "\r",
      "  1%|▉                                                                               | 48/4000 [00:00<01:02, 63.00it/s]"
     ]
    },
    {
     "name": "stdout",
     "output_type": "stream",
     "text": [
      "9800.035\n",
      "9755.795\n",
      "9757.383\n",
      "9708.383\n",
      "9703.402\n",
      "9663.562\n",
      "9672.368\n",
      "9628.307\n",
      "9603.121\n"
     ]
    },
    {
     "name": "stderr",
     "output_type": "stream",
     "text": [
      "\r",
      "  1%|█▏                                                                              | 57/4000 [00:00<01:00, 65.24it/s]"
     ]
    },
    {
     "name": "stdout",
     "output_type": "stream",
     "text": [
      "9600.506\n",
      "9576.544\n",
      "9556.303\n",
      "9530.259\n",
      "9539.269\n",
      "9531.924\n",
      "9490.118\n",
      "9485.924\n"
     ]
    },
    {
     "name": "stderr",
     "output_type": "stream",
     "text": [
      "\r",
      "  2%|█▎                                                                              | 65/4000 [00:01<01:01, 63.96it/s]"
     ]
    },
    {
     "name": "stdout",
     "output_type": "stream",
     "text": [
      "9439.781\n",
      "9417.859\n",
      "9415.323\n",
      "9398.6045\n",
      "9382.033\n",
      "9363.424\n",
      "9352.814\n"
     ]
    },
    {
     "name": "stderr",
     "output_type": "stream",
     "text": [
      "\r",
      "  2%|█▍                                                                              | 72/4000 [00:01<01:01, 64.00it/s]"
     ]
    },
    {
     "name": "stdout",
     "output_type": "stream",
     "text": [
      "9354.636\n",
      "9340.386\n",
      "9291.538\n",
      "9268.337\n",
      "9262.531\n",
      "9233.12\n",
      "9213.613\n",
      "9221.396\n"
     ]
    },
    {
     "name": "stderr",
     "output_type": "stream",
     "text": [
      "\r",
      "  2%|█▌                                                                              | 80/4000 [00:01<01:00, 64.48it/s]"
     ]
    },
    {
     "name": "stdout",
     "output_type": "stream",
     "text": [
      "9190.359\n",
      "9195.385\n",
      "9149.525\n",
      "9134.435\n",
      "9130.5\n",
      "9149.184\n",
      "9112.481\n",
      "9076.7\n",
      "9091.43\n"
     ]
    },
    {
     "name": "stderr",
     "output_type": "stream",
     "text": [
      "\r",
      "  2%|█▊                                                                              | 89/4000 [00:01<00:59, 65.81it/s]"
     ]
    },
    {
     "name": "stdout",
     "output_type": "stream",
     "text": [
      "9086.742\n",
      "9050.003\n",
      "9038.725\n",
      "8995.832\n",
      "9047.384\n",
      "8995.528\n",
      "8993.482\n",
      "8952.081\n"
     ]
    },
    {
     "name": "stderr",
     "output_type": "stream",
     "text": [
      "\r",
      "  2%|█▉                                                                              | 97/4000 [00:01<00:59, 65.80it/s]"
     ]
    },
    {
     "name": "stdout",
     "output_type": "stream",
     "text": [
      "8954.285\n",
      "8941.519\n",
      "8912.579\n",
      "8903.264\n",
      "8911.156\n",
      "8868.547\n",
      "8860.557\n"
     ]
    },
    {
     "name": "stderr",
     "output_type": "stream",
     "text": [
      "\r",
      "  3%|██                                                                             | 104/4000 [00:01<01:00, 64.77it/s]"
     ]
    },
    {
     "name": "stdout",
     "output_type": "stream",
     "text": [
      "8853.178\n",
      "8838.187\n",
      "8840.315\n",
      "8790.92\n",
      "8801.662\n",
      "8769.734\n",
      "8764.0625\n"
     ]
    },
    {
     "name": "stderr",
     "output_type": "stream",
     "text": [
      "\r",
      "  3%|██▏                                                                            | 111/4000 [00:01<01:00, 64.63it/s]"
     ]
    },
    {
     "name": "stdout",
     "output_type": "stream",
     "text": [
      "8758.017\n",
      "8730.845\n",
      "8744.201\n",
      "8715.62\n",
      "8692.901\n",
      "8681.618\n",
      "8685.446\n",
      "8675.094\n"
     ]
    },
    {
     "name": "stderr",
     "output_type": "stream",
     "text": [
      "\r",
      "  3%|██▎                                                                            | 119/4000 [00:01<00:59, 65.45it/s]"
     ]
    },
    {
     "name": "stdout",
     "output_type": "stream",
     "text": [
      "8632.21\n",
      "8638.643\n",
      "8629.254\n",
      "8606.911\n",
      "8586.988\n",
      "8589.654\n",
      "8588.107\n",
      "8571.108\n"
     ]
    },
    {
     "name": "stderr",
     "output_type": "stream",
     "text": [
      "\r",
      "  3%|██▌                                                                            | 127/4000 [00:01<00:58, 66.05it/s]"
     ]
    },
    {
     "name": "stdout",
     "output_type": "stream",
     "text": [
      "8584.016\n",
      "8534.569\n",
      "8517.279\n",
      "8507.68\n",
      "8503.428\n",
      "8511.734\n",
      "8465.178\n",
      "8465.783\n"
     ]
    },
    {
     "name": "stderr",
     "output_type": "stream",
     "text": [
      "\r",
      "  3%|██▋                                                                            | 135/4000 [00:02<00:58, 66.35it/s]"
     ]
    },
    {
     "name": "stdout",
     "output_type": "stream",
     "text": [
      "8471.07\n",
      "8500.271\n",
      "8423.559\n",
      "8454.309\n",
      "8416.648\n",
      "8426.545\n",
      "8375.039\n",
      "8401.006\n",
      "8349.292\n"
     ]
    },
    {
     "name": "stderr",
     "output_type": "stream",
     "text": [
      "\r",
      "  4%|██▊                                                                            | 144/4000 [00:02<00:57, 67.12it/s]"
     ]
    },
    {
     "name": "stdout",
     "output_type": "stream",
     "text": [
      "8348.786\n",
      "8329.861\n",
      "8329.959\n",
      "8339.672\n",
      "8323.819\n",
      "8290.769\n",
      "8281.475\n",
      "8277.356\n"
     ]
    },
    {
     "name": "stderr",
     "output_type": "stream",
     "text": [
      "\r",
      "  4%|███                                                                            | 152/4000 [00:02<00:57, 66.84it/s]"
     ]
    },
    {
     "name": "stdout",
     "output_type": "stream",
     "text": [
      "8264.529\n",
      "8283.853\n",
      "8247.8\n",
      "8235.26\n",
      "8212.512\n",
      "8195.4795\n",
      "8180.755\n",
      "8179.6597\n"
     ]
    },
    {
     "name": "stderr",
     "output_type": "stream",
     "text": [
      "\r",
      "  4%|███▏                                                                           | 160/4000 [00:02<00:57, 67.21it/s]"
     ]
    },
    {
     "name": "stdout",
     "output_type": "stream",
     "text": [
      "8167.758\n",
      "8164.2334\n",
      "8172.001\n",
      "8140.663\n",
      "8122.1655\n",
      "8114.9907\n",
      "8116.0894\n",
      "8103.4673\n"
     ]
    },
    {
     "name": "stderr",
     "output_type": "stream",
     "text": [
      "\r",
      "  4%|███▎                                                                           | 168/4000 [00:02<00:56, 67.65it/s]"
     ]
    },
    {
     "name": "stdout",
     "output_type": "stream",
     "text": [
      "8085.2876\n",
      "8075.791\n",
      "8062.5576\n",
      "8065.566\n",
      "8057.6567\n",
      "8039.4194\n",
      "8023.371\n",
      "8007.5205\n"
     ]
    },
    {
     "name": "stderr",
     "output_type": "stream",
     "text": [
      "\r",
      "  4%|███▍                                                                           | 176/4000 [00:02<00:56, 67.90it/s]"
     ]
    },
    {
     "name": "stdout",
     "output_type": "stream",
     "text": [
      "8019.6187\n",
      "7999.519\n",
      "7983.625\n",
      "7986.8237\n",
      "7966.6885\n",
      "7974.141\n",
      "7945.4546\n",
      "7936.754\n"
     ]
    },
    {
     "name": "stderr",
     "output_type": "stream",
     "text": [
      "\r",
      "  5%|███▋                                                                           | 184/4000 [00:02<00:56, 67.65it/s]"
     ]
    },
    {
     "name": "stdout",
     "output_type": "stream",
     "text": [
      "7922.3013\n",
      "7910.773\n",
      "7905.745\n",
      "7892.035\n",
      "7869.6333\n",
      "7912.836\n",
      "7870.8823\n",
      "7846.235\n"
     ]
    },
    {
     "name": "stderr",
     "output_type": "stream",
     "text": [
      "\r",
      "  5%|███▊                                                                           | 192/4000 [00:02<00:56, 67.41it/s]"
     ]
    },
    {
     "name": "stdout",
     "output_type": "stream",
     "text": [
      "7849.447\n",
      "7833.4434\n",
      "7823.202\n",
      "7813.7183\n",
      "7817.172\n",
      "7803.951\n",
      "7801.198\n",
      "7817.5215\n"
     ]
    },
    {
     "name": "stderr",
     "output_type": "stream",
     "text": [
      "\r",
      "  5%|███▉                                                                           | 200/4000 [00:02<00:56, 67.57it/s]"
     ]
    },
    {
     "name": "stdout",
     "output_type": "stream",
     "text": [
      "7784.584\n",
      "7781.8696\n",
      "7762.3306\n",
      "7748.811\n",
      "7733.3374\n",
      "7730.9224\n",
      "7745.8496\n"
     ]
    },
    {
     "name": "stderr",
     "output_type": "stream",
     "text": [
      "\r",
      "  5%|████                                                                           | 207/4000 [00:03<00:56, 67.32it/s]"
     ]
    },
    {
     "name": "stdout",
     "output_type": "stream",
     "text": [
      "7712.8896\n",
      "7701.444\n",
      "7720.01\n",
      "7689.0356\n",
      "7710.866\n",
      "7667.3433\n",
      "7656.3394\n",
      "7665.692\n"
     ]
    },
    {
     "name": "stderr",
     "output_type": "stream",
     "text": [
      "\r",
      "  5%|████▏                                                                          | 215/4000 [00:03<00:56, 67.43it/s]"
     ]
    },
    {
     "name": "stdout",
     "output_type": "stream",
     "text": [
      "7661.4297\n",
      "7628.337\n",
      "7621.1743\n",
      "7605.0234\n",
      "7610.1875\n",
      "7591.7373\n",
      "7634.315\n",
      "7584.37\n"
     ]
    },
    {
     "name": "stderr",
     "output_type": "stream",
     "text": [
      "\r",
      "  6%|████▍                                                                          | 223/4000 [00:03<00:55, 67.59it/s]"
     ]
    },
    {
     "name": "stdout",
     "output_type": "stream",
     "text": [
      "7570.435\n",
      "7554.6006\n",
      "7553.6777\n",
      "7537.111\n",
      "7533.9077\n",
      "7529.998\n",
      "7549.415\n"
     ]
    },
    {
     "name": "stderr",
     "output_type": "stream",
     "text": [
      "\r",
      "  6%|████▌                                                                          | 230/4000 [00:03<00:55, 67.47it/s]"
     ]
    },
    {
     "name": "stdout",
     "output_type": "stream",
     "text": [
      "7512.8286\n",
      "7493.556\n",
      "7500.717\n",
      "7488.4995\n",
      "7471.5796\n",
      "7467.9272\n",
      "7468.0747\n",
      "7443.814\n"
     ]
    },
    {
     "name": "stderr",
     "output_type": "stream",
     "text": [
      "\r",
      "  6%|████▋                                                                          | 238/4000 [00:03<00:55, 67.60it/s]"
     ]
    },
    {
     "name": "stdout",
     "output_type": "stream",
     "text": [
      "7445.0312\n",
      "7426.798\n",
      "7427.38\n",
      "7434.454\n",
      "7404.3228\n",
      "7395.738\n",
      "7383.756\n"
     ]
    },
    {
     "name": "stderr",
     "output_type": "stream",
     "text": [
      "\r",
      "  6%|████▊                                                                          | 245/4000 [00:03<00:55, 67.47it/s]"
     ]
    },
    {
     "name": "stdout",
     "output_type": "stream",
     "text": [
      "7399.4844\n",
      "7402.837\n",
      "7384.7915\n",
      "7355.2915\n",
      "7347.9004\n",
      "7341.677\n",
      "7329.1973\n",
      "7344.425\n"
     ]
    },
    {
     "name": "stderr",
     "output_type": "stream",
     "text": [
      "\r",
      "  6%|████▉                                                                          | 253/4000 [00:03<00:55, 67.65it/s]"
     ]
    },
    {
     "name": "stdout",
     "output_type": "stream",
     "text": [
      "7321.4365\n",
      "7309.375\n",
      "7303.105\n",
      "7316.282\n",
      "7290.742\n",
      "7272.4478\n",
      "7275.8745\n"
     ]
    },
    {
     "name": "stderr",
     "output_type": "stream",
     "text": [
      "\r",
      "  6%|█████▏                                                                         | 260/4000 [00:03<00:55, 67.52it/s]"
     ]
    },
    {
     "name": "stdout",
     "output_type": "stream",
     "text": [
      "7267.735\n",
      "7259.9834\n",
      "7241.323\n",
      "7258.994\n",
      "7238.7446\n",
      "7242.752\n",
      "7239.914\n"
     ]
    },
    {
     "name": "stderr",
     "output_type": "stream",
     "text": [
      "\r",
      "  7%|█████▎                                                                         | 267/4000 [00:03<00:55, 67.54it/s]"
     ]
    },
    {
     "name": "stdout",
     "output_type": "stream",
     "text": [
      "7205.379\n",
      "7204.895\n",
      "7190.05\n",
      "7186.6963\n",
      "7193.8745\n",
      "7192.616\n",
      "7168.0938\n"
     ]
    },
    {
     "name": "stderr",
     "output_type": "stream",
     "text": [
      "\r",
      "  7%|█████▍                                                                         | 274/4000 [00:04<00:55, 67.58it/s]"
     ]
    },
    {
     "name": "stdout",
     "output_type": "stream",
     "text": [
      "7161.268\n",
      "7180.4966\n",
      "7146.2783\n",
      "7131.9824\n",
      "7133.3438\n",
      "7133.2773\n",
      "7110.1494\n",
      "7134.411\n"
     ]
    },
    {
     "name": "stderr",
     "output_type": "stream",
     "text": [
      "\r",
      "  7%|█████▌                                                                         | 282/4000 [00:04<00:54, 67.69it/s]"
     ]
    },
    {
     "name": "stdout",
     "output_type": "stream",
     "text": [
      "7091.7183\n",
      "7097.416\n",
      "7085.801\n",
      "7103.365\n",
      "7066.8247\n",
      "7057.4966\n",
      "7051.4243\n",
      "7039.0957\n"
     ]
    },
    {
     "name": "stderr",
     "output_type": "stream",
     "text": [
      "\r",
      "  7%|█████▋                                                                         | 290/4000 [00:04<00:54, 67.92it/s]"
     ]
    },
    {
     "name": "stdout",
     "output_type": "stream",
     "text": [
      "7037.852\n",
      "7057.2925\n",
      "7025.681\n",
      "7019.1475\n",
      "7008.9595\n",
      "7009.2075\n",
      "7006.1924\n",
      "6992.544\n"
     ]
    },
    {
     "name": "stderr",
     "output_type": "stream",
     "text": [
      "\r",
      "  7%|█████▉                                                                         | 298/4000 [00:04<00:54, 68.17it/s]"
     ]
    },
    {
     "name": "stdout",
     "output_type": "stream",
     "text": [
      "6982.983\n",
      "6975.898\n",
      "6964.3555\n",
      "6957.5103\n",
      "6952.973\n",
      "6942.216\n",
      "6943.5137\n",
      "6936.8564\n"
     ]
    },
    {
     "name": "stderr",
     "output_type": "stream",
     "text": [
      "\r",
      "  8%|██████                                                                         | 306/4000 [00:04<00:54, 68.26it/s]"
     ]
    },
    {
     "name": "stdout",
     "output_type": "stream",
     "text": [
      "6935.1367\n",
      "6918.411\n",
      "6906.747\n",
      "6904.045\n",
      "6905.0156\n",
      "6899.542\n",
      "6884.2207\n",
      "6878.231\n",
      "6865.218\n"
     ]
    },
    {
     "name": "stderr",
     "output_type": "stream",
     "text": [
      "\r",
      "  8%|██████▏                                                                        | 315/4000 [00:04<00:53, 68.56it/s]"
     ]
    },
    {
     "name": "stdout",
     "output_type": "stream",
     "text": [
      "6896.347\n",
      "6855.681\n",
      "6852.0493\n",
      "6837.7085\n",
      "6835.907\n",
      "6826.9004\n",
      "6838.474\n",
      "6816.4546\n"
     ]
    },
    {
     "name": "stderr",
     "output_type": "stream",
     "text": [
      "\r",
      "  8%|██████▍                                                                        | 323/4000 [00:04<00:53, 68.75it/s]"
     ]
    },
    {
     "name": "stdout",
     "output_type": "stream",
     "text": [
      "6812.508\n",
      "6805.913\n",
      "6795.0845\n",
      "6782.096\n",
      "6804.1416\n",
      "6799.1064\n",
      "6767.455\n",
      "6764.4766\n"
     ]
    },
    {
     "name": "stderr",
     "output_type": "stream",
     "text": [
      "\r",
      "  8%|██████▌                                                                        | 331/4000 [00:04<00:53, 68.88it/s]"
     ]
    },
    {
     "name": "stdout",
     "output_type": "stream",
     "text": [
      "6753.494\n",
      "6749.912\n",
      "6743.916\n",
      "6729.8066\n",
      "6726.452\n",
      "6718.169\n",
      "6740.7305\n",
      "6699.8696\n"
     ]
    },
    {
     "name": "stderr",
     "output_type": "stream",
     "text": [
      "\r",
      "  8%|██████▋                                                                        | 339/4000 [00:04<00:53, 69.07it/s]"
     ]
    },
    {
     "name": "stdout",
     "output_type": "stream",
     "text": [
      "6709.834\n",
      "6701.53\n",
      "6686.427\n",
      "6682.348\n",
      "6694.3335\n",
      "6668.481\n",
      "6666.4097\n",
      "6650.598\n",
      "6687.671\n"
     ]
    },
    {
     "name": "stderr",
     "output_type": "stream",
     "text": [
      "\r",
      "  9%|██████▊                                                                        | 348/4000 [00:05<00:52, 69.37it/s]"
     ]
    },
    {
     "name": "stdout",
     "output_type": "stream",
     "text": [
      "6685.2075\n",
      "6638.4756\n",
      "6631.4565\n",
      "6624.258\n",
      "6613.37\n",
      "6614.8564\n",
      "6620.0864\n",
      "6598.156\n"
     ]
    },
    {
     "name": "stderr",
     "output_type": "stream",
     "text": [
      "\r",
      "  9%|███████                                                                        | 356/4000 [00:05<00:52, 69.46it/s]"
     ]
    },
    {
     "name": "stdout",
     "output_type": "stream",
     "text": [
      "6593.845\n",
      "6586.0103\n",
      "6578.8555\n",
      "6599.318\n",
      "6579.136\n",
      "6558.188\n",
      "6565.908\n",
      "6566.822\n"
     ]
    },
    {
     "name": "stderr",
     "output_type": "stream",
     "text": [
      "\r",
      "  9%|███████▏                                                                       | 364/4000 [00:05<00:52, 69.60it/s]"
     ]
    },
    {
     "name": "stdout",
     "output_type": "stream",
     "text": [
      "6548.125\n",
      "6556.849\n",
      "6536.447\n",
      "6517.3486\n",
      "6519.7363\n",
      "6520.2217\n",
      "6502.373\n",
      "6521.62\n",
      "6490.076\n"
     ]
    },
    {
     "name": "stderr",
     "output_type": "stream",
     "text": [
      "\r",
      "  9%|███████▎                                                                       | 373/4000 [00:05<00:51, 69.84it/s]"
     ]
    },
    {
     "name": "stdout",
     "output_type": "stream",
     "text": [
      "6525.575\n",
      "6518.0063\n",
      "6464.717\n",
      "6463.893\n",
      "6493.595\n",
      "6455.6016\n",
      "6449.027\n",
      "6444.898\n"
     ]
    },
    {
     "name": "stderr",
     "output_type": "stream",
     "text": [
      "\r",
      " 10%|███████▌                                                                       | 381/4000 [00:05<00:51, 69.85it/s]"
     ]
    },
    {
     "name": "stdout",
     "output_type": "stream",
     "text": [
      "6436.3477\n",
      "6424.5186\n",
      "6420.1196\n",
      "6415.3335\n",
      "6407.4126\n",
      "6399.7505\n",
      "6418.7827\n",
      "6386.6953\n"
     ]
    },
    {
     "name": "stderr",
     "output_type": "stream",
     "text": [
      "\r",
      " 10%|███████▋                                                                       | 389/4000 [00:05<00:51, 69.97it/s]"
     ]
    },
    {
     "name": "stdout",
     "output_type": "stream",
     "text": [
      "6392.9854\n",
      "6379.566\n",
      "6375.4546\n",
      "6364.657\n",
      "6362.726\n",
      "6388.0625\n",
      "6356.702\n",
      "6349.0903\n",
      "6343.441\n"
     ]
    },
    {
     "name": "stderr",
     "output_type": "stream",
     "text": [
      "\r",
      " 10%|███████▊                                                                       | 398/4000 [00:05<00:51, 70.18it/s]"
     ]
    },
    {
     "name": "stdout",
     "output_type": "stream",
     "text": [
      "6336.5967\n",
      "6320.98\n",
      "6320.357\n",
      "6312.1704\n",
      "6323.618\n",
      "6303.646\n",
      "6298.3516\n",
      "6308.9204\n"
     ]
    },
    {
     "name": "stderr",
     "output_type": "stream",
     "text": [
      "\r",
      " 10%|████████                                                                       | 406/4000 [00:05<00:51, 70.26it/s]"
     ]
    },
    {
     "name": "stdout",
     "output_type": "stream",
     "text": [
      "6304.276\n",
      "6289.699\n",
      "6284.37\n",
      "6268.58\n",
      "6270.462\n",
      "6262.912\n",
      "6255.0996\n",
      "6239.3\n"
     ]
    },
    {
     "name": "stderr",
     "output_type": "stream",
     "text": [
      "\r",
      " 10%|████████▏                                                                      | 414/4000 [00:05<00:50, 70.37it/s]"
     ]
    },
    {
     "name": "stdout",
     "output_type": "stream",
     "text": [
      "6239.1753\n",
      "6232.697\n",
      "6227.5903\n",
      "6221.929\n",
      "6213.815\n",
      "6212.8496\n",
      "6197.895\n",
      "6208.838\n",
      "6190.2085\n"
     ]
    },
    {
     "name": "stderr",
     "output_type": "stream",
     "text": [
      "\r",
      " 11%|████████▎                                                                      | 423/4000 [00:05<00:50, 70.61it/s]"
     ]
    },
    {
     "name": "stdout",
     "output_type": "stream",
     "text": [
      "6187.769\n",
      "6177.7188\n",
      "6175.748\n",
      "6174.4395\n",
      "6181.405\n",
      "6163.9536\n",
      "6166.2856\n",
      "6147.3413\n"
     ]
    },
    {
     "name": "stderr",
     "output_type": "stream",
     "text": [
      "\r",
      " 11%|████████▌                                                                      | 431/4000 [00:06<00:50, 70.64it/s]"
     ]
    },
    {
     "name": "stdout",
     "output_type": "stream",
     "text": [
      "6140.9014\n",
      "6134.718\n",
      "6126.796\n",
      "6127.7886\n",
      "6116.195\n",
      "6122.3545\n",
      "6111.1685\n",
      "6096.464\n"
     ]
    },
    {
     "name": "stderr",
     "output_type": "stream",
     "text": [
      "\r",
      " 11%|████████▋                                                                      | 439/4000 [00:06<00:50, 70.79it/s]"
     ]
    },
    {
     "name": "stdout",
     "output_type": "stream",
     "text": [
      "6099.072\n",
      "6083.7236\n",
      "6082.166\n",
      "6087.0073\n",
      "6071.7134\n",
      "6097.297\n",
      "6066.8706\n",
      "6060.0195\n",
      "6054.4185\n"
     ]
    },
    {
     "name": "stderr",
     "output_type": "stream",
     "text": [
      "\r",
      " 11%|████████▊                                                                      | 448/4000 [00:06<00:50, 71.00it/s]"
     ]
    },
    {
     "name": "stdout",
     "output_type": "stream",
     "text": [
      "6054.1084\n",
      "6048.84\n",
      "6032.9297\n",
      "6054.232\n",
      "6021.403\n",
      "6022.7324\n",
      "6014.6177\n",
      "6038.7437\n"
     ]
    },
    {
     "name": "stderr",
     "output_type": "stream",
     "text": [
      "\r",
      " 11%|█████████                                                                      | 456/4000 [00:06<00:49, 71.00it/s]"
     ]
    },
    {
     "name": "stdout",
     "output_type": "stream",
     "text": [
      "6005.6514\n",
      "6004.772\n",
      "6000.4937\n",
      "5993.076\n",
      "5987.122\n",
      "5978.023\n",
      "5967.111\n",
      "5966.8804\n",
      "5962.287\n"
     ]
    },
    {
     "name": "stderr",
     "output_type": "stream",
     "text": [
      "\r",
      " 12%|█████████▏                                                                     | 465/4000 [00:06<00:49, 71.18it/s]"
     ]
    },
    {
     "name": "stdout",
     "output_type": "stream",
     "text": [
      "5981.9688\n",
      "5953.826\n",
      "5941.0977\n",
      "5946.4893\n",
      "5936.8687\n",
      "5932.7305\n",
      "5947.164\n",
      "5921.5376\n"
     ]
    },
    {
     "name": "stderr",
     "output_type": "stream",
     "text": [
      "\r",
      " 12%|█████████▎                                                                     | 473/4000 [00:06<00:49, 71.23it/s]"
     ]
    },
    {
     "name": "stdout",
     "output_type": "stream",
     "text": [
      "5914.1826\n",
      "5907.7837\n",
      "5932.066\n",
      "5900.8496\n",
      "5894.5054\n",
      "5888.4404\n",
      "5882.269\n",
      "5879.7563\n"
     ]
    },
    {
     "name": "stderr",
     "output_type": "stream",
     "text": [
      "\r",
      " 12%|█████████▍                                                                     | 481/4000 [00:06<00:49, 71.30it/s]"
     ]
    },
    {
     "name": "stdout",
     "output_type": "stream",
     "text": [
      "5877.555\n",
      "5885.8413\n",
      "5868.9507\n",
      "5858.408\n",
      "5853.1914\n",
      "5867.9033\n",
      "5863.3076\n",
      "5833.147\n",
      "5850.92\n"
     ]
    },
    {
     "name": "stderr",
     "output_type": "stream",
     "text": [
      "\r",
      " 12%|█████████▋                                                                     | 490/4000 [00:06<00:49, 71.46it/s]"
     ]
    },
    {
     "name": "stdout",
     "output_type": "stream",
     "text": [
      "5827.0493\n",
      "5827.642\n",
      "5817.7925\n",
      "5815.6064\n",
      "5805.5317\n",
      "5807.398\n",
      "5794.599\n",
      "5804.9834\n"
     ]
    },
    {
     "name": "stderr",
     "output_type": "stream",
     "text": [
      "\r",
      " 12%|█████████▊                                                                     | 498/4000 [00:06<00:48, 71.49it/s]"
     ]
    },
    {
     "name": "stdout",
     "output_type": "stream",
     "text": [
      "5808.7847\n",
      "5778.803\n",
      "5778.077\n",
      "5777.211\n",
      "5783.98\n",
      "5760.4097\n",
      "5762.3438\n",
      "5751.221\n",
      "5746.115\n"
     ]
    },
    {
     "name": "stderr",
     "output_type": "stream",
     "text": [
      "\r",
      " 13%|██████████                                                                     | 507/4000 [00:07<00:48, 71.64it/s]"
     ]
    },
    {
     "name": "stdout",
     "output_type": "stream",
     "text": [
      "5742.214\n",
      "5736.5356\n",
      "5735.2866\n",
      "5722.4844\n",
      "5722.2134\n",
      "5716.7295\n",
      "5709.733\n",
      "5706.6655\n"
     ]
    },
    {
     "name": "stderr",
     "output_type": "stream",
     "text": [
      "\r",
      " 13%|██████████▏                                                                    | 515/4000 [00:07<00:48, 71.74it/s]"
     ]
    },
    {
     "name": "stdout",
     "output_type": "stream",
     "text": [
      "5704.9473\n",
      "5695.9214\n",
      "5693.047\n",
      "5690.5703\n",
      "5680.262\n",
      "5683.008\n",
      "5672.612\n",
      "5679.4546\n"
     ]
    },
    {
     "name": "stderr",
     "output_type": "stream",
     "text": [
      "\r",
      " 13%|██████████▎                                                                    | 523/4000 [00:07<00:48, 71.71it/s]"
     ]
    },
    {
     "name": "stdout",
     "output_type": "stream",
     "text": [
      "5689.874\n",
      "5661.1772\n",
      "5654.73\n",
      "5643.201\n",
      "5648.8877\n",
      "5637.4805\n",
      "5632.69\n",
      "5628.831\n"
     ]
    },
    {
     "name": "stderr",
     "output_type": "stream",
     "text": [
      "\r",
      " 13%|██████████▍                                                                    | 531/4000 [00:07<00:48, 71.69it/s]"
     ]
    },
    {
     "name": "stdout",
     "output_type": "stream",
     "text": [
      "5623.032\n",
      "5633.5522\n",
      "5612.877\n",
      "5611.5747\n",
      "5613.356\n",
      "5606.1514\n",
      "5592.884\n",
      "5587.5967\n"
     ]
    },
    {
     "name": "stderr",
     "output_type": "stream",
     "text": [
      "\r",
      " 13%|██████████▋                                                                    | 539/4000 [00:07<00:48, 71.67it/s]"
     ]
    },
    {
     "name": "stdout",
     "output_type": "stream",
     "text": [
      "5616.3403\n",
      "5593.095\n",
      "5583.898\n",
      "5589.592\n",
      "5567.6616\n",
      "5568.655\n",
      "5556.336\n",
      "5556.958\n"
     ]
    },
    {
     "name": "stderr",
     "output_type": "stream",
     "text": [
      "\r",
      " 14%|██████████▊                                                                    | 547/4000 [00:07<00:48, 71.69it/s]"
     ]
    },
    {
     "name": "stdout",
     "output_type": "stream",
     "text": [
      "5547.908\n",
      "5542.005\n",
      "5553.578\n",
      "5530.5205\n",
      "5525.3696\n",
      "5525.9604\n",
      "5529.183\n",
      "5532.727\n"
     ]
    },
    {
     "name": "stderr",
     "output_type": "stream",
     "text": [
      "\r",
      " 14%|██████████▉                                                                    | 555/4000 [00:07<00:48, 71.76it/s]"
     ]
    },
    {
     "name": "stdout",
     "output_type": "stream",
     "text": [
      "5528.1816\n",
      "5506.3647\n",
      "5498.628\n",
      "5495.65\n",
      "5503.9443\n",
      "5487.57\n",
      "5487.605\n",
      "5491.9023\n",
      "5470.6226\n"
     ]
    },
    {
     "name": "stderr",
     "output_type": "stream",
     "text": [
      "\r",
      " 14%|███████████▏                                                                   | 564/4000 [00:07<00:47, 71.90it/s]"
     ]
    },
    {
     "name": "stdout",
     "output_type": "stream",
     "text": [
      "5469.3477\n",
      "5463.963\n",
      "5459.081\n",
      "5461.903\n",
      "5451.0317\n",
      "5451.3286\n",
      "5436.53\n",
      "5431.836\n"
     ]
    },
    {
     "name": "stderr",
     "output_type": "stream",
     "text": [
      "\r",
      " 14%|███████████▎                                                                   | 572/4000 [00:07<00:47, 71.95it/s]"
     ]
    },
    {
     "name": "stdout",
     "output_type": "stream",
     "text": [
      "5430.8247\n",
      "5433.4224\n",
      "5417.341\n",
      "5434.467\n",
      "5409.455\n",
      "5406.86\n",
      "5401.7656\n",
      "5403.053\n"
     ]
    },
    {
     "name": "stderr",
     "output_type": "stream",
     "text": [
      "\r",
      " 14%|███████████▍                                                                   | 580/4000 [00:08<00:47, 72.03it/s]"
     ]
    },
    {
     "name": "stdout",
     "output_type": "stream",
     "text": [
      "5391.4497\n",
      "5390.233\n",
      "5382.7124\n",
      "5380.38\n",
      "5378.54\n",
      "5369.2744\n",
      "5365.394\n",
      "5387.0938\n"
     ]
    },
    {
     "name": "stderr",
     "output_type": "stream",
     "text": [
      "\r",
      " 15%|███████████▌                                                                   | 588/4000 [00:08<00:47, 71.90it/s]"
     ]
    },
    {
     "name": "stdout",
     "output_type": "stream",
     "text": [
      "5362.48\n",
      "5375.1997\n",
      "5348.579\n",
      "5347.404\n",
      "5339.1733\n",
      "5335.869\n",
      "5339.3706\n",
      "5340.205\n"
     ]
    },
    {
     "name": "stderr",
     "output_type": "stream",
     "text": [
      "\r",
      " 15%|███████████▊                                                                   | 596/4000 [00:08<00:47, 71.96it/s]"
     ]
    },
    {
     "name": "stdout",
     "output_type": "stream",
     "text": [
      "5323.741\n",
      "5319.154\n",
      "5315.2314\n",
      "5310.6016\n",
      "5307.37\n",
      "5304.1504\n",
      "5300.669\n",
      "5298.4536\n",
      "5291.2417\n"
     ]
    },
    {
     "name": "stderr",
     "output_type": "stream",
     "text": [
      "\r",
      " 15%|███████████▉                                                                   | 605/4000 [00:08<00:47, 72.04it/s]"
     ]
    },
    {
     "name": "stdout",
     "output_type": "stream",
     "text": [
      "5287.8096\n",
      "5284.0312\n",
      "5277.585\n",
      "5277.661\n",
      "5267.695\n",
      "5263.279\n",
      "5261.963\n",
      "5257.6978\n"
     ]
    },
    {
     "name": "stderr",
     "output_type": "stream",
     "text": [
      "\r",
      " 15%|████████████                                                                   | 613/4000 [00:08<00:47, 72.04it/s]"
     ]
    },
    {
     "name": "stdout",
     "output_type": "stream",
     "text": [
      "5269.781\n",
      "5251.4917\n",
      "5246.002\n",
      "5243.7812\n",
      "5234.7505\n",
      "5229.7676\n",
      "5231.242\n",
      "5222.174\n"
     ]
    },
    {
     "name": "stderr",
     "output_type": "stream",
     "text": [
      "\r",
      " 16%|████████████▎                                                                  | 621/4000 [00:08<00:46, 72.12it/s]"
     ]
    },
    {
     "name": "stdout",
     "output_type": "stream",
     "text": [
      "5219.1104\n",
      "5214.8154\n",
      "5213.5693\n",
      "5207.047\n",
      "5206.523\n",
      "5200.4546\n",
      "5193.392\n",
      "5194.5356\n"
     ]
    },
    {
     "name": "stderr",
     "output_type": "stream",
     "text": [
      "\r",
      " 16%|████████████▍                                                                  | 629/4000 [00:08<00:46, 72.19it/s]"
     ]
    },
    {
     "name": "stdout",
     "output_type": "stream",
     "text": [
      "5186.5464\n",
      "5184.181\n",
      "5179.14\n",
      "5179.2393\n",
      "5168.616\n",
      "5165.7764\n",
      "5165.314\n",
      "5156.0776\n"
     ]
    },
    {
     "name": "stderr",
     "output_type": "stream",
     "text": [
      "\r",
      " 16%|████████████▌                                                                  | 637/4000 [00:08<00:46, 72.19it/s]"
     ]
    },
    {
     "name": "stdout",
     "output_type": "stream",
     "text": [
      "5154.5137\n",
      "5146.7705\n",
      "5146.39\n",
      "5141.212\n",
      "5134.2114\n",
      "5133.049\n",
      "5128.694\n",
      "5123.3896\n"
     ]
    },
    {
     "name": "stderr",
     "output_type": "stream",
     "text": [
      "\r",
      " 16%|████████████▋                                                                  | 645/4000 [00:08<00:46, 72.23it/s]"
     ]
    },
    {
     "name": "stdout",
     "output_type": "stream",
     "text": [
      "5124.089\n",
      "5117.9346\n",
      "5115.591\n",
      "5107.3286\n",
      "5111.4824\n",
      "5102.1646\n",
      "5095.995\n",
      "5093.3447\n"
     ]
    },
    {
     "name": "stderr",
     "output_type": "stream",
     "text": [
      "\r",
      " 16%|████████████▉                                                                  | 653/4000 [00:09<00:46, 72.31it/s]"
     ]
    },
    {
     "name": "stdout",
     "output_type": "stream",
     "text": [
      "5086.834\n",
      "5084.079\n",
      "5078.902\n",
      "5075.9795\n",
      "5071.8477\n",
      "5066.3936\n",
      "5062.8027\n",
      "5060.391\n"
     ]
    },
    {
     "name": "stderr",
     "output_type": "stream",
     "text": [
      "\r",
      " 17%|█████████████                                                                  | 661/4000 [00:09<00:46, 72.39it/s]"
     ]
    },
    {
     "name": "stdout",
     "output_type": "stream",
     "text": [
      "5056.734\n",
      "5057.3296\n",
      "5048.229\n",
      "5042.1895\n",
      "5039.787\n",
      "5039.772\n",
      "5043.2983\n",
      "5027.478\n"
     ]
    },
    {
     "name": "stderr",
     "output_type": "stream",
     "text": [
      "\r",
      " 17%|█████████████▏                                                                 | 669/4000 [00:09<00:45, 72.46it/s]"
     ]
    },
    {
     "name": "stdout",
     "output_type": "stream",
     "text": [
      "5024.93\n",
      "5021.9155\n",
      "5021.443\n",
      "5012.9644\n",
      "5008.8394\n",
      "5006.3857\n",
      "5001.9565\n",
      "4995.548\n"
     ]
    },
    {
     "name": "stderr",
     "output_type": "stream",
     "text": [
      "\r",
      " 17%|█████████████▎                                                                 | 677/4000 [00:09<00:45, 72.44it/s]"
     ]
    },
    {
     "name": "stdout",
     "output_type": "stream",
     "text": [
      "4991.243\n",
      "4993.24\n",
      "4984.119\n",
      "4984.6514\n",
      "4990.181\n",
      "4974.6045\n",
      "4969.209\n",
      "4967.647\n"
     ]
    },
    {
     "name": "stderr",
     "output_type": "stream",
     "text": [
      "\r",
      " 17%|█████████████▌                                                                 | 685/4000 [00:09<00:45, 72.43it/s]"
     ]
    },
    {
     "name": "stdout",
     "output_type": "stream",
     "text": [
      "4979.0654\n",
      "4958.3647\n",
      "4961.44\n",
      "4950.1484\n",
      "4962.427\n",
      "4941.5835\n",
      "4941.0605\n",
      "4935.5977\n"
     ]
    },
    {
     "name": "stderr",
     "output_type": "stream",
     "text": [
      "\r",
      " 17%|█████████████▋                                                                 | 693/4000 [00:09<00:45, 72.49it/s]"
     ]
    },
    {
     "name": "stdout",
     "output_type": "stream",
     "text": [
      "4929.866\n",
      "4946.7573\n",
      "4924.25\n",
      "4917.1484\n",
      "4915.828\n",
      "4912.814\n",
      "4906.4756\n",
      "4904.4746\n"
     ]
    },
    {
     "name": "stderr",
     "output_type": "stream",
     "text": [
      "\r",
      " 18%|█████████████▊                                                                 | 701/4000 [00:09<00:45, 72.54it/s]"
     ]
    },
    {
     "name": "stdout",
     "output_type": "stream",
     "text": [
      "4899.1704\n",
      "4896.076\n",
      "4894.0767\n",
      "4887.034\n",
      "4884.73\n",
      "4878.4424\n",
      "4875.348\n",
      "4890.3467\n"
     ]
    },
    {
     "name": "stderr",
     "output_type": "stream",
     "text": [
      "\r",
      " 18%|██████████████                                                                 | 709/4000 [00:09<00:45, 72.54it/s]"
     ]
    },
    {
     "name": "stdout",
     "output_type": "stream",
     "text": [
      "4866.8994\n",
      "4881.9556\n",
      "4874.432\n",
      "4857.389\n",
      "4853.269\n",
      "4851.1035\n",
      "4866.409\n",
      "4839.0703\n"
     ]
    },
    {
     "name": "stderr",
     "output_type": "stream",
     "text": [
      "\r",
      " 18%|██████████████▏                                                                | 717/4000 [00:09<00:45, 72.60it/s]"
     ]
    },
    {
     "name": "stdout",
     "output_type": "stream",
     "text": [
      "4839.01\n",
      "4843.564\n",
      "4831.0527\n",
      "4824.0215\n",
      "4820.521\n",
      "4819.8906\n",
      "4815.233\n",
      "4808.938\n",
      "4805.159\n"
     ]
    },
    {
     "name": "stderr",
     "output_type": "stream",
     "text": [
      "\r",
      " 18%|██████████████▎                                                                | 726/4000 [00:09<00:45, 72.63it/s]"
     ]
    },
    {
     "name": "stdout",
     "output_type": "stream",
     "text": [
      "4803.1543\n",
      "4798.9775\n",
      "4797.617\n",
      "4790.0537\n",
      "4787.404\n",
      "4784.5938\n",
      "4780.367\n",
      "4792.481\n"
     ]
    },
    {
     "name": "stderr",
     "output_type": "stream",
     "text": [
      "\r",
      " 18%|██████████████▍                                                                | 734/4000 [00:10<00:44, 72.69it/s]"
     ]
    },
    {
     "name": "stdout",
     "output_type": "stream",
     "text": [
      "4771.4653\n",
      "4768.421\n",
      "4763.8984\n",
      "4764.856\n",
      "4759.038\n",
      "4760.67\n",
      "4754.4023\n",
      "4747.1826\n",
      "4745.036\n"
     ]
    },
    {
     "name": "stderr",
     "output_type": "stream",
     "text": [
      "\r",
      " 19%|██████████████▋                                                                | 743/4000 [00:10<00:44, 72.77it/s]"
     ]
    },
    {
     "name": "stdout",
     "output_type": "stream",
     "text": [
      "4740.4927\n",
      "4749.1816\n",
      "4733.3604\n",
      "4728.54\n",
      "4727.7183\n",
      "4724.151\n",
      "4720.496\n",
      "4721.0\n"
     ]
    },
    {
     "name": "stderr",
     "output_type": "stream",
     "text": [
      "\r",
      " 19%|██████████████▊                                                                | 751/4000 [00:10<00:44, 72.77it/s]"
     ]
    },
    {
     "name": "stdout",
     "output_type": "stream",
     "text": [
      "4713.688\n",
      "4712.008\n",
      "4704.949\n",
      "4701.242\n",
      "4710.833\n",
      "4707.2705\n",
      "4688.927\n",
      "4690.879\n"
     ]
    },
    {
     "name": "stderr",
     "output_type": "stream",
     "text": [
      "\r",
      " 19%|██████████████▉                                                                | 759/4000 [00:10<00:44, 72.83it/s]"
     ]
    },
    {
     "name": "stdout",
     "output_type": "stream",
     "text": [
      "4684.6304\n",
      "4679.2773\n",
      "4675.573\n",
      "4673.9688\n",
      "4678.96\n",
      "4666.477\n",
      "4663.987\n",
      "4658.875\n",
      "4667.044\n"
     ]
    },
    {
     "name": "stderr",
     "output_type": "stream",
     "text": [
      "\r",
      " 19%|███████████████▏                                                               | 768/4000 [00:10<00:44, 72.91it/s]"
     ]
    },
    {
     "name": "stdout",
     "output_type": "stream",
     "text": [
      "4652.47\n",
      "4647.6147\n",
      "4646.1226\n",
      "4640.5947\n",
      "4636.7354\n",
      "4633.065\n",
      "4634.018\n",
      "4626.235\n"
     ]
    },
    {
     "name": "stderr",
     "output_type": "stream",
     "text": [
      "\r",
      " 19%|███████████████▎                                                               | 776/4000 [00:10<00:44, 72.97it/s]"
     ]
    },
    {
     "name": "stdout",
     "output_type": "stream",
     "text": [
      "4626.007\n",
      "4618.933\n",
      "4621.799\n",
      "4623.4727\n",
      "4612.426\n",
      "4625.798\n",
      "4605.4487\n",
      "4598.5923\n",
      "4597.203\n"
     ]
    },
    {
     "name": "stderr",
     "output_type": "stream",
     "text": [
      "\r",
      " 20%|███████████████▌                                                               | 785/4000 [00:10<00:44, 73.06it/s]"
     ]
    },
    {
     "name": "stdout",
     "output_type": "stream",
     "text": [
      "4597.6694\n",
      "4589.2114\n",
      "4586.1733\n",
      "4581.2236\n",
      "4582.54\n",
      "4575.444\n",
      "4572.1514\n",
      "4567.9697\n"
     ]
    },
    {
     "name": "stderr",
     "output_type": "stream",
     "text": [
      "\r",
      " 20%|███████████████▋                                                               | 793/4000 [00:10<00:43, 72.92it/s]"
     ]
    },
    {
     "name": "stdout",
     "output_type": "stream",
     "text": [
      "4564.4854\n",
      "4562.08\n",
      "4557.3228\n",
      "4559.103\n",
      "4552.42\n",
      "4547.0127\n",
      "4556.8223\n",
      "4541.5776\n",
      "4538.001\n"
     ]
    },
    {
     "name": "stderr",
     "output_type": "stream",
     "text": [
      "\r",
      " 20%|███████████████▊                                                               | 802/4000 [00:10<00:43, 73.02it/s]"
     ]
    },
    {
     "name": "stdout",
     "output_type": "stream",
     "text": [
      "4533.1587\n",
      "4536.038\n",
      "4527.8574\n",
      "4523.0967\n",
      "4520.9644\n",
      "4519.241\n",
      "4512.617\n",
      "4512.3613\n"
     ]
    },
    {
     "name": "stderr",
     "output_type": "stream",
     "text": [
      "\r",
      " 20%|███████████████▉                                                               | 810/4000 [00:11<00:43, 73.03it/s]"
     ]
    },
    {
     "name": "stdout",
     "output_type": "stream",
     "text": [
      "4511.2646\n",
      "4503.503\n",
      "4520.9214\n",
      "4496.1187\n",
      "4492.815\n",
      "4490.181\n",
      "4486.953\n",
      "4484.6084\n"
     ]
    },
    {
     "name": "stderr",
     "output_type": "stream",
     "text": [
      "\r",
      " 20%|████████████████▏                                                              | 818/4000 [00:11<00:43, 73.00it/s]"
     ]
    },
    {
     "name": "stdout",
     "output_type": "stream",
     "text": [
      "4479.885\n",
      "4477.0264\n",
      "4474.8623\n",
      "4477.945\n",
      "4466.837\n",
      "4465.193\n",
      "4463.2354\n",
      "4459.072\n"
     ]
    },
    {
     "name": "stderr",
     "output_type": "stream",
     "text": [
      "\r",
      " 21%|████████████████▎                                                              | 826/4000 [00:11<00:43, 72.99it/s]"
     ]
    },
    {
     "name": "stdout",
     "output_type": "stream",
     "text": [
      "4456.5225\n",
      "4450.211\n",
      "4446.8237\n",
      "4443.6694\n",
      "4440.238\n",
      "4439.81\n",
      "4434.9443\n",
      "4432.654\n"
     ]
    },
    {
     "name": "stderr",
     "output_type": "stream",
     "text": [
      "\r",
      " 21%|████████████████▍                                                              | 834/4000 [00:11<00:43, 72.97it/s]"
     ]
    },
    {
     "name": "stdout",
     "output_type": "stream",
     "text": [
      "4426.8896\n",
      "4424.7974\n",
      "4425.7754\n",
      "4417.9653\n",
      "4414.575\n",
      "4412.7383\n",
      "4407.373\n",
      "4404.584\n"
     ]
    },
    {
     "name": "stderr",
     "output_type": "stream",
     "text": [
      "\r",
      " 21%|████████████████▋                                                              | 842/4000 [00:11<00:43, 73.01it/s]"
     ]
    },
    {
     "name": "stdout",
     "output_type": "stream",
     "text": [
      "4400.8135\n",
      "4398.3447\n",
      "4396.5415\n",
      "4391.1357\n",
      "4388.681\n",
      "4385.0117\n",
      "4381.7754\n",
      "4378.843\n"
     ]
    },
    {
     "name": "stderr",
     "output_type": "stream",
     "text": [
      "\r",
      " 21%|████████████████▊                                                              | 850/4000 [00:11<00:43, 73.06it/s]"
     ]
    },
    {
     "name": "stdout",
     "output_type": "stream",
     "text": [
      "4375.254\n",
      "4371.8047\n",
      "4369.4907\n",
      "4366.04\n",
      "4364.2812\n",
      "4359.8135\n",
      "4356.947\n",
      "4352.9985\n"
     ]
    },
    {
     "name": "stderr",
     "output_type": "stream",
     "text": [
      "\r",
      " 21%|████████████████▉                                                              | 858/4000 [00:11<00:42, 73.11it/s]"
     ]
    },
    {
     "name": "stdout",
     "output_type": "stream",
     "text": [
      "4349.402\n",
      "4345.9604\n",
      "4343.3433\n",
      "4350.655\n",
      "4336.718\n",
      "4333.854\n",
      "4330.521\n",
      "4326.69\n"
     ]
    },
    {
     "name": "stderr",
     "output_type": "stream",
     "text": [
      "\r",
      " 22%|█████████████████                                                              | 866/4000 [00:11<00:42, 73.12it/s]"
     ]
    },
    {
     "name": "stdout",
     "output_type": "stream",
     "text": [
      "4324.1636\n",
      "4321.6445\n",
      "4322.1113\n",
      "4315.32\n",
      "4320.297\n",
      "4308.601\n",
      "4306.3296\n",
      "4302.8423\n",
      "4299.2354\n"
     ]
    },
    {
     "name": "stderr",
     "output_type": "stream",
     "text": [
      "\r",
      " 22%|█████████████████▎                                                             | 875/4000 [00:11<00:42, 73.20it/s]"
     ]
    },
    {
     "name": "stdout",
     "output_type": "stream",
     "text": [
      "4296.0117\n",
      "4292.643\n",
      "4289.282\n",
      "4286.8477\n",
      "4283.822\n",
      "4280.7373\n",
      "4276.9854\n",
      "4285.6504\n",
      "4271.486\n"
     ]
    },
    {
     "name": "stderr",
     "output_type": "stream",
     "text": [
      "\r",
      " 22%|█████████████████▍                                                             | 884/4000 [00:12<00:42, 73.28it/s]"
     ]
    },
    {
     "name": "stdout",
     "output_type": "stream",
     "text": [
      "4267.852\n",
      "4264.722\n",
      "4261.6895\n",
      "4258.2236\n",
      "4255.373\n",
      "4252.002\n",
      "4248.8467\n",
      "4246.8237\n",
      "4243.4272\n"
     ]
    },
    {
     "name": "stderr",
     "output_type": "stream",
     "text": [
      "\r",
      " 22%|█████████████████▋                                                             | 893/4000 [00:12<00:42, 73.37it/s]"
     ]
    },
    {
     "name": "stdout",
     "output_type": "stream",
     "text": [
      "4239.57\n",
      "4245.3374\n",
      "4233.055\n",
      "4238.5645\n",
      "4227.1484\n",
      "4224.955\n",
      "4221.9844\n",
      "4221.0615\n",
      "4215.6587\n"
     ]
    },
    {
     "name": "stderr",
     "output_type": "stream",
     "text": [
      "\r",
      " 23%|█████████████████▊                                                             | 902/4000 [00:12<00:42, 73.41it/s]"
     ]
    },
    {
     "name": "stdout",
     "output_type": "stream",
     "text": [
      "4212.8955\n",
      "4217.037\n",
      "4208.3877\n",
      "4204.3047\n",
      "4200.92\n",
      "4197.173\n",
      "4199.9663\n",
      "4191.0093\n"
     ]
    },
    {
     "name": "stderr",
     "output_type": "stream",
     "text": [
      "\r",
      " 23%|█████████████████▉                                                             | 910/4000 [00:12<00:42, 73.44it/s]"
     ]
    },
    {
     "name": "stdout",
     "output_type": "stream",
     "text": [
      "4188.1484\n",
      "4184.244\n",
      "4182.203\n",
      "4178.6646\n",
      "4183.1665\n",
      "4172.5303\n",
      "4174.3037\n",
      "4166.7334\n"
     ]
    },
    {
     "name": "stderr",
     "output_type": "stream",
     "text": [
      "\r",
      " 23%|██████████████████▏                                                            | 918/4000 [00:12<00:41, 73.40it/s]"
     ]
    },
    {
     "name": "stdout",
     "output_type": "stream",
     "text": [
      "4163.8926\n",
      "4159.805\n",
      "4157.2715\n",
      "4154.793\n",
      "4151.444\n",
      "4149.294\n",
      "4146.2236\n",
      "4142.7925\n",
      "4139.574\n"
     ]
    },
    {
     "name": "stderr",
     "output_type": "stream",
     "text": [
      "\r",
      " 23%|██████████████████▎                                                            | 927/4000 [00:12<00:41, 73.46it/s]"
     ]
    },
    {
     "name": "stdout",
     "output_type": "stream",
     "text": [
      "4136.9536\n",
      "4134.003\n",
      "4130.637\n",
      "4127.105\n",
      "4132.5654\n",
      "4121.79\n",
      "4130.114\n",
      "4115.5825\n"
     ]
    },
    {
     "name": "stderr",
     "output_type": "stream",
     "text": [
      "\r",
      " 23%|██████████████████▍                                                            | 935/4000 [00:12<00:41, 73.48it/s]"
     ]
    },
    {
     "name": "stdout",
     "output_type": "stream",
     "text": [
      "4112.633\n",
      "4109.8994\n",
      "4106.4165\n",
      "4103.572\n",
      "4101.0293\n",
      "4097.8545\n",
      "4094.7988\n",
      "4100.3213\n"
     ]
    },
    {
     "name": "stderr",
     "output_type": "stream",
     "text": [
      "\r",
      " 24%|██████████████████▌                                                            | 943/4000 [00:12<00:41, 73.47it/s]"
     ]
    },
    {
     "name": "stdout",
     "output_type": "stream",
     "text": [
      "4089.0366\n",
      "4085.7625\n",
      "4083.794\n",
      "4079.6255\n",
      "4077.3027\n",
      "4073.5464\n",
      "4071.1875\n",
      "4068.2915\n",
      "4065.976\n"
     ]
    },
    {
     "name": "stderr",
     "output_type": "stream",
     "text": [
      "\r",
      " 24%|██████████████████▊                                                            | 952/4000 [00:12<00:41, 73.53it/s]"
     ]
    },
    {
     "name": "stdout",
     "output_type": "stream",
     "text": [
      "4062.5542\n",
      "4059.3806\n",
      "4056.3232\n",
      "4053.183\n",
      "4051.0999\n",
      "4046.9797\n",
      "4045.2344\n",
      "4048.7212\n",
      "4038.6885\n"
     ]
    },
    {
     "name": "stderr",
     "output_type": "stream",
     "text": [
      "\r",
      " 24%|██████████████████▉                                                            | 961/4000 [00:13<00:41, 73.60it/s]"
     ]
    },
    {
     "name": "stdout",
     "output_type": "stream",
     "text": [
      "4035.751\n",
      "4033.0356\n",
      "4029.42\n",
      "4027.4922\n",
      "4024.4453\n",
      "4021.3315\n",
      "4018.4468\n",
      "4015.7197\n",
      "4013.2988\n"
     ]
    },
    {
     "name": "stderr",
     "output_type": "stream",
     "text": [
      "\r",
      " 24%|███████████████████▏                                                           | 970/4000 [00:13<00:41, 73.67it/s]"
     ]
    },
    {
     "name": "stdout",
     "output_type": "stream",
     "text": [
      "4011.0103\n",
      "4017.4048\n",
      "4004.1663\n",
      "4003.601\n",
      "3998.455\n",
      "3995.561\n",
      "3993.7817\n",
      "3989.7463\n",
      "3987.0654\n"
     ]
    },
    {
     "name": "stderr",
     "output_type": "stream",
     "text": [
      "\r",
      " 24%|███████████████████▎                                                           | 979/4000 [00:13<00:40, 73.76it/s]"
     ]
    },
    {
     "name": "stdout",
     "output_type": "stream",
     "text": [
      "3983.8823\n",
      "3981.5044\n",
      "3985.2888\n",
      "3974.8857\n",
      "3972.5537\n",
      "3969.9048\n",
      "3976.8318\n",
      "3963.9978\n",
      "3961.062\n"
     ]
    },
    {
     "name": "stderr",
     "output_type": "stream",
     "text": [
      "\r",
      " 25%|███████████████████▌                                                           | 988/4000 [00:13<00:40, 73.72it/s]"
     ]
    },
    {
     "name": "stdout",
     "output_type": "stream",
     "text": [
      "3958.7031\n",
      "3957.7998\n",
      "3951.877\n",
      "3949.2979\n",
      "3946.7651\n",
      "3943.69\n",
      "3940.2314\n",
      "3937.736\n"
     ]
    },
    {
     "name": "stderr",
     "output_type": "stream",
     "text": [
      "\r",
      " 25%|███████████████████▋                                                           | 996/4000 [00:13<00:40, 73.76it/s]"
     ]
    },
    {
     "name": "stdout",
     "output_type": "stream",
     "text": [
      "3934.497\n",
      "3931.0615\n",
      "3928.3901\n",
      "3926.996\n",
      "3922.7607\n",
      "3920.4487\n",
      "3923.606\n",
      "3914.4329\n",
      "3910.7695\n"
     ]
    },
    {
     "name": "stderr",
     "output_type": "stream",
     "text": [
      "\r",
      " 25%|███████████████████▌                                                          | 1005/4000 [00:13<00:40, 73.82it/s]"
     ]
    },
    {
     "name": "stdout",
     "output_type": "stream",
     "text": [
      "3909.4692\n",
      "3906.6353\n",
      "3903.5034\n",
      "3899.4028\n",
      "3898.0322\n",
      "3893.969\n",
      "3891.1177\n",
      "3892.8574\n",
      "3886.3584\n"
     ]
    },
    {
     "name": "stderr",
     "output_type": "stream",
     "text": [
      "\r",
      " 25%|███████████████████▊                                                          | 1014/4000 [00:13<00:40, 73.91it/s]"
     ]
    },
    {
     "name": "stdout",
     "output_type": "stream",
     "text": [
      "3880.8506\n",
      "3888.667\n",
      "3875.9358\n",
      "3872.9604\n",
      "3870.9019\n",
      "3867.9019\n",
      "3866.3418\n",
      "3863.524\n",
      "3858.8403\n"
     ]
    },
    {
     "name": "stderr",
     "output_type": "stream",
     "text": [
      "\r",
      " 26%|███████████████████▉                                                          | 1023/4000 [00:13<00:40, 73.92it/s]"
     ]
    },
    {
     "name": "stdout",
     "output_type": "stream",
     "text": [
      "3857.3687\n",
      "3854.602\n",
      "3854.191\n",
      "3852.1924\n",
      "3846.683\n",
      "3860.327\n",
      "3840.6892\n",
      "3838.67\n"
     ]
    },
    {
     "name": "stderr",
     "output_type": "stream",
     "text": [
      "\r",
      " 26%|████████████████████                                                          | 1031/4000 [00:13<00:40, 73.90it/s]"
     ]
    },
    {
     "name": "stdout",
     "output_type": "stream",
     "text": [
      "3835.4836\n",
      "3832.545\n",
      "3830.4624\n",
      "3826.6504\n",
      "3832.7314\n",
      "3820.2507\n",
      "3820.9626\n",
      "3822.1255\n",
      "3814.913\n"
     ]
    },
    {
     "name": "stderr",
     "output_type": "stream",
     "text": [
      "\r",
      " 26%|████████████████████▎                                                         | 1040/4000 [00:14<00:40, 73.97it/s]"
     ]
    },
    {
     "name": "stdout",
     "output_type": "stream",
     "text": [
      "3811.2358\n",
      "3809.1245\n",
      "3806.4482\n",
      "3801.6912\n",
      "3800.1958\n",
      "3797.4897\n",
      "3796.061\n",
      "3792.2441\n",
      "3789.3845\n"
     ]
    },
    {
     "name": "stderr",
     "output_type": "stream",
     "text": [
      "\r",
      " 26%|████████████████████▍                                                         | 1049/4000 [00:14<00:39, 74.03it/s]"
     ]
    },
    {
     "name": "stdout",
     "output_type": "stream",
     "text": [
      "3787.7344\n",
      "3784.3875\n",
      "3784.9097\n",
      "3777.4438\n",
      "3784.9937\n",
      "3774.9626\n",
      "3770.9653\n",
      "3768.4824\n",
      "3764.9644\n"
     ]
    },
    {
     "name": "stderr",
     "output_type": "stream",
     "text": [
      "\r",
      " 26%|████████████████████▋                                                         | 1058/4000 [00:14<00:39, 74.11it/s]"
     ]
    },
    {
     "name": "stdout",
     "output_type": "stream",
     "text": [
      "3762.8364\n",
      "3763.9468\n",
      "3757.9255\n",
      "3755.9321\n",
      "3752.4746\n",
      "3749.0835\n",
      "3755.8186\n",
      "3752.8484\n",
      "3742.6155\n"
     ]
    },
    {
     "name": "stderr",
     "output_type": "stream",
     "text": [
      "\r",
      " 27%|████████████████████▊                                                         | 1067/4000 [00:14<00:39, 74.13it/s]"
     ]
    },
    {
     "name": "stdout",
     "output_type": "stream",
     "text": [
      "3739.387\n",
      "3737.214\n",
      "3733.727\n",
      "3730.1836\n",
      "3728.7383\n",
      "3726.308\n",
      "3723.6074\n",
      "3720.2012\n"
     ]
    },
    {
     "name": "stderr",
     "output_type": "stream",
     "text": [
      "\r",
      " 27%|████████████████████▉                                                         | 1075/4000 [00:14<00:39, 74.16it/s]"
     ]
    },
    {
     "name": "stdout",
     "output_type": "stream",
     "text": [
      "3717.667\n",
      "3716.6387\n",
      "3711.723\n",
      "3710.8042\n",
      "3708.3862\n",
      "3711.6724\n",
      "3702.1553\n",
      "3699.1768\n",
      "3697.357\n"
     ]
    },
    {
     "name": "stderr",
     "output_type": "stream",
     "text": [
      "\r",
      " 27%|█████████████████████▏                                                        | 1084/4000 [00:14<00:39, 74.23it/s]"
     ]
    },
    {
     "name": "stdout",
     "output_type": "stream",
     "text": [
      "3693.9663\n",
      "3692.771\n",
      "3689.267\n",
      "3690.332\n",
      "3687.4082\n",
      "3684.543\n",
      "3685.794\n",
      "3682.0845\n",
      "3676.4502\n"
     ]
    },
    {
     "name": "stderr",
     "output_type": "stream",
     "text": [
      "\r",
      " 27%|█████████████████████▎                                                        | 1093/4000 [00:14<00:39, 74.26it/s]"
     ]
    },
    {
     "name": "stdout",
     "output_type": "stream",
     "text": [
      "3677.564\n",
      "3675.2615\n",
      "3665.7605\n",
      "3662.8843\n",
      "3661.267\n",
      "3658.8145\n",
      "3656.945\n",
      "3652.8\n"
     ]
    },
    {
     "name": "stderr",
     "output_type": "stream",
     "text": [
      "\r",
      " 28%|█████████████████████▍                                                        | 1101/4000 [00:14<00:39, 74.22it/s]"
     ]
    },
    {
     "name": "stdout",
     "output_type": "stream",
     "text": [
      "3650.6934\n",
      "3647.2393\n",
      "3646.3125\n",
      "3642.6116\n",
      "3643.2217\n",
      "3644.9407\n",
      "3635.1072\n",
      "3634.9204\n"
     ]
    },
    {
     "name": "stderr",
     "output_type": "stream",
     "text": [
      "\r",
      " 28%|█████████████████████▋                                                        | 1109/4000 [00:14<00:38, 74.20it/s]"
     ]
    },
    {
     "name": "stdout",
     "output_type": "stream",
     "text": [
      "3631.384\n",
      "3627.7656\n",
      "3626.4639\n",
      "3621.5212\n",
      "3620.3313\n",
      "3621.3003\n",
      "3618.415\n",
      "3612.5115\n"
     ]
    },
    {
     "name": "stderr",
     "output_type": "stream",
     "text": [
      "\r",
      " 28%|█████████████████████▊                                                        | 1117/4000 [00:15<00:38, 74.14it/s]"
     ]
    },
    {
     "name": "stdout",
     "output_type": "stream",
     "text": [
      "3610.3628\n",
      "3608.517\n",
      "3605.3108\n",
      "3601.886\n",
      "3599.7651\n",
      "3596.3372\n",
      "3594.87\n",
      "3591.6108\n"
     ]
    },
    {
     "name": "stderr",
     "output_type": "stream",
     "text": [
      "\r",
      " 28%|█████████████████████▉                                                        | 1125/4000 [00:15<00:38, 73.92it/s]"
     ]
    },
    {
     "name": "stdout",
     "output_type": "stream",
     "text": [
      "3590.2314\n",
      "3585.7593\n",
      "3588.8843\n",
      "3588.1943\n",
      "3579.7004\n",
      "3578.541\n",
      "3574.0195\n"
     ]
    },
    {
     "name": "stderr",
     "output_type": "stream",
     "text": [
      "\r",
      " 28%|██████████████████████                                                        | 1132/4000 [00:15<00:38, 73.80it/s]"
     ]
    },
    {
     "name": "stdout",
     "output_type": "stream",
     "text": [
      "3576.481\n",
      "3568.4111\n",
      "3568.835\n",
      "3564.2856\n",
      "3562.311\n",
      "3559.4275\n",
      "3555.871\n"
     ]
    },
    {
     "name": "stderr",
     "output_type": "stream",
     "text": [
      "\r",
      " 28%|██████████████████████▏                                                       | 1139/4000 [00:15<00:38, 73.73it/s]"
     ]
    },
    {
     "name": "stdout",
     "output_type": "stream",
     "text": [
      "3561.275\n",
      "3551.6768\n",
      "3550.2026\n",
      "3550.814\n",
      "3545.1465\n",
      "3542.161\n",
      "3540.668\n",
      "3537.0364\n"
     ]
    },
    {
     "name": "stderr",
     "output_type": "stream",
     "text": [
      "\r",
      " 29%|██████████████████████▎                                                       | 1147/4000 [00:15<00:38, 73.74it/s]"
     ]
    },
    {
     "name": "stdout",
     "output_type": "stream",
     "text": [
      "3534.6875\n",
      "3536.343\n",
      "3536.53\n",
      "3532.1746\n",
      "3525.1733\n",
      "3522.1401\n",
      "3521.4014\n",
      "3517.546\n",
      "3515.2915\n"
     ]
    },
    {
     "name": "stderr",
     "output_type": "stream",
     "text": [
      "\r",
      " 29%|██████████████████████▌                                                       | 1156/4000 [00:15<00:38, 73.76it/s]"
     ]
    },
    {
     "name": "stdout",
     "output_type": "stream",
     "text": [
      "3512.8403\n",
      "3511.859\n",
      "3507.8237\n",
      "3505.9297\n",
      "3503.2769\n",
      "3500.2495\n",
      "3498.0315\n",
      "3494.4521\n"
     ]
    },
    {
     "name": "stderr",
     "output_type": "stream",
     "text": [
      "\r",
      " 29%|██████████████████████▋                                                       | 1164/4000 [00:15<00:38, 73.55it/s]"
     ]
    },
    {
     "name": "stdout",
     "output_type": "stream",
     "text": [
      "3492.2751\n",
      "3490.9639\n",
      "3486.9922\n",
      "3486.7388\n",
      "3482.4604\n",
      "3481.5461\n",
      "3478.1162\n"
     ]
    },
    {
     "name": "stderr",
     "output_type": "stream",
     "text": [
      "\r",
      " 29%|██████████████████████▊                                                       | 1171/4000 [00:15<00:38, 73.45it/s]"
     ]
    },
    {
     "name": "stdout",
     "output_type": "stream",
     "text": [
      "3478.9326\n",
      "3472.6636\n",
      "3470.4858\n",
      "3470.5269\n",
      "3466.3618\n",
      "3463.7314\n",
      "3462.1104\n"
     ]
    },
    {
     "name": "stderr",
     "output_type": "stream",
     "text": [
      "\r",
      " 29%|██████████████████████▉                                                       | 1178/4000 [00:16<00:38, 73.39it/s]"
     ]
    },
    {
     "name": "stdout",
     "output_type": "stream",
     "text": [
      "3459.4966\n",
      "3455.9148\n",
      "3457.667\n",
      "3451.0767\n",
      "3449.4941\n",
      "3447.3188\n",
      "3444.6953\n"
     ]
    },
    {
     "name": "stderr",
     "output_type": "stream",
     "text": [
      "\r",
      " 30%|███████████████████████                                                       | 1185/4000 [00:16<00:38, 73.28it/s]"
     ]
    },
    {
     "name": "stdout",
     "output_type": "stream",
     "text": [
      "3442.8948\n",
      "3440.3535\n",
      "3437.5146\n",
      "3435.0098\n",
      "3432.0562\n",
      "3430.7246\n",
      "3427.2778\n"
     ]
    },
    {
     "name": "stderr",
     "output_type": "stream",
     "text": [
      "\r",
      " 30%|███████████████████████▏                                                      | 1192/4000 [00:16<00:38, 73.13it/s]"
     ]
    },
    {
     "name": "stdout",
     "output_type": "stream",
     "text": [
      "3425.1875\n",
      "3421.4429\n",
      "3421.5098\n",
      "3417.9395\n",
      "3416.1528\n",
      "3419.458\n",
      "3410.7153\n"
     ]
    },
    {
     "name": "stderr",
     "output_type": "stream",
     "text": [
      "\r",
      " 30%|███████████████████████▍                                                      | 1199/4000 [00:16<00:38, 73.04it/s]"
     ]
    },
    {
     "name": "stdout",
     "output_type": "stream",
     "text": [
      "3407.909\n",
      "3406.7417\n",
      "3403.9788\n",
      "3402.2988\n",
      "3405.4634\n",
      "3403.0068\n",
      "3395.234\n"
     ]
    },
    {
     "name": "stderr",
     "output_type": "stream",
     "text": [
      "\r",
      " 30%|███████████████████████▌                                                      | 1206/4000 [00:16<00:38, 73.01it/s]"
     ]
    },
    {
     "name": "stdout",
     "output_type": "stream",
     "text": [
      "3391.3477\n",
      "3388.8188\n",
      "3392.544\n",
      "3384.6357\n",
      "3383.375\n",
      "3380.2332\n",
      "3378.5852\n",
      "3387.7476\n"
     ]
    },
    {
     "name": "stderr",
     "output_type": "stream",
     "text": [
      "\r",
      " 30%|███████████████████████▋                                                      | 1214/4000 [00:16<00:38, 73.01it/s]"
     ]
    },
    {
     "name": "stdout",
     "output_type": "stream",
     "text": [
      "3377.1055\n",
      "3372.0056\n",
      "3377.0916\n",
      "3365.8213\n",
      "3363.2776\n",
      "3362.0664\n",
      "3359.1973\n",
      "3356.7231\n",
      "3354.7607\n"
     ]
    },
    {
     "name": "stderr",
     "output_type": "stream",
     "text": [
      "\r",
      " 31%|███████████████████████▊                                                      | 1223/4000 [00:16<00:38, 73.06it/s]"
     ]
    },
    {
     "name": "stdout",
     "output_type": "stream",
     "text": [
      "3351.6226\n",
      "3348.8408\n",
      "3347.1812\n",
      "3345.439\n",
      "3342.4795\n",
      "3340.4307\n",
      "3338.2432\n",
      "3335.2354\n"
     ]
    },
    {
     "name": "stderr",
     "output_type": "stream",
     "text": [
      "\r",
      " 31%|████████████████████████                                                      | 1231/4000 [00:16<00:37, 73.09it/s]"
     ]
    },
    {
     "name": "stdout",
     "output_type": "stream",
     "text": [
      "3334.0754\n",
      "3331.6865\n",
      "3331.3071\n",
      "3326.325\n",
      "3324.7344\n",
      "3321.8472\n",
      "3319.0508\n",
      "3317.0054\n"
     ]
    },
    {
     "name": "stderr",
     "output_type": "stream",
     "text": [
      "\r",
      " 31%|████████████████████████▏                                                     | 1239/4000 [00:16<00:37, 73.09it/s]"
     ]
    },
    {
     "name": "stdout",
     "output_type": "stream",
     "text": [
      "3317.7026\n",
      "3312.2332\n",
      "3309.751\n",
      "3307.9766\n",
      "3311.2075\n",
      "3303.9678\n",
      "3301.3772\n",
      "3299.3652\n",
      "3296.128\n"
     ]
    },
    {
     "name": "stderr",
     "output_type": "stream",
     "text": [
      "\r",
      " 31%|████████████████████████▎                                                     | 1248/4000 [00:17<00:37, 73.14it/s]"
     ]
    },
    {
     "name": "stdout",
     "output_type": "stream",
     "text": [
      "3294.0908\n",
      "3299.0537\n",
      "3289.7783\n",
      "3287.6973\n",
      "3284.7803\n",
      "3285.2607\n",
      "3280.9814\n",
      "3278.9043\n"
     ]
    },
    {
     "name": "stderr",
     "output_type": "stream",
     "text": [
      "\r",
      " 31%|████████████████████████▍                                                     | 1256/4000 [00:17<00:37, 73.03it/s]"
     ]
    },
    {
     "name": "stdout",
     "output_type": "stream",
     "text": [
      "3275.5852\n",
      "3273.4497\n",
      "3271.7446\n",
      "3269.7886\n",
      "3266.7266\n",
      "3265.0703\n",
      "3261.6543\n",
      "3261.4592\n"
     ]
    },
    {
     "name": "stderr",
     "output_type": "stream",
     "text": [
      "\r",
      " 32%|████████████████████████▋                                                     | 1264/4000 [00:17<00:37, 72.91it/s]"
     ]
    },
    {
     "name": "stdout",
     "output_type": "stream",
     "text": [
      "3258.4658\n",
      "3259.4473\n",
      "3252.7668\n",
      "3250.539\n",
      "3254.296\n",
      "3246.6094\n",
      "3243.8945\n"
     ]
    },
    {
     "name": "stderr",
     "output_type": "stream",
     "text": [
      "\r",
      " 32%|████████████████████████▊                                                     | 1271/4000 [00:17<00:37, 72.77it/s]"
     ]
    },
    {
     "name": "stdout",
     "output_type": "stream",
     "text": [
      "3241.4263\n",
      "3239.8652\n",
      "3243.0608\n",
      "3236.1157\n",
      "3232.5288\n",
      "3230.6606\n",
      "3227.977\n"
     ]
    },
    {
     "name": "stderr",
     "output_type": "stream",
     "text": [
      "\r",
      " 32%|████████████████████████▉                                                     | 1278/4000 [00:17<00:37, 72.73it/s]"
     ]
    },
    {
     "name": "stdout",
     "output_type": "stream",
     "text": [
      "3225.8286\n",
      "3224.021\n",
      "3221.5435\n",
      "3220.017\n",
      "3217.545\n",
      "3215.327\n",
      "3220.8657\n",
      "3210.7102\n"
     ]
    },
    {
     "name": "stderr",
     "output_type": "stream",
     "text": [
      "\r",
      " 32%|█████████████████████████                                                     | 1286/4000 [00:17<00:37, 72.76it/s]"
     ]
    },
    {
     "name": "stdout",
     "output_type": "stream",
     "text": [
      "3208.5903\n",
      "3205.956\n",
      "3204.2856\n",
      "3202.195\n",
      "3199.3687\n",
      "3201.244\n",
      "3195.3496\n",
      "3195.7969\n",
      "3191.0303\n"
     ]
    },
    {
     "name": "stderr",
     "output_type": "stream",
     "text": [
      "\r",
      " 32%|█████████████████████████▎                                                    | 1295/4000 [00:17<00:37, 72.80it/s]"
     ]
    },
    {
     "name": "stdout",
     "output_type": "stream",
     "text": [
      "3188.2043\n",
      "3186.0403\n",
      "3184.586\n",
      "3181.7935\n",
      "3179.775\n",
      "3177.8662\n",
      "3175.2493\n",
      "3173.2546\n",
      "3170.5754\n"
     ]
    },
    {
     "name": "stderr",
     "output_type": "stream",
     "text": [
      "\r",
      " 33%|█████████████████████████▍                                                    | 1304/4000 [00:17<00:37, 72.86it/s]"
     ]
    },
    {
     "name": "stdout",
     "output_type": "stream",
     "text": [
      "3168.5566\n",
      "3166.3374\n",
      "3164.441\n",
      "3168.1895\n",
      "3166.8784\n",
      "3157.4678\n",
      "3155.6797\n",
      "3156.865\n"
     ]
    },
    {
     "name": "stderr",
     "output_type": "stream",
     "text": [
      "\r",
      " 33%|█████████████████████████▌                                                    | 1312/4000 [00:18<00:36, 72.89it/s]"
     ]
    },
    {
     "name": "stdout",
     "output_type": "stream",
     "text": [
      "3156.2368\n",
      "3149.3567\n",
      "3146.4873\n",
      "3144.7944\n",
      "3142.342\n",
      "3140.379\n",
      "3137.912\n",
      "3135.7808\n"
     ]
    },
    {
     "name": "stderr",
     "output_type": "stream",
     "text": [
      "\r",
      " 33%|█████████████████████████▋                                                    | 1320/4000 [00:18<00:36, 72.89it/s]"
     ]
    },
    {
     "name": "stdout",
     "output_type": "stream",
     "text": [
      "3138.8108\n",
      "3131.4746\n",
      "3129.813\n",
      "3127.6567\n",
      "3125.6504\n",
      "3122.8594\n",
      "3121.3193\n",
      "3119.0942\n"
     ]
    },
    {
     "name": "stderr",
     "output_type": "stream",
     "text": [
      "\r",
      " 33%|█████████████████████████▉                                                    | 1328/4000 [00:18<00:36, 72.76it/s]"
     ]
    },
    {
     "name": "stdout",
     "output_type": "stream",
     "text": [
      "3116.6545\n",
      "3114.1396\n",
      "3112.126\n",
      "3112.6045\n",
      "3108.0134\n",
      "3105.8623\n",
      "3110.1404\n"
     ]
    },
    {
     "name": "stderr",
     "output_type": "stream",
     "text": [
      "\r",
      " 33%|██████████████████████████                                                    | 1335/4000 [00:18<00:36, 72.63it/s]"
     ]
    },
    {
     "name": "stdout",
     "output_type": "stream",
     "text": [
      "3102.5256\n",
      "3100.3364\n",
      "3097.0654\n",
      "3095.0615\n",
      "3093.2969\n",
      "3091.5933\n",
      "3088.601\n",
      "3086.5088\n"
     ]
    },
    {
     "name": "stderr",
     "output_type": "stream",
     "text": [
      "\r",
      " 34%|██████████████████████████▏                                                   | 1343/4000 [00:18<00:36, 72.66it/s]"
     ]
    },
    {
     "name": "stdout",
     "output_type": "stream",
     "text": [
      "3084.4238\n",
      "3083.0854\n",
      "3080.5352\n",
      "3077.7246\n",
      "3076.1958\n",
      "3073.5154\n",
      "3072.148\n",
      "3069.9424\n"
     ]
    },
    {
     "name": "stderr",
     "output_type": "stream",
     "text": [
      "\r",
      " 34%|██████████████████████████▎                                                   | 1351/4000 [00:18<00:36, 72.67it/s]"
     ]
    },
    {
     "name": "stdout",
     "output_type": "stream",
     "text": [
      "3067.392\n",
      "3065.6794\n",
      "3063.1016\n",
      "3065.7183\n",
      "3063.269\n",
      "3056.6733\n",
      "3054.9282\n",
      "3052.479\n",
      "3051.2366\n"
     ]
    },
    {
     "name": "stderr",
     "output_type": "stream",
     "text": [
      "\r",
      " 34%|██████████████████████████▌                                                   | 1360/4000 [00:18<00:36, 72.72it/s]"
     ]
    },
    {
     "name": "stdout",
     "output_type": "stream",
     "text": [
      "3048.3184\n",
      "3047.638\n",
      "3044.0112\n",
      "3043.1714\n",
      "3042.875\n",
      "3038.2568\n",
      "3036.9836\n",
      "3033.7046\n",
      "3031.9575\n"
     ]
    },
    {
     "name": "stderr",
     "output_type": "stream",
     "text": [
      "\r",
      " 34%|██████████████████████████▋                                                   | 1369/4000 [00:18<00:36, 72.78it/s]"
     ]
    },
    {
     "name": "stdout",
     "output_type": "stream",
     "text": [
      "3029.9917\n",
      "3027.3105\n",
      "3025.6128\n",
      "3025.4463\n",
      "3021.0715\n",
      "3019.3042\n",
      "3020.2227\n",
      "3019.1013\n",
      "3012.9268\n"
     ]
    },
    {
     "name": "stderr",
     "output_type": "stream",
     "text": [
      "\r",
      " 34%|██████████████████████████▊                                                   | 1378/4000 [00:18<00:35, 72.84it/s]"
     ]
    },
    {
     "name": "stdout",
     "output_type": "stream",
     "text": [
      "3010.7637\n",
      "3011.5093\n",
      "3007.3374\n",
      "3004.393\n",
      "3002.6038\n",
      "3000.3386\n",
      "3001.9878\n",
      "2996.5244\n",
      "2994.207\n"
     ]
    },
    {
     "name": "stderr",
     "output_type": "stream",
     "text": [
      "\r",
      " 35%|███████████████████████████                                                   | 1387/4000 [00:19<00:35, 72.90it/s]"
     ]
    },
    {
     "name": "stdout",
     "output_type": "stream",
     "text": [
      "2992.729\n",
      "2990.185\n",
      "2988.6436\n",
      "2992.7988\n",
      "2988.0557\n",
      "2985.4302\n",
      "2980.1348\n",
      "2978.071\n"
     ]
    },
    {
     "name": "stderr",
     "output_type": "stream",
     "text": [
      "\r",
      " 35%|███████████████████████████▏                                                  | 1395/4000 [00:19<00:35, 72.90it/s]"
     ]
    },
    {
     "name": "stdout",
     "output_type": "stream",
     "text": [
      "2976.5166\n",
      "2974.8262\n",
      "2971.9219\n",
      "2969.6719\n",
      "2967.6982\n",
      "2965.7925\n",
      "2963.609\n",
      "2967.0776\n"
     ]
    },
    {
     "name": "stderr",
     "output_type": "stream",
     "text": [
      "\r",
      " 35%|███████████████████████████▎                                                  | 1403/4000 [00:19<00:35, 72.92it/s]"
     ]
    },
    {
     "name": "stdout",
     "output_type": "stream",
     "text": [
      "2959.4004\n",
      "2957.518\n",
      "2956.0554\n",
      "2953.3906\n",
      "2952.1094\n",
      "2949.5273\n",
      "2947.1975\n",
      "2945.1934\n",
      "2947.3877\n"
     ]
    },
    {
     "name": "stderr",
     "output_type": "stream",
     "text": [
      "\r",
      " 35%|███████████████████████████▌                                                  | 1412/4000 [00:19<00:35, 72.97it/s]"
     ]
    },
    {
     "name": "stdout",
     "output_type": "stream",
     "text": [
      "2941.1978\n",
      "2939.455\n",
      "2940.9556\n",
      "2937.7876\n",
      "2934.1626\n",
      "2931.9263\n",
      "2929.2568\n",
      "2927.8027\n",
      "2925.0244\n"
     ]
    },
    {
     "name": "stderr",
     "output_type": "stream",
     "text": [
      "\r",
      " 36%|███████████████████████████▋                                                  | 1421/4000 [00:19<00:35, 73.03it/s]"
     ]
    },
    {
     "name": "stdout",
     "output_type": "stream",
     "text": [
      "2923.0815\n",
      "2921.231\n",
      "2921.164\n",
      "2917.58\n",
      "2915.1758\n",
      "2913.2524\n",
      "2911.3862\n",
      "2909.1465\n",
      "2907.067\n"
     ]
    },
    {
     "name": "stderr",
     "output_type": "stream",
     "text": [
      "\r",
      " 36%|███████████████████████████▉                                                  | 1430/4000 [00:19<00:35, 73.09it/s]"
     ]
    },
    {
     "name": "stdout",
     "output_type": "stream",
     "text": [
      "2904.997\n",
      "2902.969\n",
      "2901.213\n",
      "2899.101\n",
      "2897.154\n",
      "2894.914\n",
      "2894.9712\n",
      "2890.776\n",
      "2893.4624\n"
     ]
    },
    {
     "name": "stderr",
     "output_type": "stream",
     "text": [
      "\r",
      " 36%|████████████████████████████                                                  | 1439/4000 [00:19<00:35, 73.15it/s]"
     ]
    },
    {
     "name": "stdout",
     "output_type": "stream",
     "text": [
      "2886.8364\n",
      "2885.1357\n",
      "2888.9302\n",
      "2881.1167\n",
      "2879.1328\n",
      "2879.4695\n",
      "2875.4058\n",
      "2873.3699\n",
      "2871.2478\n"
     ]
    },
    {
     "name": "stderr",
     "output_type": "stream",
     "text": [
      "\r",
      " 36%|████████████████████████████▏                                                 | 1448/4000 [00:19<00:34, 73.13it/s]"
     ]
    },
    {
     "name": "stdout",
     "output_type": "stream",
     "text": [
      "2872.1519\n",
      "2867.4468\n",
      "2865.3281\n",
      "2863.5063\n",
      "2861.4258\n",
      "2859.7295\n",
      "2857.9165\n",
      "2855.4456\n"
     ]
    },
    {
     "name": "stderr",
     "output_type": "stream",
     "text": [
      "\r",
      " 36%|████████████████████████████▍                                                 | 1456/4000 [00:19<00:34, 72.98it/s]"
     ]
    },
    {
     "name": "stdout",
     "output_type": "stream",
     "text": [
      "2853.586\n",
      "2851.4111\n",
      "2849.7412\n",
      "2847.962\n",
      "2846.061\n",
      "2844.482\n",
      "2841.4497\n",
      "2839.8987\n"
     ]
    },
    {
     "name": "stderr",
     "output_type": "stream",
     "text": [
      "\r",
      " 37%|████████████████████████████▌                                                 | 1464/4000 [00:20<00:34, 73.01it/s]"
     ]
    },
    {
     "name": "stdout",
     "output_type": "stream",
     "text": [
      "2838.088\n",
      "2839.4207\n",
      "2833.9443\n",
      "2832.122\n",
      "2830.2168\n",
      "2829.2024\n",
      "2826.8608\n",
      "2824.5732\n"
     ]
    },
    {
     "name": "stderr",
     "output_type": "stream",
     "text": [
      "\r",
      " 37%|████████████████████████████▋                                                 | 1472/4000 [00:20<00:34, 73.04it/s]"
     ]
    },
    {
     "name": "stdout",
     "output_type": "stream",
     "text": [
      "2822.3887\n",
      "2820.1626\n",
      "2818.62\n",
      "2816.5552\n",
      "2814.5498\n",
      "2812.65\n",
      "2810.6487\n",
      "2808.9355\n",
      "2806.4922\n"
     ]
    },
    {
     "name": "stderr",
     "output_type": "stream",
     "text": [
      "\r",
      " 37%|████████████████████████████▉                                                 | 1481/4000 [00:20<00:34, 73.08it/s]"
     ]
    },
    {
     "name": "stdout",
     "output_type": "stream",
     "text": [
      "2805.0156\n",
      "2802.5889\n",
      "2800.7168\n",
      "2798.9658\n",
      "2796.9526\n",
      "2796.01\n",
      "2793.0767\n",
      "2791.4116\n",
      "2789.31\n"
     ]
    },
    {
     "name": "stderr",
     "output_type": "stream",
     "text": [
      "\r",
      " 37%|█████████████████████████████                                                 | 1490/4000 [00:20<00:34, 73.13it/s]"
     ]
    },
    {
     "name": "stdout",
     "output_type": "stream",
     "text": [
      "2787.8706\n",
      "2785.8281\n",
      "2783.919\n",
      "2782.025\n",
      "2779.855\n",
      "2777.9126\n",
      "2775.8901\n",
      "2773.8608\n",
      "2771.6602\n"
     ]
    },
    {
     "name": "stderr",
     "output_type": "stream",
     "text": [
      "\r",
      " 37%|█████████████████████████████▏                                                | 1499/4000 [00:20<00:34, 73.19it/s]"
     ]
    },
    {
     "name": "stdout",
     "output_type": "stream",
     "text": [
      "2770.773\n",
      "2768.1729\n",
      "2766.084\n",
      "2764.463\n",
      "2762.4722\n",
      "2760.5806\n",
      "2758.58\n",
      "2757.1128\n",
      "2754.9407\n"
     ]
    },
    {
     "name": "stderr",
     "output_type": "stream",
     "text": [
      "\r",
      " 38%|█████████████████████████████▍                                                | 1508/4000 [00:20<00:34, 73.25it/s]"
     ]
    },
    {
     "name": "stdout",
     "output_type": "stream",
     "text": [
      "2753.3867\n",
      "2754.814\n",
      "2749.88\n",
      "2747.17\n",
      "2748.018\n",
      "2743.7192\n",
      "2741.3894\n",
      "2739.492\n",
      "2738.0627\n"
     ]
    },
    {
     "name": "stderr",
     "output_type": "stream",
     "text": [
      "\r",
      " 38%|█████████████████████████████▌                                                | 1517/4000 [00:20<00:33, 73.25it/s]"
     ]
    },
    {
     "name": "stdout",
     "output_type": "stream",
     "text": [
      "2735.9683\n",
      "2733.92\n",
      "2732.0344\n",
      "2731.037\n",
      "2728.2273\n",
      "2726.6577\n",
      "2725.1738\n",
      "2722.8447\n"
     ]
    },
    {
     "name": "stderr",
     "output_type": "stream",
     "text": [
      "\r",
      " 38%|█████████████████████████████▋                                                | 1525/4000 [00:20<00:33, 73.27it/s]"
     ]
    },
    {
     "name": "stdout",
     "output_type": "stream",
     "text": [
      "2721.0146\n",
      "2719.5186\n",
      "2717.7402\n",
      "2714.9941\n",
      "2713.357\n",
      "2711.5422\n",
      "2709.3555\n",
      "2707.7793\n",
      "2705.711\n"
     ]
    },
    {
     "name": "stderr",
     "output_type": "stream",
     "text": [
      "\r",
      " 38%|█████████████████████████████▉                                                | 1534/4000 [00:20<00:33, 73.31it/s]"
     ]
    },
    {
     "name": "stdout",
     "output_type": "stream",
     "text": [
      "2703.6074\n",
      "2702.2734\n",
      "2703.7534\n",
      "2702.6729\n",
      "2702.4102\n",
      "2695.0303\n",
      "2693.0142\n",
      "2691.3271\n",
      "2688.8306\n"
     ]
    },
    {
     "name": "stderr",
     "output_type": "stream",
     "text": [
      "\r",
      " 39%|██████████████████████████████                                                | 1543/4000 [00:21<00:33, 73.35it/s]"
     ]
    },
    {
     "name": "stdout",
     "output_type": "stream",
     "text": [
      "2687.187\n",
      "2685.2378\n",
      "2684.2288\n",
      "2686.0542\n",
      "2679.7324\n",
      "2678.3486\n",
      "2676.4348\n",
      "2674.5723\n",
      "2672.372\n"
     ]
    },
    {
     "name": "stderr",
     "output_type": "stream",
     "text": [
      "\r",
      " 39%|██████████████████████████████▎                                               | 1552/4000 [00:21<00:33, 73.37it/s]"
     ]
    },
    {
     "name": "stdout",
     "output_type": "stream",
     "text": [
      "2670.9946\n",
      "2668.9067\n",
      "2670.6294\n",
      "2666.1348\n",
      "2663.377\n",
      "2661.2007\n",
      "2659.9656\n",
      "2657.9688\n",
      "2656.5771\n"
     ]
    },
    {
     "name": "stderr",
     "output_type": "stream",
     "text": [
      "\r",
      " 39%|██████████████████████████████▍                                               | 1561/4000 [00:21<00:33, 73.42it/s]"
     ]
    },
    {
     "name": "stdout",
     "output_type": "stream",
     "text": [
      "2656.8994\n",
      "2652.4736\n",
      "2650.2954\n",
      "2648.6309\n",
      "2646.5015\n",
      "2644.74\n",
      "2643.2578\n",
      "2641.479\n",
      "2639.1914\n"
     ]
    },
    {
     "name": "stderr",
     "output_type": "stream",
     "text": [
      "\r",
      " 39%|██████████████████████████████▌                                               | 1570/4000 [00:21<00:33, 73.46it/s]"
     ]
    },
    {
     "name": "stdout",
     "output_type": "stream",
     "text": [
      "2637.7334\n",
      "2636.4412\n",
      "2634.1377\n",
      "2632.267\n",
      "2635.1262\n",
      "2628.4292\n",
      "2626.894\n",
      "2624.8857\n",
      "2622.8872\n"
     ]
    },
    {
     "name": "stderr",
     "output_type": "stream",
     "text": [
      "\r",
      " 39%|██████████████████████████████▊                                               | 1579/4000 [00:21<00:32, 73.47it/s]"
     ]
    },
    {
     "name": "stdout",
     "output_type": "stream",
     "text": [
      "2621.064\n",
      "2619.4067\n",
      "2617.524\n",
      "2616.3086\n",
      "2613.6409\n",
      "2611.8696\n",
      "2614.1172\n",
      "2608.713\n",
      "2606.8364\n"
     ]
    },
    {
     "name": "stderr",
     "output_type": "stream",
     "text": [
      "\r",
      " 40%|██████████████████████████████▉                                               | 1588/4000 [00:21<00:32, 73.52it/s]"
     ]
    },
    {
     "name": "stdout",
     "output_type": "stream",
     "text": [
      "2605.1777\n",
      "2603.165\n",
      "2601.1682\n",
      "2602.295\n",
      "2597.6594\n",
      "2596.0874\n",
      "2594.2954\n",
      "2591.9194\n",
      "2590.8596\n"
     ]
    },
    {
     "name": "stderr",
     "output_type": "stream",
     "text": [
      "\r",
      " 40%|███████████████████████████████▏                                              | 1597/4000 [00:21<00:32, 73.56it/s]"
     ]
    },
    {
     "name": "stdout",
     "output_type": "stream",
     "text": [
      "2592.4229\n",
      "2586.836\n",
      "2585.3232\n",
      "2583.4438\n",
      "2582.0342\n",
      "2580.483\n",
      "2578.2153\n",
      "2576.1555\n",
      "2574.2896\n"
     ]
    },
    {
     "name": "stderr",
     "output_type": "stream",
     "text": [
      "\r",
      " 40%|███████████████████████████████▎                                              | 1606/4000 [00:21<00:32, 73.60it/s]"
     ]
    },
    {
     "name": "stdout",
     "output_type": "stream",
     "text": [
      "2575.8608\n",
      "2570.9727\n",
      "2568.9683\n",
      "2567.2905\n",
      "2565.3496\n",
      "2563.762\n",
      "2561.8706\n",
      "2561.1199\n",
      "2558.5933\n"
     ]
    },
    {
     "name": "stderr",
     "output_type": "stream",
     "text": [
      "\r",
      " 40%|███████████████████████████████▍                                              | 1615/4000 [00:21<00:32, 73.65it/s]"
     ]
    },
    {
     "name": "stdout",
     "output_type": "stream",
     "text": [
      "2556.239\n",
      "2554.9443\n",
      "2553.0347\n",
      "2551.4036\n",
      "2549.582\n",
      "2548.1897\n",
      "2545.9834\n",
      "2544.24\n",
      "2542.5762\n"
     ]
    },
    {
     "name": "stderr",
     "output_type": "stream",
     "text": [
      "\r",
      " 41%|███████████████████████████████▋                                              | 1624/4000 [00:22<00:32, 73.69it/s]"
     ]
    },
    {
     "name": "stdout",
     "output_type": "stream",
     "text": [
      "2544.252\n",
      "2539.128\n",
      "2536.8325\n",
      "2535.5483\n",
      "2533.4902\n",
      "2532.5059\n",
      "2530.2234\n",
      "2528.1377\n",
      "2526.937\n"
     ]
    },
    {
     "name": "stderr",
     "output_type": "stream",
     "text": [
      "\r",
      " 41%|███████████████████████████████▊                                              | 1633/4000 [00:22<00:32, 73.74it/s]"
     ]
    },
    {
     "name": "stdout",
     "output_type": "stream",
     "text": [
      "2525.4849\n",
      "2523.4536\n",
      "2521.3025\n",
      "2519.5642\n",
      "2517.9746\n",
      "2517.0688\n",
      "2516.2104\n",
      "2512.4253\n",
      "2510.915\n"
     ]
    },
    {
     "name": "stderr",
     "output_type": "stream",
     "text": [
      "\r",
      " 41%|████████████████████████████████                                              | 1642/4000 [00:22<00:31, 73.76it/s]"
     ]
    },
    {
     "name": "stdout",
     "output_type": "stream",
     "text": [
      "2514.834\n",
      "2507.8398\n",
      "2512.9521\n",
      "2508.3\n",
      "2502.7788\n",
      "2500.6912\n",
      "2499.088\n",
      "2497.2515\n",
      "2495.7375\n"
     ]
    },
    {
     "name": "stderr",
     "output_type": "stream",
     "text": [
      "\r",
      " 41%|████████████████████████████████▏                                             | 1651/4000 [00:22<00:31, 73.75it/s]"
     ]
    },
    {
     "name": "stdout",
     "output_type": "stream",
     "text": [
      "2493.8276\n",
      "2491.9082\n",
      "2490.4243\n",
      "2488.3452\n",
      "2486.7104\n",
      "2485.1035\n",
      "2483.234\n",
      "2485.888\n",
      "2479.889\n"
     ]
    },
    {
     "name": "stderr",
     "output_type": "stream",
     "text": [
      "\r",
      " 42%|████████████████████████████████▎                                             | 1660/4000 [00:22<00:31, 73.80it/s]"
     ]
    },
    {
     "name": "stdout",
     "output_type": "stream",
     "text": [
      "2478.3364\n",
      "2475.9404\n",
      "2474.5022\n",
      "2475.5532\n",
      "2471.3564\n",
      "2470.483\n",
      "2467.5588\n",
      "2466.1086\n",
      "2468.0127\n"
     ]
    },
    {
     "name": "stderr",
     "output_type": "stream",
     "text": [
      "\r",
      " 42%|████████████████████████████████▌                                             | 1669/4000 [00:22<00:31, 73.85it/s]"
     ]
    },
    {
     "name": "stdout",
     "output_type": "stream",
     "text": [
      "2462.3496\n",
      "2463.5078\n",
      "2459.3755\n",
      "2461.233\n",
      "2455.9546\n",
      "2454.0093\n",
      "2452.116\n",
      "2451.0244\n",
      "2449.3037\n"
     ]
    },
    {
     "name": "stderr",
     "output_type": "stream",
     "text": [
      "\r",
      " 42%|████████████████████████████████▋                                             | 1678/4000 [00:22<00:31, 73.90it/s]"
     ]
    },
    {
     "name": "stdout",
     "output_type": "stream",
     "text": [
      "2447.0347\n",
      "2445.8325\n",
      "2443.5835\n",
      "2442.7605\n",
      "2442.7654\n",
      "2439.0737\n",
      "2439.502\n",
      "2435.5283\n",
      "2433.7952\n"
     ]
    },
    {
     "name": "stderr",
     "output_type": "stream",
     "text": [
      "\r",
      " 42%|████████████████████████████████▉                                             | 1687/4000 [00:22<00:31, 73.94it/s]"
     ]
    },
    {
     "name": "stdout",
     "output_type": "stream",
     "text": [
      "2432.06\n",
      "2430.984\n",
      "2428.6216\n",
      "2426.996\n",
      "2425.171\n",
      "2423.9387\n",
      "2421.977\n",
      "2420.087\n",
      "2418.413\n"
     ]
    },
    {
     "name": "stderr",
     "output_type": "stream",
     "text": [
      "\r",
      " 42%|█████████████████████████████████                                             | 1696/4000 [00:22<00:31, 73.94it/s]"
     ]
    },
    {
     "name": "stdout",
     "output_type": "stream",
     "text": [
      "2416.7964\n",
      "2414.9883\n",
      "2413.4214\n",
      "2412.8833\n",
      "2413.4922\n",
      "2408.4185\n",
      "2406.65\n",
      "2404.8403\n"
     ]
    },
    {
     "name": "stderr",
     "output_type": "stream",
     "text": [
      "\r",
      " 43%|█████████████████████████████████▏                                            | 1704/4000 [00:23<00:31, 73.96it/s]"
     ]
    },
    {
     "name": "stdout",
     "output_type": "stream",
     "text": [
      "2403.6973\n",
      "2402.2231\n",
      "2399.8394\n",
      "2398.4224\n",
      "2396.353\n",
      "2394.9607\n",
      "2393.229\n",
      "2391.797\n",
      "2393.5188\n"
     ]
    },
    {
     "name": "stderr",
     "output_type": "stream",
     "text": [
      "\r",
      " 43%|█████████████████████████████████▍                                            | 1713/4000 [00:23<00:30, 74.00it/s]"
     ]
    },
    {
     "name": "stdout",
     "output_type": "stream",
     "text": [
      "2388.8208\n",
      "2386.249\n",
      "2385.045\n",
      "2383.076\n",
      "2381.6726\n",
      "2379.505\n",
      "2378.2593\n",
      "2376.8691\n",
      "2374.9707\n"
     ]
    },
    {
     "name": "stderr",
     "output_type": "stream",
     "text": [
      "\r",
      " 43%|█████████████████████████████████▌                                            | 1722/4000 [00:23<00:30, 74.02it/s]"
     ]
    },
    {
     "name": "stdout",
     "output_type": "stream",
     "text": [
      "2373.0315\n",
      "2371.4639\n",
      "2372.0486\n",
      "2368.207\n",
      "2368.081\n",
      "2364.6592\n",
      "2364.1465\n",
      "2361.5527\n",
      "2360.2644\n"
     ]
    },
    {
     "name": "stderr",
     "output_type": "stream",
     "text": [
      "\r",
      " 43%|█████████████████████████████████▊                                            | 1731/4000 [00:23<00:30, 74.06it/s]"
     ]
    },
    {
     "name": "stdout",
     "output_type": "stream",
     "text": [
      "2358.3838\n",
      "2356.498\n",
      "2355.1067\n",
      "2352.999\n",
      "2355.2231\n",
      "2350.2988\n",
      "2348.9714\n",
      "2346.814\n",
      "2345.1821\n"
     ]
    },
    {
     "name": "stderr",
     "output_type": "stream",
     "text": [
      "\r",
      " 44%|█████████████████████████████████▉                                            | 1740/4000 [00:23<00:30, 74.10it/s]"
     ]
    },
    {
     "name": "stdout",
     "output_type": "stream",
     "text": [
      "2345.8574\n",
      "2341.7698\n",
      "2341.1724\n",
      "2338.6511\n",
      "2341.4517\n",
      "2335.077\n",
      "2335.4731\n",
      "2332.1758\n",
      "2330.1694\n"
     ]
    },
    {
     "name": "stderr",
     "output_type": "stream",
     "text": [
      "\r",
      " 44%|██████████████████████████████████                                            | 1749/4000 [00:23<00:30, 74.15it/s]"
     ]
    },
    {
     "name": "stdout",
     "output_type": "stream",
     "text": [
      "2328.8994\n",
      "2327.0552\n",
      "2325.2935\n",
      "2324.051\n",
      "2322.4585\n",
      "2320.9805\n",
      "2318.9375\n",
      "2317.6333\n",
      "2316.3315\n"
     ]
    },
    {
     "name": "stderr",
     "output_type": "stream",
     "text": [
      "\r",
      " 44%|██████████████████████████████████▎                                           | 1758/4000 [00:23<00:30, 74.18it/s]"
     ]
    },
    {
     "name": "stdout",
     "output_type": "stream",
     "text": [
      "2313.7544\n",
      "2313.7512\n",
      "2311.0908\n",
      "2309.5664\n",
      "2307.4004\n",
      "2305.603\n",
      "2304.248\n",
      "2303.046\n",
      "2301.5205\n"
     ]
    },
    {
     "name": "stderr",
     "output_type": "stream",
     "text": [
      "\r",
      " 44%|██████████████████████████████████▍                                           | 1767/4000 [00:23<00:30, 74.14it/s]"
     ]
    },
    {
     "name": "stdout",
     "output_type": "stream",
     "text": [
      "2299.2505\n",
      "2298.5127\n",
      "2299.0322\n",
      "2294.7366\n",
      "2294.8584\n",
      "2291.331\n",
      "2289.5889\n",
      "2287.8862\n",
      "2288.3936\n"
     ]
    },
    {
     "name": "stderr",
     "output_type": "stream",
     "text": [
      "\r",
      " 44%|██████████████████████████████████▋                                           | 1776/4000 [00:23<00:29, 74.18it/s]"
     ]
    },
    {
     "name": "stdout",
     "output_type": "stream",
     "text": [
      "2284.865\n",
      "2284.3716\n",
      "2281.791\n",
      "2279.984\n",
      "2278.3496\n",
      "2276.8403\n",
      "2280.3418\n",
      "2274.224\n",
      "2272.394\n"
     ]
    },
    {
     "name": "stderr",
     "output_type": "stream",
     "text": [
      "\r",
      " 45%|██████████████████████████████████▊                                           | 1785/4000 [00:24<00:29, 74.21it/s]"
     ]
    },
    {
     "name": "stdout",
     "output_type": "stream",
     "text": [
      "2274.3975\n",
      "2269.1475\n",
      "2268.188\n",
      "2266.2476\n",
      "2263.9434\n",
      "2265.1477\n",
      "2265.4202\n",
      "2259.5737\n",
      "2261.8083\n"
     ]
    },
    {
     "name": "stderr",
     "output_type": "stream",
     "text": [
      "\r",
      " 45%|██████████████████████████████████▉                                           | 1794/4000 [00:24<00:29, 74.24it/s]"
     ]
    },
    {
     "name": "stdout",
     "output_type": "stream",
     "text": [
      "2256.1987\n",
      "2254.6504\n",
      "2254.4917\n",
      "2251.7744\n",
      "2249.832\n",
      "2248.2217\n",
      "2247.042\n",
      "2245.2566\n",
      "2244.6284\n"
     ]
    },
    {
     "name": "stderr",
     "output_type": "stream",
     "text": [
      "\r",
      " 45%|███████████████████████████████████▏                                          | 1803/4000 [00:24<00:29, 74.28it/s]"
     ]
    },
    {
     "name": "stdout",
     "output_type": "stream",
     "text": [
      "2242.983\n",
      "2240.0684\n",
      "2238.7012\n",
      "2237.0437\n",
      "2235.8516\n",
      "2234.031\n",
      "2232.7915\n",
      "2230.978\n",
      "2229.4695\n"
     ]
    },
    {
     "name": "stderr",
     "output_type": "stream",
     "text": [
      "\r",
      " 45%|███████████████████████████████████▎                                          | 1812/4000 [00:24<00:29, 74.32it/s]"
     ]
    },
    {
     "name": "stdout",
     "output_type": "stream",
     "text": [
      "2227.6646\n",
      "2226.9033\n",
      "2228.2842\n",
      "2222.913\n",
      "2221.2002\n",
      "2219.6274\n",
      "2218.5225\n",
      "2216.765\n",
      "2215.2952\n"
     ]
    },
    {
     "name": "stderr",
     "output_type": "stream",
     "text": [
      "\r",
      " 46%|███████████████████████████████████▌                                          | 1821/4000 [00:24<00:29, 74.35it/s]"
     ]
    },
    {
     "name": "stdout",
     "output_type": "stream",
     "text": [
      "2213.799\n",
      "2213.9255\n",
      "2210.6597\n",
      "2209.2786\n",
      "2207.4622\n",
      "2205.5435\n",
      "2203.963\n",
      "2202.662\n",
      "2200.968\n"
     ]
    },
    {
     "name": "stderr",
     "output_type": "stream",
     "text": [
      "\r",
      " 46%|███████████████████████████████████▋                                          | 1830/4000 [00:24<00:29, 74.36it/s]"
     ]
    },
    {
     "name": "stdout",
     "output_type": "stream",
     "text": [
      "2199.3013\n",
      "2202.505\n",
      "2196.8057\n",
      "2194.6694\n",
      "2193.7737\n",
      "2192.4224\n",
      "2190.2822\n",
      "2188.8535\n",
      "2186.8193\n"
     ]
    },
    {
     "name": "stderr",
     "output_type": "stream",
     "text": [
      "\r",
      " 46%|███████████████████████████████████▊                                          | 1839/4000 [00:24<00:29, 74.38it/s]"
     ]
    },
    {
     "name": "stdout",
     "output_type": "stream",
     "text": [
      "2185.5522\n",
      "2184.04\n",
      "2185.6719\n",
      "2181.0776\n",
      "2182.564\n",
      "2178.4683\n",
      "2175.9917\n",
      "2174.458\n",
      "2173.1265\n"
     ]
    },
    {
     "name": "stderr",
     "output_type": "stream",
     "text": [
      "\r",
      " 46%|████████████████████████████████████                                          | 1848/4000 [00:24<00:28, 74.41it/s]"
     ]
    },
    {
     "name": "stdout",
     "output_type": "stream",
     "text": [
      "2174.79\n",
      "2170.1372\n",
      "2171.58\n",
      "2167.2998\n",
      "2165.707\n",
      "2164.0928\n",
      "2165.8633\n",
      "2161.0483\n",
      "2158.993\n"
     ]
    },
    {
     "name": "stderr",
     "output_type": "stream",
     "text": [
      "\r",
      " 46%|████████████████████████████████████▏                                         | 1857/4000 [00:24<00:28, 74.44it/s]"
     ]
    },
    {
     "name": "stdout",
     "output_type": "stream",
     "text": [
      "2158.4595\n",
      "2156.2588\n",
      "2154.519\n",
      "2156.009\n",
      "2151.4697\n",
      "2150.184\n",
      "2148.6992\n",
      "2150.163\n",
      "2145.827\n"
     ]
    },
    {
     "name": "stderr",
     "output_type": "stream",
     "text": [
      "\r",
      " 47%|████████████████████████████████████▍                                         | 1866/4000 [00:25<00:28, 74.48it/s]"
     ]
    },
    {
     "name": "stdout",
     "output_type": "stream",
     "text": [
      "2146.7373\n",
      "2142.416\n",
      "2140.881\n",
      "2140.072\n",
      "2138.5547\n",
      "2136.3738\n",
      "2134.7866\n",
      "2135.151\n",
      "2131.8232\n"
     ]
    },
    {
     "name": "stderr",
     "output_type": "stream",
     "text": [
      "\r",
      " 47%|████████████████████████████████████▌                                         | 1875/4000 [00:25<00:28, 74.52it/s]"
     ]
    },
    {
     "name": "stdout",
     "output_type": "stream",
     "text": [
      "2131.5195\n",
      "2128.5596\n",
      "2127.7102\n",
      "2126.278\n",
      "2124.0942\n",
      "2122.7114\n",
      "2121.3174\n",
      "2121.728\n",
      "2118.2444\n"
     ]
    },
    {
     "name": "stderr",
     "output_type": "stream",
     "text": [
      "\r",
      " 47%|████████████████████████████████████▋                                         | 1884/4000 [00:25<00:28, 74.55it/s]"
     ]
    },
    {
     "name": "stdout",
     "output_type": "stream",
     "text": [
      "2116.6348\n",
      "2115.3257\n",
      "2113.5469\n",
      "2112.1172\n",
      "2111.4277\n",
      "2108.974\n",
      "2107.5479\n",
      "2106.2207\n",
      "2104.5757\n"
     ]
    },
    {
     "name": "stderr",
     "output_type": "stream",
     "text": [
      "\r",
      " 47%|████████████████████████████████████▉                                         | 1893/4000 [00:25<00:28, 74.50it/s]"
     ]
    },
    {
     "name": "stdout",
     "output_type": "stream",
     "text": [
      "2103.0706\n",
      "2101.3154\n",
      "2099.7437\n",
      "2100.8623\n",
      "2096.9502\n",
      "2095.2795\n",
      "2100.1545\n",
      "2092.5571\n",
      "2090.9492\n"
     ]
    },
    {
     "name": "stderr",
     "output_type": "stream",
     "text": [
      "\r",
      " 48%|█████████████████████████████████████                                         | 1902/4000 [00:25<00:28, 74.53it/s]"
     ]
    },
    {
     "name": "stdout",
     "output_type": "stream",
     "text": [
      "2089.4478\n",
      "2088.018\n",
      "2086.9824\n",
      "2085.0586\n",
      "2083.4077\n",
      "2081.9517\n",
      "2080.3975\n",
      "2078.9585\n"
     ]
    },
    {
     "name": "stderr",
     "output_type": "stream",
     "text": [
      "\r",
      " 48%|█████████████████████████████████████▏                                        | 1910/4000 [00:25<00:28, 74.55it/s]"
     ]
    },
    {
     "name": "stdout",
     "output_type": "stream",
     "text": [
      "2077.5308\n",
      "2076.6772\n",
      "2074.4028\n",
      "2073.0122\n",
      "2071.5076\n",
      "2070.2065\n",
      "2068.462\n",
      "2067.9531\n",
      "2065.461\n"
     ]
    },
    {
     "name": "stderr",
     "output_type": "stream",
     "text": [
      "\r",
      " 48%|█████████████████████████████████████▍                                        | 1919/4000 [00:25<00:27, 74.58it/s]"
     ]
    },
    {
     "name": "stdout",
     "output_type": "stream",
     "text": [
      "2064.7627\n",
      "2062.2246\n",
      "2061.2944\n",
      "2059.743\n",
      "2058.5815\n",
      "2056.267\n",
      "2055.5154\n",
      "2053.1594\n"
     ]
    },
    {
     "name": "stderr",
     "output_type": "stream",
     "text": [
      "\r",
      " 48%|█████████████████████████████████████▌                                        | 1927/4000 [00:25<00:27, 74.57it/s]"
     ]
    },
    {
     "name": "stdout",
     "output_type": "stream",
     "text": [
      "2052.0703\n",
      "2050.542\n",
      "2049.2266\n",
      "2051.0437\n",
      "2045.8326\n",
      "2044.5522\n",
      "2043.1774\n",
      "2041.5419\n",
      "2039.95\n"
     ]
    },
    {
     "name": "stderr",
     "output_type": "stream",
     "text": [
      "\r",
      " 48%|█████████████████████████████████████▊                                        | 1936/4000 [00:25<00:27, 74.61it/s]"
     ]
    },
    {
     "name": "stdout",
     "output_type": "stream",
     "text": [
      "2038.7195\n",
      "2037.0884\n",
      "2035.5723\n",
      "2037.3174\n",
      "2032.7352\n",
      "2031.5928\n",
      "2033.6362\n",
      "2029.0801\n",
      "2027.5585\n"
     ]
    },
    {
     "name": "stderr",
     "output_type": "stream",
     "text": [
      "\r",
      " 49%|█████████████████████████████████████▉                                        | 1945/4000 [00:26<00:27, 74.64it/s]"
     ]
    },
    {
     "name": "stdout",
     "output_type": "stream",
     "text": [
      "2025.2874\n",
      "2024.5963\n",
      "2023.0968\n",
      "2021.1779\n",
      "2022.2717\n",
      "2018.3945\n",
      "2017.5443\n",
      "2017.6832\n",
      "2013.9681\n"
     ]
    },
    {
     "name": "stderr",
     "output_type": "stream",
     "text": [
      "\r",
      " 49%|██████████████████████████████████████                                        | 1954/4000 [00:26<00:27, 74.67it/s]"
     ]
    },
    {
     "name": "stdout",
     "output_type": "stream",
     "text": [
      "2012.2192\n",
      "2011.5498\n",
      "2010.0409\n",
      "2008.1299\n",
      "2006.4661\n",
      "2005.4617\n",
      "2003.4412\n",
      "2002.6772\n",
      "2000.8464\n"
     ]
    },
    {
     "name": "stderr",
     "output_type": "stream",
     "text": [
      "\r",
      " 49%|██████████████████████████████████████▎                                       | 1963/4000 [00:26<00:27, 74.68it/s]"
     ]
    },
    {
     "name": "stdout",
     "output_type": "stream",
     "text": [
      "1999.599\n",
      "1998.1998\n",
      "1996.5258\n",
      "1995.7075\n",
      "1993.366\n",
      "1992.2406\n",
      "1990.8572\n",
      "1989.561\n"
     ]
    },
    {
     "name": "stderr",
     "output_type": "stream",
     "text": [
      "\r",
      " 49%|██████████████████████████████████████▍                                       | 1971/4000 [00:26<00:27, 74.68it/s]"
     ]
    },
    {
     "name": "stdout",
     "output_type": "stream",
     "text": [
      "1988.1416\n",
      "1986.1913\n",
      "1985.566\n",
      "1984.5178\n",
      "1981.9396\n",
      "1980.7657\n",
      "1979.2567\n",
      "1977.5033\n"
     ]
    },
    {
     "name": "stderr",
     "output_type": "stream",
     "text": [
      "\r",
      " 49%|██████████████████████████████████████▌                                       | 1979/4000 [00:26<00:27, 74.68it/s]"
     ]
    },
    {
     "name": "stdout",
     "output_type": "stream",
     "text": [
      "1976.2421\n",
      "1978.1123\n",
      "1973.3479\n",
      "1972.2717\n",
      "1973.1418\n",
      "1969.0679\n",
      "1968.045\n",
      "1966.5831\n"
     ]
    },
    {
     "name": "stderr",
     "output_type": "stream",
     "text": [
      "\r",
      " 50%|██████████████████████████████████████▋                                       | 1987/4000 [00:26<00:26, 74.69it/s]"
     ]
    },
    {
     "name": "stdout",
     "output_type": "stream",
     "text": [
      "1964.9835\n",
      "1963.3628\n",
      "1962.1189\n",
      "1963.6652\n",
      "1958.966\n",
      "1957.6094\n",
      "1956.386\n",
      "1955.0304\n"
     ]
    },
    {
     "name": "stderr",
     "output_type": "stream",
     "text": [
      "\r",
      " 50%|██████████████████████████████████████▉                                       | 1995/4000 [00:26<00:26, 74.71it/s]"
     ]
    },
    {
     "name": "stdout",
     "output_type": "stream",
     "text": [
      "1953.7709\n",
      "1956.0795\n",
      "1951.2599\n",
      "1949.1849\n",
      "1947.9371\n",
      "1946.702\n",
      "1945.0319\n",
      "1943.8646\n",
      "1942.1217\n"
     ]
    },
    {
     "name": "stderr",
     "output_type": "stream",
     "text": [
      "\r",
      " 50%|███████████████████████████████████████                                       | 2004/4000 [00:26<00:26, 74.73it/s]"
     ]
    },
    {
     "name": "stdout",
     "output_type": "stream",
     "text": [
      "1940.8807\n",
      "1939.5231\n",
      "1937.6808\n",
      "1936.3344\n",
      "1935.5779\n",
      "1933.8075\n",
      "1933.1827\n",
      "1930.7402\n",
      "1929.2257\n"
     ]
    },
    {
     "name": "stderr",
     "output_type": "stream",
     "text": [
      "\r",
      " 50%|███████████████████████████████████████▎                                      | 2013/4000 [00:26<00:26, 74.77it/s]"
     ]
    },
    {
     "name": "stdout",
     "output_type": "stream",
     "text": [
      "1930.0367\n",
      "1927.1089\n",
      "1925.379\n",
      "1924.4098\n",
      "1925.2223\n",
      "1921.404\n",
      "1919.3638\n",
      "1918.2402\n",
      "1916.7836\n"
     ]
    },
    {
     "name": "stderr",
     "output_type": "stream",
     "text": [
      "\r",
      " 51%|███████████████████████████████████████▍                                      | 2022/4000 [00:27<00:26, 74.79it/s]"
     ]
    },
    {
     "name": "stdout",
     "output_type": "stream",
     "text": [
      "1915.5919\n",
      "1916.051\n",
      "1916.5508\n",
      "1911.2596\n",
      "1909.7747\n",
      "1908.1967\n",
      "1907.1455\n",
      "1906.3041\n",
      "1904.2443\n"
     ]
    },
    {
     "name": "stderr",
     "output_type": "stream",
     "text": [
      "\r",
      " 51%|███████████████████████████████████████▌                                      | 2031/4000 [00:27<00:26, 74.77it/s]"
     ]
    },
    {
     "name": "stdout",
     "output_type": "stream",
     "text": [
      "1902.6696\n",
      "1901.3749\n",
      "1900.3259\n",
      "1898.803\n",
      "1897.0438\n",
      "1896.5931\n",
      "1896.3578\n",
      "1893.1674\n",
      "1892.1565\n"
     ]
    },
    {
     "name": "stderr",
     "output_type": "stream",
     "text": [
      "\r",
      " 51%|███████████████████████████████████████▊                                      | 2040/4000 [00:27<00:26, 74.79it/s]"
     ]
    },
    {
     "name": "stdout",
     "output_type": "stream",
     "text": [
      "1890.8549\n",
      "1888.814\n",
      "1887.4045\n",
      "1886.3195\n",
      "1884.487\n",
      "1888.4902\n",
      "1881.8978\n",
      "1880.7526\n"
     ]
    },
    {
     "name": "stderr",
     "output_type": "stream",
     "text": [
      "\r",
      " 51%|███████████████████████████████████████▉                                      | 2048/4000 [00:27<00:26, 74.80it/s]"
     ]
    },
    {
     "name": "stdout",
     "output_type": "stream",
     "text": [
      "1880.256\n",
      "1877.7191\n",
      "1879.4738\n",
      "1875.0934\n",
      "1874.162\n",
      "1872.6396\n",
      "1873.5911\n",
      "1869.6942\n",
      "1868.124\n"
     ]
    },
    {
     "name": "stderr",
     "output_type": "stream",
     "text": [
      "\r",
      " 51%|████████████████████████████████████████                                      | 2057/4000 [00:27<00:25, 74.83it/s]"
     ]
    },
    {
     "name": "stdout",
     "output_type": "stream",
     "text": [
      "1867.6998\n",
      "1865.3882\n",
      "1865.7512\n",
      "1863.6475\n",
      "1863.1431\n",
      "1861.6\n",
      "1859.1881\n",
      "1857.1843\n"
     ]
    },
    {
     "name": "stderr",
     "output_type": "stream",
     "text": [
      "\r",
      " 52%|████████████████████████████████████████▎                                     | 2065/4000 [00:27<00:25, 74.84it/s]"
     ]
    },
    {
     "name": "stdout",
     "output_type": "stream",
     "text": [
      "1855.8225\n",
      "1854.7567\n",
      "1853.1278\n",
      "1851.6416\n",
      "1850.4552\n",
      "1849.1414\n",
      "1847.5522\n",
      "1846.337\n"
     ]
    },
    {
     "name": "stderr",
     "output_type": "stream",
     "text": [
      "\r",
      " 52%|████████████████████████████████████████▍                                     | 2073/4000 [00:27<00:25, 74.86it/s]"
     ]
    },
    {
     "name": "stdout",
     "output_type": "stream",
     "text": [
      "1844.9017\n",
      "1843.4156\n",
      "1842.3854\n",
      "1840.8628\n",
      "1839.4714\n",
      "1838.3092\n",
      "1837.1234\n",
      "1835.9691\n"
     ]
    },
    {
     "name": "stderr",
     "output_type": "stream",
     "text": [
      "\r",
      " 52%|████████████████████████████████████████▌                                     | 2081/4000 [00:27<00:25, 74.77it/s]"
     ]
    },
    {
     "name": "stdout",
     "output_type": "stream",
     "text": [
      "1834.153\n",
      "1832.5\n",
      "1831.2521\n",
      "1830.5509\n",
      "1828.5099\n",
      "1830.9415\n",
      "1825.9255\n",
      "1824.7291\n"
     ]
    },
    {
     "name": "stderr",
     "output_type": "stream",
     "text": [
      "\r",
      " 52%|████████████████████████████████████████▋                                     | 2089/4000 [00:27<00:25, 74.63it/s]"
     ]
    },
    {
     "name": "stdout",
     "output_type": "stream",
     "text": [
      "1823.2617\n",
      "1822.4718\n",
      "1823.1798\n",
      "1821.0748\n",
      "1827.4939\n",
      "1817.055\n",
      "1815.1011\n",
      "1813.8248\n"
     ]
    },
    {
     "name": "stderr",
     "output_type": "stream",
     "text": [
      "\r",
      " 52%|████████████████████████████████████████▉                                     | 2097/4000 [00:28<00:25, 74.65it/s]"
     ]
    },
    {
     "name": "stdout",
     "output_type": "stream",
     "text": [
      "1812.7766\n",
      "1813.61\n",
      "1812.1958\n",
      "1808.6919\n",
      "1807.0367\n",
      "1806.0958\n",
      "1804.2804\n",
      "1803.9569\n"
     ]
    },
    {
     "name": "stderr",
     "output_type": "stream",
     "text": [
      "\r",
      " 53%|█████████████████████████████████████████                                     | 2105/4000 [00:28<00:25, 74.64it/s]"
     ]
    },
    {
     "name": "stdout",
     "output_type": "stream",
     "text": [
      "1801.868\n",
      "1800.4406\n",
      "1801.2562\n",
      "1798.3539\n",
      "1796.2853\n",
      "1795.2354\n",
      "1793.6094\n",
      "1792.3301\n",
      "1791.3788\n"
     ]
    },
    {
     "name": "stderr",
     "output_type": "stream",
     "text": [
      "\r",
      " 53%|█████████████████████████████████████████▏                                    | 2114/4000 [00:28<00:25, 74.66it/s]"
     ]
    },
    {
     "name": "stdout",
     "output_type": "stream",
     "text": [
      "1789.8164\n",
      "1788.282\n",
      "1786.9229\n",
      "1787.6208\n",
      "1784.536\n",
      "1783.1422\n",
      "1781.7395\n",
      "1780.2859\n",
      "1779.978\n"
     ]
    },
    {
     "name": "stderr",
     "output_type": "stream",
     "text": [
      "\r",
      " 53%|█████████████████████████████████████████▍                                    | 2123/4000 [00:28<00:25, 74.69it/s]"
     ]
    },
    {
     "name": "stdout",
     "output_type": "stream",
     "text": [
      "1778.199\n",
      "1776.819\n",
      "1774.9564\n",
      "1773.6384\n",
      "1772.6302\n",
      "1771.0032\n",
      "1770.703\n",
      "1768.6715\n",
      "1767.2567\n"
     ]
    },
    {
     "name": "stderr",
     "output_type": "stream",
     "text": [
      "\r",
      " 53%|█████████████████████████████████████████▌                                    | 2132/4000 [00:28<00:24, 74.72it/s]"
     ]
    },
    {
     "name": "stdout",
     "output_type": "stream",
     "text": [
      "1765.8278\n",
      "1764.455\n",
      "1766.8646\n",
      "1765.2108\n",
      "1760.5725\n",
      "1759.1044\n",
      "1757.8643\n",
      "1756.637\n",
      "1755.2985\n"
     ]
    },
    {
     "name": "stderr",
     "output_type": "stream",
     "text": [
      "\r",
      " 54%|█████████████████████████████████████████▋                                    | 2141/4000 [00:28<00:24, 74.75it/s]"
     ]
    },
    {
     "name": "stdout",
     "output_type": "stream",
     "text": [
      "1753.8907\n",
      "1752.5594\n",
      "1752.365\n",
      "1749.8915\n",
      "1751.5839\n",
      "1747.3574\n",
      "1746.3593\n",
      "1744.7799\n"
     ]
    },
    {
     "name": "stderr",
     "output_type": "stream",
     "text": [
      "\r",
      " 54%|█████████████████████████████████████████▉                                    | 2149/4000 [00:28<00:24, 74.75it/s]"
     ]
    },
    {
     "name": "stdout",
     "output_type": "stream",
     "text": [
      "1745.1777\n",
      "1742.441\n",
      "1740.6925\n",
      "1739.3308\n",
      "1738.0774\n",
      "1737.5125\n",
      "1735.5212\n",
      "1735.1428\n"
     ]
    },
    {
     "name": "stderr",
     "output_type": "stream",
     "text": [
      "\r",
      " 54%|██████████████████████████████████████████                                    | 2157/4000 [00:28<00:24, 74.76it/s]"
     ]
    },
    {
     "name": "stdout",
     "output_type": "stream",
     "text": [
      "1735.6394\n",
      "1731.5819\n",
      "1732.7502\n",
      "1729.1013\n",
      "1727.6626\n",
      "1726.5298\n",
      "1725.0162\n",
      "1724.0024\n"
     ]
    },
    {
     "name": "stderr",
     "output_type": "stream",
     "text": [
      "\r",
      " 54%|██████████████████████████████████████████▏                                   | 2165/4000 [00:28<00:24, 74.77it/s]"
     ]
    },
    {
     "name": "stdout",
     "output_type": "stream",
     "text": [
      "1722.444\n",
      "1723.8541\n",
      "1719.8864\n",
      "1719.4635\n",
      "1717.2634\n",
      "1715.9852\n",
      "1714.7377\n",
      "1713.5114\n"
     ]
    },
    {
     "name": "stderr",
     "output_type": "stream",
     "text": [
      "\r",
      " 54%|██████████████████████████████████████████▎                                   | 2173/4000 [00:29<00:24, 74.78it/s]"
     ]
    },
    {
     "name": "stdout",
     "output_type": "stream",
     "text": [
      "1712.2539\n",
      "1711.4443\n",
      "1709.5636\n",
      "1708.286\n",
      "1709.4591\n",
      "1705.8729\n",
      "1704.4005\n",
      "1703.8551\n"
     ]
    },
    {
     "name": "stderr",
     "output_type": "stream",
     "text": [
      "\r",
      " 55%|██████████████████████████████████████████▌                                   | 2181/4000 [00:29<00:24, 74.79it/s]"
     ]
    },
    {
     "name": "stdout",
     "output_type": "stream",
     "text": [
      "1703.5157\n",
      "1700.6056\n",
      "1699.2878\n",
      "1697.8679\n",
      "1696.7272\n",
      "1695.5035\n",
      "1694.2526\n",
      "1692.7039\n"
     ]
    },
    {
     "name": "stderr",
     "output_type": "stream",
     "text": [
      "\r",
      " 55%|██████████████████████████████████████████▋                                   | 2189/4000 [00:29<00:24, 74.80it/s]"
     ]
    },
    {
     "name": "stdout",
     "output_type": "stream",
     "text": [
      "1691.4633\n",
      "1690.1134\n",
      "1688.9011\n",
      "1687.6401\n",
      "1686.6215\n",
      "1685.1449\n",
      "1683.9562\n",
      "1682.4839\n"
     ]
    },
    {
     "name": "stderr",
     "output_type": "stream",
     "text": [
      "\r",
      " 55%|██████████████████████████████████████████▊                                   | 2197/4000 [00:29<00:24, 74.81it/s]"
     ]
    },
    {
     "name": "stdout",
     "output_type": "stream",
     "text": [
      "1681.114\n",
      "1679.8606\n",
      "1678.9487\n",
      "1677.7275\n",
      "1676.1306\n",
      "1678.4108\n",
      "1673.4932\n",
      "1672.2806\n"
     ]
    },
    {
     "name": "stderr",
     "output_type": "stream",
     "text": [
      "\r",
      " 55%|██████████████████████████████████████████▉                                   | 2205/4000 [00:29<00:23, 74.80it/s]"
     ]
    },
    {
     "name": "stdout",
     "output_type": "stream",
     "text": [
      "1671.0995\n",
      "1670.2317\n",
      "1668.6509\n",
      "1667.0751\n",
      "1667.1425\n",
      "1668.0269\n",
      "1663.9042\n",
      "1662.0802\n"
     ]
    },
    {
     "name": "stderr",
     "output_type": "stream",
     "text": [
      "\r",
      " 55%|███████████████████████████████████████████▏                                  | 2213/4000 [00:29<00:23, 74.81it/s]"
     ]
    },
    {
     "name": "stdout",
     "output_type": "stream",
     "text": [
      "1661.2133\n",
      "1659.4685\n",
      "1661.4159\n",
      "1657.3961\n",
      "1655.7812\n",
      "1654.7369\n",
      "1656.6383\n",
      "1653.1814\n",
      "1650.7162\n"
     ]
    },
    {
     "name": "stderr",
     "output_type": "stream",
     "text": [
      "\r",
      " 56%|███████████████████████████████████████████▎                                  | 2222/4000 [00:29<00:23, 74.84it/s]"
     ]
    },
    {
     "name": "stdout",
     "output_type": "stream",
     "text": [
      "1649.5092\n",
      "1648.269\n",
      "1647.4143\n",
      "1645.8591\n",
      "1644.3942\n",
      "1643.1221\n",
      "1641.8596\n",
      "1643.3683\n"
     ]
    },
    {
     "name": "stderr",
     "output_type": "stream",
     "text": [
      "\r",
      " 56%|███████████████████████████████████████████▍                                  | 2230/4000 [00:29<00:23, 74.85it/s]"
     ]
    },
    {
     "name": "stdout",
     "output_type": "stream",
     "text": [
      "1639.4501\n",
      "1638.1503\n",
      "1637.5984\n",
      "1635.6141\n",
      "1634.289\n",
      "1633.1456\n",
      "1631.8851\n",
      "1630.5083\n"
     ]
    },
    {
     "name": "stderr",
     "output_type": "stream",
     "text": [
      "\r",
      " 56%|███████████████████████████████████████████▋                                  | 2238/4000 [00:29<00:23, 74.81it/s]"
     ]
    },
    {
     "name": "stdout",
     "output_type": "stream",
     "text": [
      "1629.3097\n",
      "1628.0575\n",
      "1626.9926\n",
      "1626.1929\n",
      "1624.3129\n",
      "1623.1715\n",
      "1624.6094\n",
      "1620.6962\n"
     ]
    },
    {
     "name": "stderr",
     "output_type": "stream",
     "text": [
      "\r",
      " 56%|███████████████████████████████████████████▊                                  | 2246/4000 [00:30<00:23, 74.80it/s]"
     ]
    },
    {
     "name": "stdout",
     "output_type": "stream",
     "text": [
      "1620.0308\n",
      "1618.0251\n",
      "1617.0227\n",
      "1615.617\n",
      "1616.5021\n",
      "1613.0651\n",
      "1611.7623\n",
      "1610.5438\n"
     ]
    },
    {
     "name": "stderr",
     "output_type": "stream",
     "text": [
      "\r",
      " 56%|███████████████████████████████████████████▉                                  | 2254/4000 [00:30<00:23, 74.78it/s]"
     ]
    },
    {
     "name": "stdout",
     "output_type": "stream",
     "text": [
      "1609.4352\n",
      "1608.1005\n",
      "1607.464\n",
      "1605.7014\n",
      "1604.78\n",
      "1603.2794\n",
      "1602.1954\n",
      "1600.9432\n"
     ]
    },
    {
     "name": "stderr",
     "output_type": "stream",
     "text": [
      "\r",
      " 57%|████████████████████████████████████████████                                  | 2262/4000 [00:30<00:23, 74.80it/s]"
     ]
    },
    {
     "name": "stdout",
     "output_type": "stream",
     "text": [
      "1599.4387\n",
      "1598.7306\n",
      "1597.1273\n",
      "1595.6594\n",
      "1594.6295\n",
      "1593.4598\n",
      "1591.9601\n",
      "1591.024\n"
     ]
    },
    {
     "name": "stderr",
     "output_type": "stream",
     "text": [
      "\r",
      " 57%|████████████████████████████████████████████▎                                 | 2270/4000 [00:30<00:23, 74.80it/s]"
     ]
    },
    {
     "name": "stdout",
     "output_type": "stream",
     "text": [
      "1589.7075\n",
      "1589.6249\n",
      "1587.0542\n",
      "1585.8478\n",
      "1587.3622\n",
      "1584.0878\n",
      "1585.5839\n",
      "1581.084\n"
     ]
    },
    {
     "name": "stderr",
     "output_type": "stream",
     "text": [
      "\r",
      " 57%|████████████████████████████████████████████▍                                 | 2278/4000 [00:30<00:23, 74.80it/s]"
     ]
    },
    {
     "name": "stdout",
     "output_type": "stream",
     "text": [
      "1580.0815\n",
      "1578.6976\n",
      "1577.4084\n",
      "1575.9933\n",
      "1574.8596\n",
      "1573.7047\n",
      "1572.4015\n",
      "1571.343\n"
     ]
    },
    {
     "name": "stderr",
     "output_type": "stream",
     "text": [
      "\r",
      " 57%|████████████████████████████████████████████▌                                 | 2286/4000 [00:30<00:22, 74.80it/s]"
     ]
    },
    {
     "name": "stdout",
     "output_type": "stream",
     "text": [
      "1569.9767\n",
      "1569.4131\n",
      "1567.6107\n",
      "1566.9911\n",
      "1564.9054\n",
      "1563.7504\n",
      "1562.6847\n",
      "1561.3756\n"
     ]
    },
    {
     "name": "stderr",
     "output_type": "stream",
     "text": [
      "\r",
      " 57%|████████████████████████████████████████████▋                                 | 2294/4000 [00:30<00:22, 74.79it/s]"
     ]
    },
    {
     "name": "stdout",
     "output_type": "stream",
     "text": [
      "1560.1735\n",
      "1560.4377\n",
      "1561.4443\n",
      "1556.4845\n",
      "1555.296\n",
      "1553.9642\n",
      "1555.1786\n",
      "1551.7047\n",
      "1550.5201\n"
     ]
    },
    {
     "name": "stderr",
     "output_type": "stream",
     "text": [
      "\r",
      " 58%|████████████████████████████████████████████▉                                 | 2303/4000 [00:30<00:22, 74.81it/s]"
     ]
    },
    {
     "name": "stdout",
     "output_type": "stream",
     "text": [
      "1549.2684\n",
      "1547.947\n",
      "1546.8262\n",
      "1545.4503\n",
      "1544.2942\n",
      "1543.54\n",
      "1541.8827\n",
      "1540.7871\n",
      "1539.8383\n"
     ]
    },
    {
     "name": "stderr",
     "output_type": "stream",
     "text": [
      "\r",
      " 58%|█████████████████████████████████████████████                                 | 2312/4000 [00:30<00:22, 74.84it/s]"
     ]
    },
    {
     "name": "stdout",
     "output_type": "stream",
     "text": [
      "1538.321\n",
      "1537.1509\n",
      "1538.9828\n",
      "1534.816\n",
      "1533.4617\n",
      "1532.2731\n",
      "1530.9403\n",
      "1529.7913\n",
      "1528.6337\n"
     ]
    },
    {
     "name": "stderr",
     "output_type": "stream",
     "text": [
      "\r",
      " 58%|█████████████████████████████████████████████▎                                | 2321/4000 [00:30<00:22, 74.87it/s]"
     ]
    },
    {
     "name": "stdout",
     "output_type": "stream",
     "text": [
      "1527.3738\n",
      "1526.2881\n",
      "1524.9684\n",
      "1523.855\n",
      "1524.3977\n",
      "1521.5901\n",
      "1520.9039\n",
      "1521.6536\n"
     ]
    },
    {
     "name": "stderr",
     "output_type": "stream",
     "text": [
      "\r",
      " 58%|█████████████████████████████████████████████▍                                | 2329/4000 [00:31<00:22, 74.88it/s]"
     ]
    },
    {
     "name": "stdout",
     "output_type": "stream",
     "text": [
      "1517.9437\n",
      "1518.9922\n",
      "1515.5399\n",
      "1515.0148\n",
      "1513.5841\n",
      "1511.8936\n",
      "1510.6263\n",
      "1509.4551\n"
     ]
    },
    {
     "name": "stderr",
     "output_type": "stream",
     "text": [
      "\r",
      " 58%|█████████████████████████████████████████████▌                                | 2337/4000 [00:31<00:22, 74.89it/s]"
     ]
    },
    {
     "name": "stdout",
     "output_type": "stream",
     "text": [
      "1508.519\n",
      "1507.1514\n",
      "1506.0798\n",
      "1504.7853\n",
      "1503.434\n",
      "1505.7344\n",
      "1501.0645\n",
      "1499.9186\n"
     ]
    },
    {
     "name": "stderr",
     "output_type": "stream",
     "text": [
      "\r",
      " 59%|█████████████████████████████████████████████▋                                | 2345/4000 [00:31<00:22, 74.85it/s]"
     ]
    },
    {
     "name": "stdout",
     "output_type": "stream",
     "text": [
      "1498.7413\n",
      "1497.8094\n",
      "1496.3601\n",
      "1495.0947\n",
      "1494.0908\n",
      "1492.8181\n",
      "1491.8037\n",
      "1490.716\n"
     ]
    },
    {
     "name": "stderr",
     "output_type": "stream",
     "text": [
      "\r",
      " 59%|█████████████████████████████████████████████▉                                | 2353/4000 [00:31<00:22, 74.86it/s]"
     ]
    },
    {
     "name": "stdout",
     "output_type": "stream",
     "text": [
      "1489.6212\n",
      "1488.6008\n",
      "1486.8541\n",
      "1485.7906\n",
      "1484.407\n",
      "1483.606\n",
      "1482.0724\n",
      "1481.6813\n"
     ]
    },
    {
     "name": "stderr",
     "output_type": "stream",
     "text": [
      "\r",
      " 59%|██████████████████████████████████████████████                                | 2361/4000 [00:31<00:21, 74.87it/s]"
     ]
    },
    {
     "name": "stdout",
     "output_type": "stream",
     "text": [
      "1483.2617\n",
      "1482.2299\n",
      "1480.4387\n",
      "1476.402\n",
      "1475.0844\n",
      "1474.0817\n",
      "1472.8098\n",
      "1475.2511\n",
      "1471.1824\n"
     ]
    },
    {
     "name": "stderr",
     "output_type": "stream",
     "text": [
      "\r",
      " 59%|██████████████████████████████████████████████▏                               | 2370/4000 [00:31<00:21, 74.89it/s]"
     ]
    },
    {
     "name": "stdout",
     "output_type": "stream",
     "text": [
      "1469.316\n",
      "1468.2659\n",
      "1467.1206\n",
      "1466.4628\n",
      "1464.868\n",
      "1465.7389\n",
      "1462.3358\n",
      "1461.7855\n",
      "1462.7616\n"
     ]
    },
    {
     "name": "stderr",
     "output_type": "stream",
     "text": [
      "\r",
      " 59%|██████████████████████████████████████████████▍                               | 2379/4000 [00:31<00:21, 74.91it/s]"
     ]
    },
    {
     "name": "stdout",
     "output_type": "stream",
     "text": [
      "1458.8451\n",
      "1457.7617\n",
      "1456.3444\n",
      "1455.342\n",
      "1456.3014\n",
      "1452.9742\n",
      "1451.6191\n",
      "1451.1476\n"
     ]
    },
    {
     "name": "stderr",
     "output_type": "stream",
     "text": [
      "\r",
      " 60%|██████████████████████████████████████████████▌                               | 2387/4000 [00:31<00:21, 74.92it/s]"
     ]
    },
    {
     "name": "stdout",
     "output_type": "stream",
     "text": [
      "1449.4303\n",
      "1451.0048\n",
      "1447.3982\n",
      "1446.1337\n",
      "1444.8058\n",
      "1443.4952\n",
      "1442.6046\n",
      "1441.1926\n",
      "1440.6754\n"
     ]
    },
    {
     "name": "stderr",
     "output_type": "stream",
     "text": [
      "\r",
      " 60%|██████████████████████████████████████████████▋                               | 2396/4000 [00:31<00:21, 74.95it/s]"
     ]
    },
    {
     "name": "stdout",
     "output_type": "stream",
     "text": [
      "1438.8939\n",
      "1438.083\n",
      "1440.1879\n",
      "1435.4628\n",
      "1434.67\n",
      "1433.0791\n",
      "1432.0452\n",
      "1430.7191\n",
      "1429.8436\n"
     ]
    },
    {
     "name": "stderr",
     "output_type": "stream",
     "text": [
      "\r",
      " 60%|██████████████████████████████████████████████▉                               | 2405/4000 [00:32<00:21, 74.97it/s]"
     ]
    },
    {
     "name": "stdout",
     "output_type": "stream",
     "text": [
      "1428.6432\n",
      "1427.514\n",
      "1426.2599\n",
      "1425.4243\n",
      "1423.8888\n",
      "1422.8665\n",
      "1421.481\n",
      "1420.838\n",
      "1419.4114\n"
     ]
    },
    {
     "name": "stderr",
     "output_type": "stream",
     "text": [
      "\r",
      " 60%|███████████████████████████████████████████████                               | 2414/4000 [00:32<00:21, 74.98it/s]"
     ]
    },
    {
     "name": "stdout",
     "output_type": "stream",
     "text": [
      "1422.6871\n",
      "1417.2745\n",
      "1416.1785\n",
      "1414.7311\n",
      "1413.4987\n",
      "1412.4651\n",
      "1411.4122\n",
      "1410.1133\n",
      "1409.1287\n"
     ]
    },
    {
     "name": "stderr",
     "output_type": "stream",
     "text": [
      "\r",
      " 61%|███████████████████████████████████████████████▏                              | 2423/4000 [00:32<00:21, 75.00it/s]"
     ]
    },
    {
     "name": "stdout",
     "output_type": "stream",
     "text": [
      "1407.9287\n",
      "1406.7308\n",
      "1408.141\n",
      "1405.466\n",
      "1403.3986\n",
      "1402.2354\n",
      "1400.9032\n",
      "1399.8657\n",
      "1399.1732\n"
     ]
    },
    {
     "name": "stderr",
     "output_type": "stream",
     "text": [
      "\r",
      " 61%|███████████████████████████████████████████████▍                              | 2432/4000 [00:32<00:20, 74.98it/s]"
     ]
    },
    {
     "name": "stdout",
     "output_type": "stream",
     "text": [
      "1397.8391\n",
      "1396.3927\n",
      "1395.174\n",
      "1394.4208\n",
      "1392.9355\n",
      "1391.9\n",
      "1390.709\n",
      "1389.4939\n"
     ]
    },
    {
     "name": "stderr",
     "output_type": "stream",
     "text": [
      "\r",
      " 61%|███████████████████████████████████████████████▌                              | 2440/4000 [00:32<00:20, 75.00it/s]"
     ]
    },
    {
     "name": "stdout",
     "output_type": "stream",
     "text": [
      "1388.5695\n",
      "1390.6881\n",
      "1386.0608\n",
      "1384.9294\n",
      "1383.8068\n",
      "1385.1118\n",
      "1381.7389\n",
      "1380.3925\n",
      "1381.4733\n"
     ]
    },
    {
     "name": "stderr",
     "output_type": "stream",
     "text": [
      "\r",
      " 61%|███████████████████████████████████████████████▊                              | 2449/4000 [00:32<00:20, 75.02it/s]"
     ]
    },
    {
     "name": "stdout",
     "output_type": "stream",
     "text": [
      "1378.4459\n",
      "1377.5502\n",
      "1378.3229\n",
      "1376.4083\n",
      "1373.8951\n",
      "1375.5116\n",
      "1371.6241\n",
      "1370.3423\n",
      "1369.3058\n"
     ]
    },
    {
     "name": "stderr",
     "output_type": "stream",
     "text": [
      "\r",
      " 61%|███████████████████████████████████████████████▉                              | 2458/4000 [00:32<00:20, 75.03it/s]"
     ]
    },
    {
     "name": "stdout",
     "output_type": "stream",
     "text": [
      "1368.2153\n",
      "1366.9407\n",
      "1365.9746\n",
      "1367.1738\n",
      "1363.5704\n",
      "1362.534\n",
      "1361.8468\n",
      "1360.3676\n"
     ]
    },
    {
     "name": "stderr",
     "output_type": "stream",
     "text": [
      "\r",
      " 62%|████████████████████████████████████████████████                              | 2466/4000 [00:32<00:20, 75.03it/s]"
     ]
    },
    {
     "name": "stdout",
     "output_type": "stream",
     "text": [
      "1359.4905\n",
      "1357.9119\n",
      "1357.04\n",
      "1355.84\n",
      "1354.5299\n",
      "1353.4655\n",
      "1354.081\n",
      "1352.2582\n",
      "1352.2788\n"
     ]
    },
    {
     "name": "stderr",
     "output_type": "stream",
     "text": [
      "\r",
      " 62%|████████████████████████████████████████████████▎                             | 2475/4000 [00:32<00:20, 75.05it/s]"
     ]
    },
    {
     "name": "stdout",
     "output_type": "stream",
     "text": [
      "1349.0138\n",
      "1347.9589\n",
      "1346.7833\n",
      "1345.5798\n",
      "1344.51\n",
      "1343.5878\n",
      "1342.346\n",
      "1341.3969\n",
      "1340.1943\n"
     ]
    },
    {
     "name": "stderr",
     "output_type": "stream",
     "text": [
      "\r",
      " 62%|████████████████████████████████████████████████▍                             | 2484/4000 [00:33<00:20, 75.07it/s]"
     ]
    },
    {
     "name": "stdout",
     "output_type": "stream",
     "text": [
      "1341.5564\n",
      "1339.448\n",
      "1338.2537\n",
      "1335.6815\n",
      "1335.8413\n",
      "1333.4216\n",
      "1332.2362\n",
      "1336.2742\n"
     ]
    },
    {
     "name": "stderr",
     "output_type": "stream",
     "text": [
      "\r",
      " 62%|████████████████████████████████████████████████▌                             | 2492/4000 [00:33<00:20, 75.07it/s]"
     ]
    },
    {
     "name": "stdout",
     "output_type": "stream",
     "text": [
      "1330.1786\n",
      "1331.3068\n",
      "1328.0123\n",
      "1326.7749\n",
      "1325.5948\n",
      "1324.6302\n",
      "1323.4603\n",
      "1322.3959\n",
      "1321.2819\n"
     ]
    },
    {
     "name": "stderr",
     "output_type": "stream",
     "text": [
      "\r",
      " 63%|████████████████████████████████████████████████▊                             | 2501/4000 [00:33<00:19, 75.10it/s]"
     ]
    },
    {
     "name": "stdout",
     "output_type": "stream",
     "text": [
      "1320.5599\n",
      "1322.5962\n",
      "1318.851\n",
      "1316.8988\n",
      "1317.1982\n",
      "1314.8112\n",
      "1313.4835\n",
      "1312.6986\n"
     ]
    },
    {
     "name": "stderr",
     "output_type": "stream",
     "text": [
      "\r",
      " 63%|████████████████████████████████████████████████▉                             | 2509/4000 [00:33<00:19, 75.08it/s]"
     ]
    },
    {
     "name": "stdout",
     "output_type": "stream",
     "text": [
      "1313.7896\n",
      "1310.2876\n",
      "1309.0919\n",
      "1308.1016\n",
      "1307.3383\n",
      "1307.2991\n",
      "1304.822\n",
      "1303.5739\n",
      "1302.5164\n"
     ]
    },
    {
     "name": "stderr",
     "output_type": "stream",
     "text": [
      "\r",
      " 63%|█████████████████████████████████████████████████                             | 2518/4000 [00:33<00:19, 75.10it/s]"
     ]
    },
    {
     "name": "stdout",
     "output_type": "stream",
     "text": [
      "1301.8014\n",
      "1300.3643\n",
      "1299.2101\n",
      "1301.3165\n",
      "1296.9991\n",
      "1296.3018\n",
      "1294.8671\n",
      "1295.0643\n",
      "1293.1499\n"
     ]
    },
    {
     "name": "stderr",
     "output_type": "stream",
     "text": [
      "\r",
      " 63%|█████████████████████████████████████████████████▎                            | 2527/4000 [00:33<00:19, 75.12it/s]"
     ]
    },
    {
     "name": "stdout",
     "output_type": "stream",
     "text": [
      "1291.5186\n",
      "1290.508\n",
      "1289.4021\n",
      "1288.9504\n",
      "1287.5425\n",
      "1286.4601\n",
      "1285.0944\n",
      "1284.0099\n"
     ]
    },
    {
     "name": "stderr",
     "output_type": "stream",
     "text": [
      "\r",
      " 63%|█████████████████████████████████████████████████▍                            | 2535/4000 [00:33<00:19, 75.12it/s]"
     ]
    },
    {
     "name": "stdout",
     "output_type": "stream",
     "text": [
      "1282.8121\n",
      "1282.0927\n",
      "1280.6345\n",
      "1279.58\n",
      "1281.6377\n",
      "1277.6442\n",
      "1280.2748\n",
      "1275.3746\n",
      "1277.0441\n"
     ]
    },
    {
     "name": "stderr",
     "output_type": "stream",
     "text": [
      "\r",
      " 64%|█████████████████████████████████████████████████▌                            | 2544/4000 [00:33<00:19, 75.15it/s]"
     ]
    },
    {
     "name": "stdout",
     "output_type": "stream",
     "text": [
      "1273.0886\n",
      "1271.9803\n",
      "1271.0161\n",
      "1269.9598\n",
      "1268.8239\n",
      "1268.7623\n",
      "1266.7329\n",
      "1265.6658\n"
     ]
    },
    {
     "name": "stderr",
     "output_type": "stream",
     "text": [
      "\r",
      " 64%|█████████████████████████████████████████████████▊                            | 2552/4000 [00:33<00:19, 75.15it/s]"
     ]
    },
    {
     "name": "stdout",
     "output_type": "stream",
     "text": [
      "1265.0494\n",
      "1263.308\n",
      "1263.9287\n",
      "1261.4816\n",
      "1260.3575\n",
      "1259.1416\n",
      "1258.227\n",
      "1257.0302\n",
      "1256.2576\n"
     ]
    },
    {
     "name": "stderr",
     "output_type": "stream",
     "text": [
      "\r",
      " 64%|█████████████████████████████████████████████████▉                            | 2561/4000 [00:34<00:19, 75.17it/s]"
     ]
    },
    {
     "name": "stdout",
     "output_type": "stream",
     "text": [
      "1255.0004\n",
      "1256.3309\n",
      "1252.6245\n",
      "1251.5304\n",
      "1250.5193\n",
      "1249.4973\n",
      "1248.3528\n",
      "1247.2047\n"
     ]
    },
    {
     "name": "stderr",
     "output_type": "stream",
     "text": [
      "\r",
      " 64%|██████████████████████████████████████████████████                            | 2569/4000 [00:34<00:19, 75.17it/s]"
     ]
    },
    {
     "name": "stdout",
     "output_type": "stream",
     "text": [
      "1246.2833\n",
      "1245.0681\n",
      "1244.053\n",
      "1242.8837\n",
      "1242.0479\n",
      "1241.4407\n",
      "1239.7599\n",
      "1238.7363\n",
      "1238.0109\n"
     ]
    },
    {
     "name": "stderr",
     "output_type": "stream",
     "text": [
      "\r",
      " 64%|██████████████████████████████████████████████████▎                           | 2578/4000 [00:34<00:18, 75.19it/s]"
     ]
    },
    {
     "name": "stdout",
     "output_type": "stream",
     "text": [
      "1236.5276\n",
      "1236.614\n",
      "1235.3943\n",
      "1233.3689\n",
      "1232.2754\n",
      "1231.201\n",
      "1230.1848\n",
      "1229.7394\n",
      "1230.7079\n"
     ]
    },
    {
     "name": "stderr",
     "output_type": "stream",
     "text": [
      "\r",
      " 65%|██████████████████████████████████████████████████▍                           | 2587/4000 [00:34<00:18, 75.21it/s]"
     ]
    },
    {
     "name": "stdout",
     "output_type": "stream",
     "text": [
      "1227.0599\n",
      "1228.04\n",
      "1224.9016\n",
      "1223.7278\n",
      "1222.6472\n",
      "1221.7323\n",
      "1220.7092\n",
      "1219.5529\n",
      "1218.664\n"
     ]
    },
    {
     "name": "stderr",
     "output_type": "stream",
     "text": [
      "\r",
      " 65%|██████████████████████████████████████████████████▌                           | 2596/4000 [00:34<00:18, 75.23it/s]"
     ]
    },
    {
     "name": "stdout",
     "output_type": "stream",
     "text": [
      "1217.4808\n",
      "1216.399\n",
      "1215.2528\n",
      "1214.4314\n",
      "1213.4125\n",
      "1212.1812\n",
      "1211.206\n",
      "1209.9347\n",
      "1208.9435\n"
     ]
    },
    {
     "name": "stderr",
     "output_type": "stream",
     "text": [
      "\r",
      " 65%|██████████████████████████████████████████████████▊                           | 2605/4000 [00:34<00:18, 75.24it/s]"
     ]
    },
    {
     "name": "stdout",
     "output_type": "stream",
     "text": [
      "1207.8962\n",
      "1206.7988\n",
      "1205.8221\n",
      "1204.7562\n",
      "1203.7274\n",
      "1202.893\n",
      "1202.469\n",
      "1200.6227\n",
      "1199.5565\n"
     ]
    },
    {
     "name": "stderr",
     "output_type": "stream",
     "text": [
      "\r",
      " 65%|██████████████████████████████████████████████████▉                           | 2614/4000 [00:34<00:18, 75.27it/s]"
     ]
    },
    {
     "name": "stdout",
     "output_type": "stream",
     "text": [
      "1198.489\n",
      "1197.8761\n",
      "1196.3667\n",
      "1196.1906\n",
      "1194.2013\n",
      "1193.3629\n",
      "1192.268\n",
      "1191.0891\n",
      "1190.016\n"
     ]
    },
    {
     "name": "stderr",
     "output_type": "stream",
     "text": [
      "\r",
      " 66%|███████████████████████████████████████████████████▏                          | 2623/4000 [00:34<00:18, 75.28it/s]"
     ]
    },
    {
     "name": "stdout",
     "output_type": "stream",
     "text": [
      "1188.9811\n",
      "1187.9673\n",
      "1189.2452\n",
      "1186.3756\n",
      "1184.7294\n",
      "1184.2148\n",
      "1182.8105\n",
      "1181.7961\n",
      "1183.2078\n"
     ]
    },
    {
     "name": "stderr",
     "output_type": "stream",
     "text": [
      "\r",
      " 66%|███████████████████████████████████████████████████▎                          | 2632/4000 [00:34<00:18, 75.28it/s]"
     ]
    },
    {
     "name": "stdout",
     "output_type": "stream",
     "text": [
      "1179.5673\n",
      "1178.5306\n",
      "1177.4459\n",
      "1176.4388\n",
      "1175.5211\n",
      "1174.3123\n",
      "1173.2607\n",
      "1172.2357\n",
      "1176.6\n"
     ]
    },
    {
     "name": "stderr",
     "output_type": "stream",
     "text": [
      "\r",
      " 66%|███████████████████████████████████████████████████▍                          | 2641/4000 [00:35<00:18, 75.30it/s]"
     ]
    },
    {
     "name": "stdout",
     "output_type": "stream",
     "text": [
      "1170.1979\n",
      "1169.3066\n",
      "1168.1526\n",
      "1167.0366\n",
      "1166.2568\n",
      "1166.0975\n",
      "1163.9585\n",
      "1163.0669\n"
     ]
    },
    {
     "name": "stderr",
     "output_type": "stream",
     "text": [
      "\r",
      " 66%|███████████████████████████████████████████████████▋                          | 2649/4000 [00:35<00:17, 75.30it/s]"
     ]
    },
    {
     "name": "stdout",
     "output_type": "stream",
     "text": [
      "1161.9562\n",
      "1161.444\n",
      "1160.8749\n",
      "1159.0366\n",
      "1157.7731\n",
      "1157.0078\n",
      "1155.77\n",
      "1155.0182\n"
     ]
    },
    {
     "name": "stderr",
     "output_type": "stream",
     "text": [
      "\r",
      " 66%|███████████████████████████████████████████████████▊                          | 2657/4000 [00:35<00:17, 75.31it/s]"
     ]
    },
    {
     "name": "stdout",
     "output_type": "stream",
     "text": [
      "1153.734\n",
      "1152.9673\n",
      "1151.5455\n",
      "1150.7638\n",
      "1149.4874\n",
      "1150.4617\n",
      "1147.9536\n",
      "1146.6372\n"
     ]
    },
    {
     "name": "stderr",
     "output_type": "stream",
     "text": [
      "\r",
      " 67%|███████████████████████████████████████████████████▉                          | 2665/4000 [00:35<00:17, 75.32it/s]"
     ]
    },
    {
     "name": "stdout",
     "output_type": "stream",
     "text": [
      "1145.5398\n",
      "1144.4106\n",
      "1143.9413\n",
      "1142.4198\n",
      "1143.8186\n",
      "1141.2567\n",
      "1139.5536\n",
      "1138.5835\n",
      "1137.4426\n"
     ]
    },
    {
     "name": "stderr",
     "output_type": "stream",
     "text": [
      "\r",
      " 67%|████████████████████████████████████████████████████▏                         | 2674/4000 [00:35<00:17, 75.34it/s]"
     ]
    },
    {
     "name": "stdout",
     "output_type": "stream",
     "text": [
      "1136.4119\n",
      "1135.153\n",
      "1134.286\n",
      "1135.1305\n",
      "1132.1289\n",
      "1131.1316\n",
      "1130.1655\n",
      "1129.039\n"
     ]
    },
    {
     "name": "stderr",
     "output_type": "stream",
     "text": [
      "\r",
      " 67%|████████████████████████████████████████████████████▎                         | 2682/4000 [00:35<00:17, 75.36it/s]"
     ]
    },
    {
     "name": "stdout",
     "output_type": "stream",
     "text": [
      "1128.0947\n",
      "1127.1388\n",
      "1125.9642\n",
      "1125.0433\n",
      "1124.0065\n",
      "1123.1375\n",
      "1121.8623\n",
      "1121.0668\n"
     ]
    },
    {
     "name": "stderr",
     "output_type": "stream",
     "text": [
      "\r",
      " 67%|████████████████████████████████████████████████████▍                         | 2690/4000 [00:35<00:17, 75.33it/s]"
     ]
    },
    {
     "name": "stdout",
     "output_type": "stream",
     "text": [
      "1119.9132\n",
      "1118.9806\n",
      "1117.8075\n",
      "1116.9283\n",
      "1117.0408\n",
      "1114.8699\n",
      "1113.8265\n",
      "1113.05\n"
     ]
    },
    {
     "name": "stderr",
     "output_type": "stream",
     "text": [
      "\r",
      " 67%|████████████████████████████████████████████████████▌                         | 2698/4000 [00:35<00:17, 75.33it/s]"
     ]
    },
    {
     "name": "stdout",
     "output_type": "stream",
     "text": [
      "1114.371\n",
      "1110.7709\n",
      "1109.6873\n",
      "1108.968\n",
      "1107.6798\n",
      "1107.7313\n",
      "1105.815\n",
      "1104.7595\n"
     ]
    },
    {
     "name": "stderr",
     "output_type": "stream",
     "text": [
      "\r",
      " 68%|████████████████████████████████████████████████████▊                         | 2706/4000 [00:35<00:17, 75.28it/s]"
     ]
    },
    {
     "name": "stdout",
     "output_type": "stream",
     "text": [
      "1105.093\n",
      "1102.7249\n",
      "1103.7169\n",
      "1100.773\n",
      "1100.2324\n",
      "1098.6873\n",
      "1097.7012\n",
      "1097.5994\n"
     ]
    },
    {
     "name": "stderr",
     "output_type": "stream",
     "text": [
      "\r",
      " 68%|████████████████████████████████████████████████████▉                         | 2714/4000 [00:36<00:17, 75.24it/s]"
     ]
    },
    {
     "name": "stdout",
     "output_type": "stream",
     "text": [
      "1097.5491\n",
      "1094.6233\n",
      "1096.3873\n",
      "1095.33\n",
      "1093.1913\n",
      "1091.3654\n",
      "1091.778\n"
     ]
    },
    {
     "name": "stderr",
     "output_type": "stream",
     "text": [
      "\r",
      " 68%|█████████████████████████████████████████████████████                         | 2721/4000 [00:36<00:17, 75.21it/s]"
     ]
    },
    {
     "name": "stdout",
     "output_type": "stream",
     "text": [
      "1089.3804\n",
      "1087.8676\n",
      "1086.9146\n",
      "1085.8103\n",
      "1087.6393\n",
      "1083.6622\n",
      "1083.0972\n"
     ]
    },
    {
     "name": "stderr",
     "output_type": "stream",
     "text": [
      "\r",
      " 68%|█████████████████████████████████████████████████████▏                        | 2728/4000 [00:36<00:16, 75.14it/s]"
     ]
    },
    {
     "name": "stdout",
     "output_type": "stream",
     "text": [
      "1083.4739\n",
      "1081.2284\n",
      "1079.7151\n",
      "1078.7969\n",
      "1077.669\n",
      "1076.695\n",
      "1076.4933\n"
     ]
    },
    {
     "name": "stderr",
     "output_type": "stream",
     "text": [
      "\r",
      " 68%|█████████████████████████████████████████████████████▎                        | 2735/4000 [00:36<00:16, 75.09it/s]"
     ]
    },
    {
     "name": "stdout",
     "output_type": "stream",
     "text": [
      "1074.747\n",
      "1073.6782\n",
      "1072.7743\n",
      "1073.1332\n",
      "1070.7473\n",
      "1069.7393\n",
      "1068.7435\n"
     ]
    },
    {
     "name": "stderr",
     "output_type": "stream",
     "text": [
      "\r",
      " 69%|█████████████████████████████████████████████████████▍                        | 2742/4000 [00:36<00:16, 75.07it/s]"
     ]
    },
    {
     "name": "stdout",
     "output_type": "stream",
     "text": [
      "1067.8694\n",
      "1066.7882\n",
      "1066.2507\n",
      "1064.8462\n",
      "1065.9406\n",
      "1063.6322\n",
      "1062.4283\n",
      "1061.4095\n"
     ]
    },
    {
     "name": "stderr",
     "output_type": "stream",
     "text": [
      "\r",
      " 69%|█████████████████████████████████████████████████████▋                        | 2750/4000 [00:36<00:16, 75.05it/s]"
     ]
    },
    {
     "name": "stdout",
     "output_type": "stream",
     "text": [
      "1059.9379\n",
      "1058.9225\n",
      "1057.8173\n",
      "1057.0739\n",
      "1057.3527\n",
      "1055.546\n",
      "1054.0249\n"
     ]
    },
    {
     "name": "stderr",
     "output_type": "stream",
     "text": [
      "\r",
      " 69%|█████████████████████████████████████████████████████▊                        | 2757/4000 [00:36<00:16, 75.04it/s]"
     ]
    },
    {
     "name": "stdout",
     "output_type": "stream",
     "text": [
      "1052.852\n",
      "1051.8522\n",
      "1050.8593\n",
      "1050.1208\n",
      "1049.128\n",
      "1048.1615\n",
      "1047.0939\n"
     ]
    },
    {
     "name": "stderr",
     "output_type": "stream",
     "text": [
      "\r",
      " 69%|█████████████████████████████████████████████████████▉                        | 2764/4000 [00:36<00:16, 75.02it/s]"
     ]
    },
    {
     "name": "stdout",
     "output_type": "stream",
     "text": [
      "1048.0536\n",
      "1045.0627\n",
      "1044.2848\n",
      "1043.1635\n",
      "1042.1191\n",
      "1041.1917\n",
      "1040.1962\n"
     ]
    },
    {
     "name": "stderr",
     "output_type": "stream",
     "text": [
      "\r",
      " 69%|██████████████████████████████████████████████████████                        | 2771/4000 [00:36<00:16, 74.99it/s]"
     ]
    },
    {
     "name": "stdout",
     "output_type": "stream",
     "text": [
      "1039.2708\n",
      "1038.2731\n",
      "1037.1622\n",
      "1037.8955\n",
      "1035.1732\n",
      "1034.3754\n",
      "1033.5001\n",
      "1032.3269\n"
     ]
    },
    {
     "name": "stderr",
     "output_type": "stream",
     "text": [
      "\r",
      " 69%|██████████████████████████████████████████████████████▏                       | 2779/4000 [00:37<00:16, 74.99it/s]"
     ]
    },
    {
     "name": "stdout",
     "output_type": "stream",
     "text": [
      "1031.314\n",
      "1030.2292\n",
      "1032.6403\n",
      "1028.3209\n",
      "1027.43\n",
      "1027.0981\n",
      "1025.5249\n"
     ]
    },
    {
     "name": "stderr",
     "output_type": "stream",
     "text": [
      "\r",
      " 70%|██████████████████████████████████████████████████████▎                       | 2786/4000 [00:37<00:16, 74.97it/s]"
     ]
    },
    {
     "name": "stdout",
     "output_type": "stream",
     "text": [
      "1025.097\n",
      "1023.5145\n",
      "1023.06946\n",
      "1021.5626\n",
      "1020.7894\n",
      "1020.14\n",
      "1021.44385\n",
      "1017.6133\n"
     ]
    },
    {
     "name": "stderr",
     "output_type": "stream",
     "text": [
      "\r",
      " 70%|██████████████████████████████████████████████████████▍                       | 2794/4000 [00:37<00:16, 74.96it/s]"
     ]
    },
    {
     "name": "stdout",
     "output_type": "stream",
     "text": [
      "1016.8972\n",
      "1015.7372\n",
      "1014.6665\n",
      "1014.3179\n",
      "1013.70276\n",
      "1011.9381\n",
      "1010.7694\n"
     ]
    },
    {
     "name": "stderr",
     "output_type": "stream",
     "text": [
      "\r",
      " 70%|██████████████████████████████████████████████████████▌                       | 2801/4000 [00:37<00:15, 74.94it/s]"
     ]
    },
    {
     "name": "stdout",
     "output_type": "stream",
     "text": [
      "1010.02673\n",
      "1009.2256\n",
      "1008.1238\n",
      "1007.05676\n",
      "1009.62573\n",
      "1005.7423\n",
      "1004.15906\n"
     ]
    },
    {
     "name": "stderr",
     "output_type": "stream",
     "text": [
      "\r",
      " 70%|██████████████████████████████████████████████████████▊                       | 2808/4000 [00:37<00:15, 74.93it/s]"
     ]
    },
    {
     "name": "stdout",
     "output_type": "stream",
     "text": [
      "1003.1698\n",
      "1002.1549\n",
      "1001.2473\n",
      "1000.1964\n",
      "999.3457\n",
      "998.28345\n",
      "997.609\n",
      "996.3522\n"
     ]
    },
    {
     "name": "stderr",
     "output_type": "stream",
     "text": [
      "\r",
      " 70%|██████████████████████████████████████████████████████▉                       | 2816/4000 [00:37<00:15, 74.92it/s]"
     ]
    },
    {
     "name": "stdout",
     "output_type": "stream",
     "text": [
      "995.4557\n",
      "994.87964\n",
      "993.5482\n",
      "992.7229\n",
      "991.68384\n",
      "990.9098\n",
      "989.62415\n",
      "988.8877\n"
     ]
    },
    {
     "name": "stderr",
     "output_type": "stream",
     "text": [
      "\r",
      " 71%|███████████████████████████████████████████████████████                       | 2824/4000 [00:37<00:15, 74.92it/s]"
     ]
    },
    {
     "name": "stdout",
     "output_type": "stream",
     "text": [
      "987.6376\n",
      "987.6378\n",
      "985.82336\n",
      "984.9238\n",
      "983.9767\n",
      "982.8467\n",
      "982.03625\n",
      "980.9678\n"
     ]
    },
    {
     "name": "stderr",
     "output_type": "stream",
     "text": [
      "\r",
      " 71%|███████████████████████████████████████████████████████▏                      | 2832/4000 [00:37<00:15, 74.89it/s]"
     ]
    },
    {
     "name": "stdout",
     "output_type": "stream",
     "text": [
      "980.07556\n",
      "979.1333\n",
      "978.2894\n",
      "977.1659\n",
      "976.2009\n",
      "975.3729\n",
      "974.3296\n"
     ]
    },
    {
     "name": "stderr",
     "output_type": "stream",
     "text": [
      "\r",
      " 71%|███████████████████████████████████████████████████████▎                      | 2839/4000 [00:37<00:15, 74.87it/s]"
     ]
    },
    {
     "name": "stdout",
     "output_type": "stream",
     "text": [
      "973.2737\n",
      "972.3739\n",
      "971.4071\n",
      "970.5\n",
      "972.32837\n",
      "968.5095\n",
      "968.224\n",
      "969.19885\n"
     ]
    },
    {
     "name": "stderr",
     "output_type": "stream",
     "text": [
      "\r",
      " 71%|███████████████████████████████████████████████████████▌                      | 2847/4000 [00:38<00:15, 74.87it/s]"
     ]
    },
    {
     "name": "stdout",
     "output_type": "stream",
     "text": [
      "965.7582\n",
      "964.8507\n",
      "963.8423\n",
      "966.04614\n",
      "961.9022\n",
      "961.14844\n",
      "960.1947\n",
      "959.6333\n"
     ]
    },
    {
     "name": "stderr",
     "output_type": "stream",
     "text": [
      "\r",
      " 71%|███████████████████████████████████████████████████████▋                      | 2855/4000 [00:38<00:15, 74.87it/s]"
     ]
    },
    {
     "name": "stdout",
     "output_type": "stream",
     "text": [
      "958.6587\n",
      "960.16565\n",
      "956.8435\n",
      "955.62317\n",
      "954.4978\n",
      "953.65515\n",
      "952.5825\n",
      "951.60364\n"
     ]
    },
    {
     "name": "stderr",
     "output_type": "stream",
     "text": [
      "\r",
      " 72%|███████████████████████████████████████████████████████▊                      | 2863/4000 [00:38<00:15, 74.85it/s]"
     ]
    },
    {
     "name": "stdout",
     "output_type": "stream",
     "text": [
      "950.7595\n",
      "950.119\n",
      "948.683\n",
      "947.7671\n",
      "949.0635\n",
      "947.69104\n",
      "945.0957\n",
      "944.10364\n"
     ]
    },
    {
     "name": "stderr",
     "output_type": "stream",
     "text": [
      "\r",
      " 72%|███████████████████████████████████████████████████████▉                      | 2871/4000 [00:38<00:15, 74.82it/s]"
     ]
    },
    {
     "name": "stdout",
     "output_type": "stream",
     "text": [
      "943.0941\n",
      "942.1941\n",
      "942.0951\n",
      "941.3793\n",
      "939.4757\n",
      "938.6234\n",
      "937.7877\n"
     ]
    },
    {
     "name": "stderr",
     "output_type": "stream",
     "text": [
      "\r",
      " 72%|████████████████████████████████████████████████████████                      | 2878/4000 [00:38<00:15, 74.79it/s]"
     ]
    },
    {
     "name": "stdout",
     "output_type": "stream",
     "text": [
      "937.7992\n",
      "936.3441\n",
      "935.1515\n",
      "933.9214\n",
      "932.68054\n",
      "932.61255\n",
      "931.17737\n",
      "929.8895\n"
     ]
    },
    {
     "name": "stderr",
     "output_type": "stream",
     "text": [
      "\r",
      " 72%|████████████████████████████████████████████████████████▎                     | 2886/4000 [00:38<00:14, 74.80it/s]"
     ]
    },
    {
     "name": "stdout",
     "output_type": "stream",
     "text": [
      "929.2401\n",
      "928.85803\n",
      "927.12695\n",
      "926.2489\n",
      "927.4343\n",
      "924.4048\n",
      "924.34644\n",
      "922.5731\n"
     ]
    },
    {
     "name": "stderr",
     "output_type": "stream",
     "text": [
      "\r",
      " 72%|████████████████████████████████████████████████████████▍                     | 2894/4000 [00:38<00:14, 74.79it/s]"
     ]
    },
    {
     "name": "stdout",
     "output_type": "stream",
     "text": [
      "921.6587\n",
      "921.56384\n",
      "919.69604\n",
      "919.2268\n",
      "917.7866\n",
      "916.8583\n",
      "916.1211\n",
      "916.7792\n"
     ]
    },
    {
     "name": "stderr",
     "output_type": "stream",
     "text": [
      "\r",
      " 73%|████████████████████████████████████████████████████████▌                     | 2902/4000 [00:38<00:14, 74.76it/s]"
     ]
    },
    {
     "name": "stdout",
     "output_type": "stream",
     "text": [
      "917.27124\n",
      "913.8805\n",
      "912.5006\n",
      "913.85913\n",
      "910.38074\n",
      "909.43176\n",
      "908.6293\n",
      "907.84753\n"
     ]
    },
    {
     "name": "stderr",
     "output_type": "stream",
     "text": [
      "\r",
      " 73%|████████████████████████████████████████████████████████▋                     | 2910/4000 [00:38<00:14, 74.76it/s]"
     ]
    },
    {
     "name": "stdout",
     "output_type": "stream",
     "text": [
      "906.9707\n",
      "905.8887\n",
      "904.921\n",
      "905.71814\n",
      "904.90186\n",
      "903.79956\n",
      "901.41064\n",
      "900.1908\n"
     ]
    },
    {
     "name": "stderr",
     "output_type": "stream",
     "text": [
      "\r",
      " 73%|████████████████████████████████████████████████████████▉                     | 2918/4000 [00:39<00:14, 74.76it/s]"
     ]
    },
    {
     "name": "stdout",
     "output_type": "stream",
     "text": [
      "901.03625\n",
      "898.5094\n",
      "897.6256\n",
      "896.5209\n",
      "895.77185\n",
      "894.8091\n",
      "896.68396\n",
      "892.90796\n"
     ]
    },
    {
     "name": "stderr",
     "output_type": "stream",
     "text": [
      "\r",
      " 73%|█████████████████████████████████████████████████████████                     | 2926/4000 [00:39<00:14, 74.76it/s]"
     ]
    },
    {
     "name": "stdout",
     "output_type": "stream",
     "text": [
      "892.4149\n",
      "891.09326\n",
      "890.2645\n",
      "889.1515\n",
      "889.1693\n",
      "887.453\n",
      "886.5519\n",
      "885.5001\n"
     ]
    },
    {
     "name": "stderr",
     "output_type": "stream",
     "text": [
      "\r",
      " 73%|█████████████████████████████████████████████████████████▏                    | 2934/4000 [00:39<00:14, 74.76it/s]"
     ]
    },
    {
     "name": "stdout",
     "output_type": "stream",
     "text": [
      "884.6162\n",
      "884.34143\n",
      "883.64026\n",
      "886.9325\n",
      "880.87805\n",
      "880.15063\n",
      "879.2445\n",
      "878.2074\n"
     ]
    },
    {
     "name": "stderr",
     "output_type": "stream",
     "text": [
      "\r",
      " 74%|█████████████████████████████████████████████████████████▎                    | 2942/4000 [00:39<00:14, 74.75it/s]"
     ]
    },
    {
     "name": "stdout",
     "output_type": "stream",
     "text": [
      "878.00964\n",
      "877.14685\n",
      "877.2604\n",
      "875.0481\n",
      "873.68274\n",
      "872.7372\n",
      "872.23755\n",
      "871.46765\n"
     ]
    },
    {
     "name": "stderr",
     "output_type": "stream",
     "text": [
      "\r",
      " 74%|█████████████████████████████████████████████████████████▌                    | 2950/4000 [00:39<00:14, 74.74it/s]"
     ]
    },
    {
     "name": "stdout",
     "output_type": "stream",
     "text": [
      "870.03455\n",
      "872.6626\n",
      "871.1061\n",
      "868.66223\n",
      "867.63416\n",
      "865.4458\n",
      "865.0681\n",
      "865.52136\n"
     ]
    },
    {
     "name": "stderr",
     "output_type": "stream",
     "text": [
      "\r",
      " 74%|█████████████████████████████████████████████████████████▋                    | 2958/4000 [00:39<00:13, 74.75it/s]"
     ]
    },
    {
     "name": "stdout",
     "output_type": "stream",
     "text": [
      "862.8124\n",
      "861.9596\n",
      "863.4182\n",
      "860.00464\n",
      "859.1654\n",
      "858.4818\n",
      "857.32263\n",
      "858.5001\n"
     ]
    },
    {
     "name": "stderr",
     "output_type": "stream",
     "text": [
      "\r",
      " 74%|█████████████████████████████████████████████████████████▊                    | 2966/4000 [00:39<00:13, 74.74it/s]"
     ]
    },
    {
     "name": "stdout",
     "output_type": "stream",
     "text": [
      "855.9055\n",
      "854.6373\n",
      "853.94604\n",
      "853.10095\n",
      "851.8722\n",
      "850.96936\n",
      "850.1389\n",
      "849.25415\n"
     ]
    },
    {
     "name": "stderr",
     "output_type": "stream",
     "text": [
      "\r",
      " 74%|█████████████████████████████████████████████████████████▉                    | 2974/4000 [00:39<00:13, 74.74it/s]"
     ]
    },
    {
     "name": "stdout",
     "output_type": "stream",
     "text": [
      "848.4054\n",
      "847.3749\n",
      "846.4851\n",
      "845.5736\n",
      "844.6603\n",
      "843.71814\n",
      "842.81726\n",
      "841.91736\n"
     ]
    },
    {
     "name": "stderr",
     "output_type": "stream",
     "text": [
      "\r",
      " 75%|██████████████████████████████████████████████████████████▏                   | 2982/4000 [00:39<00:13, 74.74it/s]"
     ]
    },
    {
     "name": "stdout",
     "output_type": "stream",
     "text": [
      "841.2012\n",
      "840.3939\n",
      "839.34106\n",
      "838.4032\n",
      "837.47925\n",
      "837.0609\n",
      "837.40735\n",
      "834.76575\n"
     ]
    },
    {
     "name": "stderr",
     "output_type": "stream",
     "text": [
      "\r",
      " 75%|██████████████████████████████████████████████████████████▎                   | 2990/4000 [00:40<00:13, 74.72it/s]"
     ]
    },
    {
     "name": "stdout",
     "output_type": "stream",
     "text": [
      "833.8436\n",
      "832.9197\n",
      "832.06946\n",
      "831.1736\n",
      "830.89453\n",
      "829.61804\n",
      "828.69104\n",
      "827.72485\n"
     ]
    },
    {
     "name": "stderr",
     "output_type": "stream",
     "text": [
      "\r",
      " 75%|██████████████████████████████████████████████████████████▍                   | 2998/4000 [00:40<00:13, 74.72it/s]"
     ]
    },
    {
     "name": "stdout",
     "output_type": "stream",
     "text": [
      "826.9487\n",
      "826.6255\n",
      "826.49036\n",
      "824.0491\n",
      "823.1061\n",
      "823.0355\n",
      "823.21606\n",
      "820.4584\n"
     ]
    },
    {
     "name": "stderr",
     "output_type": "stream",
     "text": [
      "\r",
      " 75%|██████████████████████████████████████████████████████████▌                   | 3006/4000 [00:40<00:13, 74.72it/s]"
     ]
    },
    {
     "name": "stdout",
     "output_type": "stream",
     "text": [
      "819.78345\n",
      "818.76245\n",
      "819.97595\n",
      "817.0088\n",
      "816.1333\n",
      "815.30774\n",
      "814.33936\n",
      "813.59595\n"
     ]
    },
    {
     "name": "stderr",
     "output_type": "stream",
     "text": [
      "\r",
      " 75%|██████████████████████████████████████████████████████████▊                   | 3014/4000 [00:40<00:13, 74.73it/s]"
     ]
    },
    {
     "name": "stdout",
     "output_type": "stream",
     "text": [
      "812.43945\n",
      "811.53894\n",
      "810.7213\n",
      "809.9652\n",
      "809.1361\n",
      "808.3706\n",
      "807.0856\n",
      "806.26196\n"
     ]
    },
    {
     "name": "stderr",
     "output_type": "stream",
     "text": [
      "\r",
      " 76%|██████████████████████████████████████████████████████████▉                   | 3022/4000 [00:40<00:13, 74.73it/s]"
     ]
    },
    {
     "name": "stdout",
     "output_type": "stream",
     "text": [
      "805.3314\n",
      "804.47656\n",
      "803.71265\n",
      "803.4946\n",
      "801.8439\n",
      "800.96814\n",
      "800.04517\n",
      "799.1936\n"
     ]
    },
    {
     "name": "stderr",
     "output_type": "stream",
     "text": [
      "\r",
      " 76%|███████████████████████████████████████████████████████████                   | 3030/4000 [00:40<00:12, 74.74it/s]"
     ]
    },
    {
     "name": "stdout",
     "output_type": "stream",
     "text": [
      "799.1699\n",
      "797.6549\n",
      "796.8395\n",
      "796.3196\n",
      "794.8616\n",
      "794.00745\n",
      "793.1669\n",
      "792.15515\n"
     ]
    },
    {
     "name": "stderr",
     "output_type": "stream",
     "text": [
      "\r",
      " 76%|███████████████████████████████████████████████████████████▏                  | 3038/4000 [00:40<00:12, 74.74it/s]"
     ]
    },
    {
     "name": "stdout",
     "output_type": "stream",
     "text": [
      "792.2224\n",
      "791.97266\n",
      "789.485\n",
      "790.20715\n",
      "787.8458\n",
      "787.156\n",
      "786.1383\n",
      "785.32275\n"
     ]
    },
    {
     "name": "stderr",
     "output_type": "stream",
     "text": [
      "\r",
      " 76%|███████████████████████████████████████████████████████████▍                  | 3046/4000 [00:40<00:12, 74.74it/s]"
     ]
    },
    {
     "name": "stdout",
     "output_type": "stream",
     "text": [
      "784.537\n",
      "783.4707\n",
      "782.54065\n",
      "781.74866\n",
      "780.6564\n",
      "780.3865\n",
      "779.1957\n",
      "779.38086\n"
     ]
    },
    {
     "name": "stderr",
     "output_type": "stream",
     "text": [
      "\r",
      " 76%|███████████████████████████████████████████████████████████▌                  | 3054/4000 [00:40<00:12, 74.73it/s]"
     ]
    },
    {
     "name": "stdout",
     "output_type": "stream",
     "text": [
      "778.593\n",
      "777.4501\n",
      "775.42554\n",
      "774.6339\n",
      "775.01697\n",
      "772.9552\n",
      "772.22986\n",
      "774.2765\n"
     ]
    },
    {
     "name": "stderr",
     "output_type": "stream",
     "text": [
      "\r",
      " 77%|███████████████████████████████████████████████████████████▋                  | 3062/4000 [00:40<00:12, 74.73it/s]"
     ]
    },
    {
     "name": "stdout",
     "output_type": "stream",
     "text": [
      "770.2379\n",
      "769.8876\n",
      "768.7306\n",
      "767.8021\n",
      "767.0464\n",
      "765.9513\n",
      "765.05396\n",
      "766.188\n"
     ]
    },
    {
     "name": "stderr",
     "output_type": "stream",
     "text": [
      "\r",
      " 77%|███████████████████████████████████████████████████████████▊                  | 3070/4000 [00:41<00:12, 74.69it/s]"
     ]
    },
    {
     "name": "stdout",
     "output_type": "stream",
     "text": [
      "763.45874\n",
      "764.083\n",
      "761.6931\n",
      "760.9617\n",
      "760.7023\n",
      "759.115\n",
      "758.22595\n",
      "757.4557\n"
     ]
    },
    {
     "name": "stderr",
     "output_type": "stream",
     "text": [
      "\r",
      " 77%|████████████████████████████████████████████████████████████                  | 3078/4000 [00:41<00:12, 74.66it/s]"
     ]
    },
    {
     "name": "stdout",
     "output_type": "stream",
     "text": [
      "756.58325\n",
      "756.3292\n",
      "757.23425\n",
      "753.756\n",
      "753.05835\n",
      "752.224\n",
      "751.2328\n",
      "750.43884\n"
     ]
    },
    {
     "name": "stderr",
     "output_type": "stream",
     "text": [
      "\r",
      " 77%|████████████████████████████████████████████████████████████▏                 | 3086/4000 [00:41<00:12, 74.66it/s]"
     ]
    },
    {
     "name": "stdout",
     "output_type": "stream",
     "text": [
      "749.6504\n",
      "748.6941\n",
      "747.8423\n",
      "746.94666\n",
      "746.7632\n",
      "745.20715\n",
      "744.4828\n",
      "743.6813\n"
     ]
    },
    {
     "name": "stderr",
     "output_type": "stream",
     "text": [
      "\r",
      " 77%|████████████████████████████████████████████████████████████▎                 | 3094/4000 [00:41<00:12, 74.65it/s]"
     ]
    },
    {
     "name": "stdout",
     "output_type": "stream",
     "text": [
      "742.6843\n",
      "741.79565\n",
      "743.3457\n",
      "739.9833\n",
      "739.18567\n",
      "738.68445\n",
      "739.506\n",
      "736.5603\n"
     ]
    },
    {
     "name": "stderr",
     "output_type": "stream",
     "text": [
      "\r",
      " 78%|████████████████████████████████████████████████████████████▍                 | 3102/4000 [00:41<00:12, 74.65it/s]"
     ]
    },
    {
     "name": "stdout",
     "output_type": "stream",
     "text": [
      "735.7079\n",
      "737.4641\n",
      "734.8456\n",
      "733.2395\n",
      "732.3274\n",
      "731.47046\n",
      "730.76025\n",
      "729.6814\n",
      "730.5995\n"
     ]
    },
    {
     "name": "stderr",
     "output_type": "stream",
     "text": [
      "\r",
      " 78%|████████████████████████████████████████████████████████████▋                 | 3111/4000 [00:41<00:11, 74.67it/s]"
     ]
    },
    {
     "name": "stdout",
     "output_type": "stream",
     "text": [
      "728.11\n",
      "727.4064\n",
      "726.3341\n",
      "728.645\n",
      "724.59106\n",
      "723.7971\n",
      "722.8523\n",
      "722.8959\n"
     ]
    },
    {
     "name": "stderr",
     "output_type": "stream",
     "text": [
      "\r",
      " 78%|████████████████████████████████████████████████████████████▊                 | 3119/4000 [00:41<00:11, 74.68it/s]"
     ]
    },
    {
     "name": "stdout",
     "output_type": "stream",
     "text": [
      "722.91724\n",
      "720.6754\n",
      "721.9232\n",
      "721.02966\n",
      "717.8279\n",
      "717.0504\n",
      "716.11536\n",
      "715.2339\n"
     ]
    },
    {
     "name": "stderr",
     "output_type": "stream",
     "text": [
      "\r",
      " 78%|████████████████████████████████████████████████████████████▉                 | 3127/4000 [00:41<00:11, 74.66it/s]"
     ]
    },
    {
     "name": "stdout",
     "output_type": "stream",
     "text": [
      "714.3971\n",
      "713.5637\n",
      "713.5985\n",
      "711.9669\n",
      "711.0083\n",
      "710.08997\n",
      "709.42017\n",
      "708.4756\n"
     ]
    },
    {
     "name": "stderr",
     "output_type": "stream",
     "text": [
      "\r",
      " 78%|█████████████████████████████████████████████████████████████▏                | 3135/4000 [00:41<00:11, 74.65it/s]"
     ]
    },
    {
     "name": "stdout",
     "output_type": "stream",
     "text": [
      "707.5947\n",
      "706.86035\n",
      "706.2516\n",
      "705.04333\n",
      "704.72473\n",
      "703.36584\n",
      "702.67163\n",
      "701.7084\n"
     ]
    },
    {
     "name": "stderr",
     "output_type": "stream",
     "text": [
      "\r",
      " 79%|█████████████████████████████████████████████████████████████▎                | 3143/4000 [00:42<00:11, 74.64it/s]"
     ]
    },
    {
     "name": "stdout",
     "output_type": "stream",
     "text": [
      "700.7656\n",
      "699.9916\n",
      "704.4519\n",
      "698.36475\n",
      "697.5454\n",
      "697.1743\n",
      "695.9054\n",
      "694.9895\n"
     ]
    },
    {
     "name": "stderr",
     "output_type": "stream",
     "text": [
      "\r",
      " 79%|█████████████████████████████████████████████████████████████▍                | 3151/4000 [00:42<00:11, 74.62it/s]"
     ]
    },
    {
     "name": "stdout",
     "output_type": "stream",
     "text": [
      "694.069\n",
      "693.7595\n",
      "692.4415\n",
      "691.6747\n",
      "690.69617\n",
      "691.6948\n",
      "689.13403\n",
      "688.3976\n"
     ]
    },
    {
     "name": "stderr",
     "output_type": "stream",
     "text": [
      "\r",
      " 79%|█████████████████████████████████████████████████████████████▌                | 3159/4000 [00:42<00:11, 74.62it/s]"
     ]
    },
    {
     "name": "stdout",
     "output_type": "stream",
     "text": [
      "687.8224\n",
      "686.52576\n",
      "685.88464\n",
      "684.9219\n",
      "684.09436\n",
      "683.16345\n",
      "682.7667\n",
      "681.6732\n"
     ]
    },
    {
     "name": "stderr",
     "output_type": "stream",
     "text": [
      "\r",
      " 79%|█████████████████████████████████████████████████████████████▊                | 3167/4000 [00:42<00:11, 74.60it/s]"
     ]
    },
    {
     "name": "stdout",
     "output_type": "stream",
     "text": [
      "680.6217\n",
      "679.9419\n",
      "679.0692\n",
      "678.2848\n",
      "677.4906\n",
      "676.70264\n",
      "676.51135\n",
      "674.8469\n"
     ]
    },
    {
     "name": "stderr",
     "output_type": "stream",
     "text": [
      "\r",
      " 79%|█████████████████████████████████████████████████████████████▉                | 3175/4000 [00:42<00:11, 74.58it/s]"
     ]
    },
    {
     "name": "stdout",
     "output_type": "stream",
     "text": [
      "675.79407\n",
      "673.3949\n",
      "672.39087\n",
      "671.53345\n",
      "670.7296\n",
      "669.90784\n",
      "668.9967\n",
      "668.28406\n"
     ]
    },
    {
     "name": "stderr",
     "output_type": "stream",
     "text": [
      "\r",
      " 80%|██████████████████████████████████████████████████████████████                | 3183/4000 [00:42<00:10, 74.57it/s]"
     ]
    },
    {
     "name": "stdout",
     "output_type": "stream",
     "text": [
      "667.26746\n",
      "666.61633\n",
      "665.8187\n",
      "664.9214\n",
      "664.0824\n",
      "663.33936\n",
      "662.5199\n",
      "662.07153\n"
     ]
    },
    {
     "name": "stderr",
     "output_type": "stream",
     "text": [
      "\r",
      " 80%|██████████████████████████████████████████████████████████████▏               | 3191/4000 [00:42<00:10, 74.55it/s]"
     ]
    },
    {
     "name": "stdout",
     "output_type": "stream",
     "text": [
      "660.806\n",
      "660.8131\n",
      "659.558\n",
      "658.3519\n",
      "657.53613\n",
      "656.692\n",
      "656.5094\n"
     ]
    },
    {
     "name": "stderr",
     "output_type": "stream",
     "text": [
      "\r",
      " 80%|██████████████████████████████████████████████████████████████▎               | 3198/4000 [00:42<00:10, 74.51it/s]"
     ]
    },
    {
     "name": "stdout",
     "output_type": "stream",
     "text": [
      "654.9728\n",
      "654.25806\n",
      "653.3252\n",
      "652.3998\n",
      "651.6854\n",
      "650.9425\n",
      "649.9961\n",
      "650.59534\n"
     ]
    },
    {
     "name": "stderr",
     "output_type": "stream",
     "text": [
      "\r",
      " 80%|██████████████████████████████████████████████████████████████▌               | 3206/4000 [00:43<00:10, 74.50it/s]"
     ]
    },
    {
     "name": "stdout",
     "output_type": "stream",
     "text": [
      "648.60034\n",
      "647.5326\n",
      "646.9591\n",
      "645.9617\n",
      "645.09656\n",
      "646.807\n",
      "644.21875\n"
     ]
    },
    {
     "name": "stderr",
     "output_type": "stream",
     "text": [
      "\r",
      " 80%|██████████████████████████████████████████████████████████████▋               | 3213/4000 [00:43<00:10, 74.48it/s]"
     ]
    },
    {
     "name": "stdout",
     "output_type": "stream",
     "text": [
      "643.464\n",
      "642.37646\n",
      "640.9149\n",
      "640.0121\n",
      "639.2545\n",
      "638.38635\n",
      "640.03015\n",
      "637.2991\n"
     ]
    },
    {
     "name": "stderr",
     "output_type": "stream",
     "text": [
      "\r",
      " 81%|██████████████████████████████████████████████████████████████▊               | 3221/4000 [00:43<00:10, 74.48it/s]"
     ]
    },
    {
     "name": "stdout",
     "output_type": "stream",
     "text": [
      "636.6776\n",
      "636.0038\n",
      "635.9402\n",
      "633.54944\n",
      "632.7489\n",
      "631.8862\n",
      "631.1697\n",
      "630.8407\n"
     ]
    },
    {
     "name": "stderr",
     "output_type": "stream",
     "text": [
      "\r",
      " 81%|██████████████████████████████████████████████████████████████▉               | 3229/4000 [00:43<00:10, 74.47it/s]"
     ]
    },
    {
     "name": "stdout",
     "output_type": "stream",
     "text": [
      "629.4492\n",
      "628.6266\n",
      "628.1493\n",
      "626.97534\n",
      "626.15564\n",
      "627.2683\n",
      "624.5631\n",
      "623.7145\n"
     ]
    },
    {
     "name": "stderr",
     "output_type": "stream",
     "text": [
      "\r",
      " 81%|███████████████████████████████████████████████████████████████               | 3237/4000 [00:43<00:10, 74.47it/s]"
     ]
    },
    {
     "name": "stdout",
     "output_type": "stream",
     "text": [
      "622.89856\n",
      "622.22876\n",
      "621.4347\n",
      "621.25366\n",
      "620.08923\n",
      "619.9144\n",
      "618.7811\n",
      "617.35266\n"
     ]
    },
    {
     "name": "stderr",
     "output_type": "stream",
     "text": [
      "\r",
      " 81%|███████████████████████████████████████████████████████████████▎              | 3245/4000 [00:43<00:10, 74.46it/s]"
     ]
    },
    {
     "name": "stdout",
     "output_type": "stream",
     "text": [
      "616.38074\n",
      "619.73987\n",
      "617.29724\n",
      "613.9769\n",
      "613.5873\n",
      "613.0383\n",
      "613.5331\n",
      "610.88025\n"
     ]
    },
    {
     "name": "stderr",
     "output_type": "stream",
     "text": [
      "\r",
      " 81%|███████████████████████████████████████████████████████████████▍              | 3253/4000 [00:43<00:10, 74.46it/s]"
     ]
    },
    {
     "name": "stdout",
     "output_type": "stream",
     "text": [
      "613.4872\n",
      "609.3058\n",
      "610.01465\n",
      "607.7291\n",
      "606.84216\n",
      "606.09216\n",
      "605.3782\n",
      "604.3623\n"
     ]
    },
    {
     "name": "stderr",
     "output_type": "stream",
     "text": [
      "\r",
      " 82%|███████████████████████████████████████████████████████████████▌              | 3261/4000 [00:43<00:09, 74.46it/s]"
     ]
    },
    {
     "name": "stdout",
     "output_type": "stream",
     "text": [
      "603.6892\n",
      "603.2449\n",
      "602.9862\n",
      "601.80615\n",
      "600.3352\n",
      "602.06006\n",
      "598.97437\n",
      "599.635\n"
     ]
    },
    {
     "name": "stderr",
     "output_type": "stream",
     "text": [
      "\r",
      " 82%|███████████████████████████████████████████████████████████████▋              | 3269/4000 [00:43<00:09, 74.46it/s]"
     ]
    },
    {
     "name": "stdout",
     "output_type": "stream",
     "text": [
      "597.197\n",
      "596.3535\n",
      "595.5604\n",
      "594.88403\n",
      "595.6582\n",
      "593.17126\n",
      "592.2981\n",
      "593.22205\n"
     ]
    },
    {
     "name": "stderr",
     "output_type": "stream",
     "text": [
      "\r",
      " 82%|███████████████████████████████████████████████████████████████▉              | 3277/4000 [00:44<00:09, 74.47it/s]"
     ]
    },
    {
     "name": "stdout",
     "output_type": "stream",
     "text": [
      "591.1809\n",
      "589.9125\n",
      "589.04675\n",
      "590.2628\n",
      "587.93787\n",
      "586.6974\n",
      "586.02686\n",
      "585.1647\n"
     ]
    },
    {
     "name": "stderr",
     "output_type": "stream",
     "text": [
      "\r",
      " 82%|████████████████████████████████████████████████████████████████              | 3285/4000 [00:44<00:09, 74.46it/s]"
     ]
    },
    {
     "name": "stdout",
     "output_type": "stream",
     "text": [
      "584.3053\n",
      "583.6288\n",
      "582.6312\n",
      "583.677\n",
      "581.1361\n",
      "580.2656\n",
      "579.42786\n",
      "579.5995\n"
     ]
    },
    {
     "name": "stderr",
     "output_type": "stream",
     "text": [
      "\r",
      " 82%|████████████████████████████████████████████████████████████████▏             | 3293/4000 [00:44<00:09, 74.45it/s]"
     ]
    },
    {
     "name": "stdout",
     "output_type": "stream",
     "text": [
      "578.10876\n",
      "577.3456\n",
      "576.6405\n",
      "575.5908\n",
      "574.8152\n",
      "573.8949\n",
      "574.7092\n",
      "572.4967\n",
      "571.5763\n"
     ]
    },
    {
     "name": "stderr",
     "output_type": "stream",
     "text": [
      "\r",
      " 83%|████████████████████████████████████████████████████████████████▍             | 3302/4000 [00:44<00:09, 74.46it/s]"
     ]
    },
    {
     "name": "stdout",
     "output_type": "stream",
     "text": [
      "570.8956\n",
      "569.86536\n",
      "569.47534\n",
      "568.39307\n",
      "567.6681\n",
      "569.6334\n",
      "567.5812\n",
      "565.2671\n",
      "564.5901\n"
     ]
    },
    {
     "name": "stderr",
     "output_type": "stream",
     "text": [
      "\r",
      " 83%|████████████████████████████████████████████████████████████████▌             | 3311/4000 [00:44<00:09, 74.48it/s]"
     ]
    },
    {
     "name": "stdout",
     "output_type": "stream",
     "text": [
      "564.7179\n",
      "562.9149\n",
      "563.5841\n",
      "561.20825\n",
      "560.56995\n",
      "559.73645\n",
      "559.1244\n",
      "558.4275\n",
      "557.3645\n"
     ]
    },
    {
     "name": "stderr",
     "output_type": "stream",
     "text": [
      "\r",
      " 83%|████████████████████████████████████████████████████████████████▋             | 3320/4000 [00:44<00:09, 74.50it/s]"
     ]
    },
    {
     "name": "stdout",
     "output_type": "stream",
     "text": [
      "556.9059\n",
      "555.82446\n",
      "555.31836\n",
      "554.22595\n",
      "553.2622\n",
      "552.61633\n",
      "551.78613\n",
      "551.60864\n",
      "550.4147\n"
     ]
    },
    {
     "name": "stderr",
     "output_type": "stream",
     "text": [
      "\r",
      " 83%|████████████████████████████████████████████████████████████████▉             | 3329/4000 [00:44<00:09, 74.52it/s]"
     ]
    },
    {
     "name": "stdout",
     "output_type": "stream",
     "text": [
      "549.37366\n",
      "550.26404\n",
      "547.76575\n",
      "547.0217\n",
      "546.2816\n",
      "545.761\n",
      "544.6195\n",
      "543.8417\n",
      "544.36926\n"
     ]
    },
    {
     "name": "stderr",
     "output_type": "stream",
     "text": [
      "\r",
      " 83%|█████████████████████████████████████████████████████████████████             | 3338/4000 [00:44<00:08, 74.54it/s]"
     ]
    },
    {
     "name": "stdout",
     "output_type": "stream",
     "text": [
      "542.2958\n",
      "541.55725\n",
      "540.7284\n",
      "539.9862\n",
      "539.23254\n",
      "538.41956\n",
      "539.4453\n",
      "536.93884\n",
      "536.08154\n"
     ]
    },
    {
     "name": "stderr",
     "output_type": "stream",
     "text": [
      "\r",
      " 84%|█████████████████████████████████████████████████████████████████▎            | 3347/4000 [00:44<00:08, 74.55it/s]"
     ]
    },
    {
     "name": "stdout",
     "output_type": "stream",
     "text": [
      "535.41833\n",
      "534.60144\n",
      "534.5314\n",
      "533.00574\n",
      "533.6881\n",
      "531.3456\n",
      "531.2363\n",
      "530.02185\n",
      "529.1073\n"
     ]
    },
    {
     "name": "stderr",
     "output_type": "stream",
     "text": [
      "\r",
      " 84%|█████████████████████████████████████████████████████████████████▍            | 3356/4000 [00:45<00:08, 74.56it/s]"
     ]
    },
    {
     "name": "stdout",
     "output_type": "stream",
     "text": [
      "528.28125\n",
      "527.68933\n",
      "526.827\n",
      "525.9209\n",
      "525.17346\n",
      "529.06995\n",
      "523.671\n",
      "523.17957\n",
      "522.4817\n"
     ]
    },
    {
     "name": "stderr",
     "output_type": "stream",
     "text": [
      "\r",
      " 84%|█████████████████████████████████████████████████████████████████▌            | 3365/4000 [00:45<00:08, 74.57it/s]"
     ]
    },
    {
     "name": "stdout",
     "output_type": "stream",
     "text": [
      "521.21375\n",
      "520.47\n",
      "519.79114\n",
      "519.1367\n",
      "518.31885\n",
      "517.79297\n",
      "516.7859\n",
      "515.96765\n",
      "515.1902\n"
     ]
    },
    {
     "name": "stderr",
     "output_type": "stream",
     "text": [
      "\r",
      " 84%|█████████████████████████████████████████████████████████████████▊            | 3374/4000 [00:45<00:08, 74.59it/s]"
     ]
    },
    {
     "name": "stdout",
     "output_type": "stream",
     "text": [
      "514.25476\n",
      "513.46985\n",
      "512.7687\n",
      "511.91125\n",
      "512.76855\n",
      "513.3729\n",
      "509.8871\n",
      "509.73706\n",
      "508.19495\n"
     ]
    },
    {
     "name": "stderr",
     "output_type": "stream",
     "text": [
      "\r",
      " 85%|█████████████████████████████████████████████████████████████████▉            | 3383/4000 [00:45<00:08, 74.61it/s]"
     ]
    },
    {
     "name": "stdout",
     "output_type": "stream",
     "text": [
      "507.2351\n",
      "506.54114\n",
      "505.8064\n",
      "505.0255\n",
      "504.46777\n",
      "503.65735\n",
      "502.6521\n",
      "502.276\n",
      "501.28125\n"
     ]
    },
    {
     "name": "stderr",
     "output_type": "stream",
     "text": [
      "\r",
      " 85%|██████████████████████████████████████████████████████████████████▏           | 3392/4000 [00:45<00:08, 74.62it/s]"
     ]
    },
    {
     "name": "stdout",
     "output_type": "stream",
     "text": [
      "500.656\n",
      "499.6654\n",
      "499.2915\n",
      "498.27515\n",
      "498.28406\n",
      "496.52893\n",
      "496.72766\n",
      "495.0946\n",
      "495.91956\n"
     ]
    },
    {
     "name": "stderr",
     "output_type": "stream",
     "text": [
      "\r",
      " 85%|██████████████████████████████████████████████████████████████████▎           | 3401/4000 [00:45<00:08, 74.62it/s]"
     ]
    },
    {
     "name": "stdout",
     "output_type": "stream",
     "text": [
      "493.46155\n",
      "492.8506\n",
      "494.86597\n",
      "491.2356\n",
      "490.41357\n",
      "489.8954\n",
      "488.88745\n",
      "488.09753\n",
      "487.68933\n"
     ]
    },
    {
     "name": "stderr",
     "output_type": "stream",
     "text": [
      "\r",
      " 85%|██████████████████████████████████████████████████████████████████▍           | 3410/4000 [00:45<00:07, 74.64it/s]"
     ]
    },
    {
     "name": "stdout",
     "output_type": "stream",
     "text": [
      "486.60706\n",
      "487.97156\n",
      "485.00647\n",
      "484.27368\n",
      "483.53247\n",
      "482.90063\n",
      "482.20862\n",
      "481.2428\n",
      "480.52454\n"
     ]
    },
    {
     "name": "stderr",
     "output_type": "stream",
     "text": [
      "\r",
      " 85%|██████████████████████████████████████████████████████████████████▋           | 3419/4000 [00:45<00:07, 74.66it/s]"
     ]
    },
    {
     "name": "stdout",
     "output_type": "stream",
     "text": [
      "479.89612\n",
      "478.92444\n",
      "478.13855\n",
      "477.3734\n",
      "476.64807\n",
      "476.12708\n",
      "475.3866\n",
      "476.09595\n",
      "474.9696\n"
     ]
    },
    {
     "name": "stderr",
     "output_type": "stream",
     "text": [
      "\r",
      " 86%|██████████████████████████████████████████████████████████████████▊           | 3428/4000 [00:45<00:07, 74.66it/s]"
     ]
    },
    {
     "name": "stdout",
     "output_type": "stream",
     "text": [
      "475.04712\n",
      "472.18298\n",
      "471.39392\n",
      "471.0005\n",
      "470.0381\n",
      "469.68152\n",
      "468.28955\n",
      "467.5603\n",
      "466.9828\n"
     ]
    },
    {
     "name": "stderr",
     "output_type": "stream",
     "text": [
      "\r",
      " 86%|███████████████████████████████████████████████████████████████████           | 3437/4000 [00:46<00:07, 74.68it/s]"
     ]
    },
    {
     "name": "stdout",
     "output_type": "stream",
     "text": [
      "466.4447\n",
      "466.16174\n",
      "466.7096\n",
      "464.0255\n",
      "462.97827\n",
      "462.2965\n",
      "461.79456\n",
      "460.985\n"
     ]
    },
    {
     "name": "stderr",
     "output_type": "stream",
     "text": [
      "\r",
      " 86%|███████████████████████████████████████████████████████████████████▏          | 3445/4000 [00:46<00:07, 74.68it/s]"
     ]
    },
    {
     "name": "stdout",
     "output_type": "stream",
     "text": [
      "460.193\n",
      "459.37585\n",
      "458.6223\n",
      "457.90564\n",
      "457.00037\n",
      "456.22156\n",
      "455.5321\n",
      "454.7201\n"
     ]
    },
    {
     "name": "stderr",
     "output_type": "stream",
     "text": [
      "\r",
      " 86%|███████████████████████████████████████████████████████████████████▎          | 3453/4000 [00:46<00:07, 74.70it/s]"
     ]
    },
    {
     "name": "stdout",
     "output_type": "stream",
     "text": [
      "454.14478\n",
      "453.29968\n",
      "454.40332\n",
      "452.1306\n",
      "451.11145\n",
      "450.64575\n",
      "451.81702\n",
      "448.88318\n"
     ]
    },
    {
     "name": "stderr",
     "output_type": "stream",
     "text": [
      "\r",
      " 87%|███████████████████████████████████████████████████████████████████▍          | 3461/4000 [00:46<00:07, 74.71it/s]"
     ]
    },
    {
     "name": "stdout",
     "output_type": "stream",
     "text": [
      "447.99133\n",
      "447.26184\n",
      "446.56042\n",
      "445.94446\n",
      "445.0818\n",
      "444.14404\n",
      "443.56458\n",
      "443.78394\n",
      "441.97302\n"
     ]
    },
    {
     "name": "stderr",
     "output_type": "stream",
     "text": [
      "\r",
      " 87%|███████████████████████████████████████████████████████████████████▋          | 3470/4000 [00:46<00:07, 74.72it/s]"
     ]
    },
    {
     "name": "stdout",
     "output_type": "stream",
     "text": [
      "441.21667\n",
      "440.78955\n",
      "439.7516\n",
      "438.9408\n",
      "440.24475\n",
      "437.60608\n",
      "437.31262\n",
      "435.99792\n"
     ]
    },
    {
     "name": "stderr",
     "output_type": "stream",
     "text": [
      "\r",
      " 87%|███████████████████████████████████████████████████████████████████▊          | 3478/4000 [00:46<00:06, 74.73it/s]"
     ]
    },
    {
     "name": "stdout",
     "output_type": "stream",
     "text": [
      "435.24524\n",
      "435.24\n",
      "433.76843\n",
      "437.29016\n",
      "432.30322\n",
      "431.57202\n",
      "433.5475\n",
      "432.38867\n"
     ]
    },
    {
     "name": "stderr",
     "output_type": "stream",
     "text": [
      "\r",
      " 87%|███████████████████████████████████████████████████████████████████▉          | 3486/4000 [00:46<00:06, 74.73it/s]"
     ]
    },
    {
     "name": "stdout",
     "output_type": "stream",
     "text": [
      "429.69812\n",
      "428.70325\n",
      "427.82117\n",
      "427.21997\n",
      "426.42175\n",
      "425.70593\n",
      "425.02222\n",
      "424.06152\n",
      "423.46716\n"
     ]
    },
    {
     "name": "stderr",
     "output_type": "stream",
     "text": [
      "\r",
      " 87%|████████████████████████████████████████████████████████████████████▏         | 3495/4000 [00:46<00:06, 74.75it/s]"
     ]
    },
    {
     "name": "stdout",
     "output_type": "stream",
     "text": [
      "424.96155\n",
      "421.89563\n",
      "421.27625\n",
      "421.4309\n",
      "419.7699\n",
      "420.86414\n",
      "418.51526\n",
      "417.47266\n"
     ]
    },
    {
     "name": "stderr",
     "output_type": "stream",
     "text": [
      "\r",
      " 88%|████████████████████████████████████████████████████████████████████▎         | 3503/4000 [00:46<00:06, 74.76it/s]"
     ]
    },
    {
     "name": "stdout",
     "output_type": "stream",
     "text": [
      "418.2484\n",
      "416.23328\n",
      "415.27612\n",
      "416.70496\n",
      "413.95837\n",
      "413.12012\n",
      "412.40637\n",
      "411.6725\n",
      "410.922\n"
     ]
    },
    {
     "name": "stderr",
     "output_type": "stream",
     "text": [
      "\r",
      " 88%|████████████████████████████████████████████████████████████████████▍         | 3512/4000 [00:46<00:06, 74.77it/s]"
     ]
    },
    {
     "name": "stdout",
     "output_type": "stream",
     "text": [
      "411.81946\n",
      "410.63696\n",
      "408.85327\n",
      "407.97083\n",
      "407.2849\n",
      "407.91223\n",
      "405.70898\n",
      "404.99414\n",
      "404.32178\n"
     ]
    },
    {
     "name": "stderr",
     "output_type": "stream",
     "text": [
      "\r",
      " 88%|████████████████████████████████████████████████████████████████████▋         | 3521/4000 [00:47<00:06, 74.79it/s]"
     ]
    },
    {
     "name": "stdout",
     "output_type": "stream",
     "text": [
      "403.73254\n",
      "403.0017\n",
      "402.04504\n",
      "401.4757\n",
      "400.92688\n",
      "403.24756\n",
      "399.16052\n",
      "398.33276\n",
      "397.66406\n"
     ]
    },
    {
     "name": "stderr",
     "output_type": "stream",
     "text": [
      "\r",
      " 88%|████████████████████████████████████████████████████████████████████▊         | 3530/4000 [00:47<00:06, 74.79it/s]"
     ]
    },
    {
     "name": "stdout",
     "output_type": "stream",
     "text": [
      "397.10522\n",
      "396.53674\n",
      "395.51428\n",
      "395.18616\n",
      "396.55627\n",
      "393.2566\n",
      "395.24646\n",
      "391.98584\n",
      "391.31836\n"
     ]
    },
    {
     "name": "stderr",
     "output_type": "stream",
     "text": [
      "\r",
      " 88%|█████████████████████████████████████████████████████████████████████         | 3539/4000 [00:47<00:06, 74.81it/s]"
     ]
    },
    {
     "name": "stdout",
     "output_type": "stream",
     "text": [
      "390.95154\n",
      "389.61975\n",
      "388.92407\n",
      "388.29187\n",
      "388.89465\n",
      "386.68164\n",
      "386.66504\n",
      "385.214\n",
      "384.62805\n"
     ]
    },
    {
     "name": "stderr",
     "output_type": "stream",
     "text": [
      "\r",
      " 89%|█████████████████████████████████████████████████████████████████████▏        | 3548/4000 [00:47<00:06, 74.82it/s]"
     ]
    },
    {
     "name": "stdout",
     "output_type": "stream",
     "text": [
      "385.01917\n",
      "383.3026\n",
      "384.4325\n",
      "382.5111\n",
      "380.8761\n",
      "380.24768\n",
      "379.52625\n",
      "380.14087\n",
      "378.10754\n"
     ]
    },
    {
     "name": "stderr",
     "output_type": "stream",
     "text": [
      "\r",
      " 89%|█████████████████████████████████████████████████████████████████████▎        | 3557/4000 [00:47<00:05, 74.84it/s]"
     ]
    },
    {
     "name": "stdout",
     "output_type": "stream",
     "text": [
      "380.1825\n",
      "377.01343\n",
      "375.9978\n",
      "375.14246\n",
      "375.02197\n",
      "373.6726\n",
      "373.026\n",
      "372.33435\n",
      "371.70447\n"
     ]
    },
    {
     "name": "stderr",
     "output_type": "stream",
     "text": [
      "\r",
      " 89%|█████████████████████████████████████████████████████████████████████▌        | 3566/4000 [00:47<00:05, 74.85it/s]"
     ]
    },
    {
     "name": "stdout",
     "output_type": "stream",
     "text": [
      "370.87244\n",
      "370.42786\n",
      "370.8258\n",
      "368.58728\n",
      "369.75952\n",
      "367.57178\n",
      "366.8042\n",
      "365.83972\n",
      "365.06262\n"
     ]
    },
    {
     "name": "stderr",
     "output_type": "stream",
     "text": [
      "\r",
      " 89%|█████████████████████████████████████████████████████████████████████▋        | 3575/4000 [00:47<00:05, 74.85it/s]"
     ]
    },
    {
     "name": "stdout",
     "output_type": "stream",
     "text": [
      "364.28015\n",
      "363.6117\n",
      "363.48608\n",
      "362.8379\n",
      "361.37805\n",
      "360.85278\n",
      "360.25183\n",
      "359.18982\n"
     ]
    },
    {
     "name": "stderr",
     "output_type": "stream",
     "text": [
      "\r",
      " 90%|█████████████████████████████████████████████████████████████████████▊        | 3583/4000 [00:47<00:05, 74.86it/s]"
     ]
    },
    {
     "name": "stdout",
     "output_type": "stream",
     "text": [
      "358.66187\n",
      "358.00134\n",
      "357.82312\n",
      "356.38855\n",
      "355.72583\n",
      "354.94702\n",
      "354.22595\n",
      "353.51697\n",
      "353.13696\n"
     ]
    },
    {
     "name": "stderr",
     "output_type": "stream",
     "text": [
      "\r",
      " 90%|██████████████████████████████████████████████████████████████████████        | 3592/4000 [00:47<00:05, 74.87it/s]"
     ]
    },
    {
     "name": "stdout",
     "output_type": "stream",
     "text": [
      "352.13232\n",
      "351.51318\n",
      "351.047\n",
      "349.84607\n",
      "352.6654\n",
      "349.2201\n",
      "347.76245\n",
      "349.08447\n",
      "346.3595\n"
     ]
    },
    {
     "name": "stderr",
     "output_type": "stream",
     "text": [
      "\r",
      " 90%|██████████████████████████████████████████████████████████████████████▏       | 3601/4000 [00:48<00:05, 74.89it/s]"
     ]
    },
    {
     "name": "stdout",
     "output_type": "stream",
     "text": [
      "345.86963\n",
      "344.9087\n",
      "344.2168\n",
      "343.5089\n",
      "342.77698\n",
      "342.2577\n",
      "341.57947\n",
      "340.79138\n"
     ]
    },
    {
     "name": "stderr",
     "output_type": "stream",
     "text": [
      "\r",
      " 90%|██████████████████████████████████████████████████████████████████████▍       | 3609/4000 [00:48<00:05, 74.89it/s]"
     ]
    },
    {
     "name": "stdout",
     "output_type": "stream",
     "text": [
      "340.43213\n",
      "339.19055\n",
      "338.8147\n",
      "338.21973\n",
      "337.40918\n",
      "336.44165\n",
      "335.86072\n",
      "334.96277\n",
      "334.36523\n"
     ]
    },
    {
     "name": "stderr",
     "output_type": "stream",
     "text": [
      "\r",
      " 90%|██████████████████████████████████████████████████████████████████████▌       | 3618/4000 [00:48<00:05, 74.90it/s]"
     ]
    },
    {
     "name": "stdout",
     "output_type": "stream",
     "text": [
      "334.0609\n",
      "332.85815\n",
      "333.3446\n",
      "331.3827\n",
      "330.67395\n",
      "330.17004\n",
      "329.3872\n",
      "328.74158\n"
     ]
    },
    {
     "name": "stderr",
     "output_type": "stream",
     "text": [
      "\r",
      " 91%|██████████████████████████████████████████████████████████████████████▋       | 3626/4000 [00:48<00:04, 74.91it/s]"
     ]
    },
    {
     "name": "stdout",
     "output_type": "stream",
     "text": [
      "329.92322\n",
      "329.2229\n",
      "327.03784\n",
      "325.73438\n",
      "325.15833\n",
      "324.5011\n",
      "323.625\n",
      "323.07935\n",
      "322.25415\n"
     ]
    },
    {
     "name": "stderr",
     "output_type": "stream",
     "text": [
      "\r",
      " 91%|██████████████████████████████████████████████████████████████████████▉       | 3635/4000 [00:48<00:04, 74.92it/s]"
     ]
    },
    {
     "name": "stdout",
     "output_type": "stream",
     "text": [
      "321.68884\n",
      "321.27295\n",
      "320.2036\n",
      "319.50525\n",
      "319.5348\n",
      "318.1692\n",
      "317.9768\n",
      "316.5852\n",
      "316.84802\n"
     ]
    },
    {
     "name": "stderr",
     "output_type": "stream",
     "text": [
      "\r",
      " 91%|███████████████████████████████████████████████████████████████████████       | 3644/4000 [00:48<00:04, 74.94it/s]"
     ]
    },
    {
     "name": "stdout",
     "output_type": "stream",
     "text": [
      "315.45312\n",
      "314.61304\n",
      "313.87305\n",
      "313.01904\n",
      "312.71765\n",
      "311.7268\n",
      "310.97607\n",
      "310.3059\n",
      "309.5681\n"
     ]
    },
    {
     "name": "stderr",
     "output_type": "stream",
     "text": [
      "\r",
      " 91%|███████████████████████████████████████████████████████████████████████▏      | 3653/4000 [00:48<00:04, 74.94it/s]"
     ]
    },
    {
     "name": "stdout",
     "output_type": "stream",
     "text": [
      "308.79504\n",
      "308.11975\n",
      "309.057\n",
      "306.91882\n",
      "306.1267\n",
      "306.0326\n",
      "306.7129\n",
      "304.03955\n",
      "303.33826\n"
     ]
    },
    {
     "name": "stderr",
     "output_type": "stream",
     "text": [
      "\r",
      " 92%|███████████████████████████████████████████████████████████████████████▍      | 3662/4000 [00:48<00:04, 74.96it/s]"
     ]
    },
    {
     "name": "stdout",
     "output_type": "stream",
     "text": [
      "302.83142\n",
      "301.9491\n",
      "302.3296\n",
      "301.2583\n",
      "300.1725\n",
      "299.14\n",
      "298.3977\n",
      "297.66858\n",
      "297.7799\n"
     ]
    },
    {
     "name": "stderr",
     "output_type": "stream",
     "text": [
      "\r",
      " 92%|███████████████████████████████████████████████████████████████████████▌      | 3671/4000 [00:48<00:04, 74.98it/s]"
     ]
    },
    {
     "name": "stdout",
     "output_type": "stream",
     "text": [
      "296.28198\n",
      "296.44922\n",
      "294.8695\n",
      "294.22913\n",
      "293.91077\n",
      "293.90173\n",
      "292.04504\n",
      "291.47913\n",
      "290.6925\n"
     ]
    },
    {
     "name": "stderr",
     "output_type": "stream",
     "text": [
      "\r",
      " 92%|███████████████████████████████████████████████████████████████████████▊      | 3680/4000 [00:49<00:04, 75.00it/s]"
     ]
    },
    {
     "name": "stdout",
     "output_type": "stream",
     "text": [
      "290.01465\n",
      "289.40466\n",
      "288.67053\n",
      "287.8662\n",
      "287.15918\n",
      "286.60632\n",
      "288.98877\n",
      "285.3297\n",
      "284.48865\n"
     ]
    },
    {
     "name": "stderr",
     "output_type": "stream",
     "text": [
      "\r",
      " 92%|███████████████████████████████████████████████████████████████████████▉      | 3689/4000 [00:49<00:04, 75.01it/s]"
     ]
    },
    {
     "name": "stdout",
     "output_type": "stream",
     "text": [
      "283.93274\n",
      "283.15015\n",
      "282.46533\n",
      "281.6715\n",
      "280.99304\n",
      "280.31152\n",
      "279.57202\n",
      "279.45068\n",
      "278.6753\n"
     ]
    },
    {
     "name": "stderr",
     "output_type": "stream",
     "text": [
      "\r",
      " 92%|████████████████████████████████████████████████████████████████████████      | 3698/4000 [00:49<00:04, 75.03it/s]"
     ]
    },
    {
     "name": "stdout",
     "output_type": "stream",
     "text": [
      "277.6344\n",
      "277.10632\n",
      "276.13562\n",
      "275.5166\n",
      "274.89893\n",
      "274.20154\n",
      "273.3988\n",
      "272.98474\n",
      "272.06628\n"
     ]
    },
    {
     "name": "stderr",
     "output_type": "stream",
     "text": [
      "\r",
      " 93%|████████████████████████████████████████████████████████████████████████▎     | 3707/4000 [00:49<00:03, 75.04it/s]"
     ]
    },
    {
     "name": "stdout",
     "output_type": "stream",
     "text": [
      "271.55835\n",
      "270.63647\n",
      "270.01477\n",
      "271.51538\n",
      "268.52905\n",
      "267.87927\n",
      "267.2815\n",
      "266.6731\n",
      "267.64685\n"
     ]
    },
    {
     "name": "stderr",
     "output_type": "stream",
     "text": [
      "\r",
      " 93%|████████████████████████████████████████████████████████████████████████▍     | 3716/4000 [00:49<00:03, 75.06it/s]"
     ]
    },
    {
     "name": "stdout",
     "output_type": "stream",
     "text": [
      "265.22363\n",
      "265.677\n",
      "264.19275\n",
      "263.02856\n",
      "262.38318\n",
      "261.7682\n",
      "263.42786\n",
      "260.64148\n",
      "259.90027\n"
     ]
    },
    {
     "name": "stderr",
     "output_type": "stream",
     "text": [
      "\r",
      " 93%|████████████████████████████████████████████████████████████████████████▋     | 3725/4000 [00:49<00:03, 75.07it/s]"
     ]
    },
    {
     "name": "stdout",
     "output_type": "stream",
     "text": [
      "259.10046\n",
      "260.0376\n",
      "257.66223\n",
      "256.93616\n",
      "256.36548\n",
      "255.60364\n",
      "254.90833\n",
      "256.1792\n",
      "253.65112\n"
     ]
    },
    {
     "name": "stderr",
     "output_type": "stream",
     "text": [
      "\r",
      " 93%|████████████████████████████████████████████████████████████████████████▊     | 3734/4000 [00:49<00:03, 75.09it/s]"
     ]
    },
    {
     "name": "stdout",
     "output_type": "stream",
     "text": [
      "252.89514\n",
      "252.49414\n",
      "252.59619\n",
      "250.81091\n",
      "250.12158\n",
      "249.59363\n",
      "248.7478\n",
      "251.4856\n",
      "247.43762\n"
     ]
    },
    {
     "name": "stderr",
     "output_type": "stream",
     "text": [
      "\r",
      " 94%|████████████████████████████████████████████████████████████████████████▉     | 3743/4000 [00:49<00:03, 75.10it/s]"
     ]
    },
    {
     "name": "stdout",
     "output_type": "stream",
     "text": [
      "247.0271\n",
      "246.14111\n",
      "245.43726\n",
      "244.85022\n",
      "243.99084\n",
      "243.36926\n",
      "242.62195\n",
      "242.06311\n",
      "241.82324\n"
     ]
    },
    {
     "name": "stderr",
     "output_type": "stream",
     "text": [
      "\r",
      " 94%|█████████████████████████████████████████████████████████████████████████▏    | 3752/4000 [00:49<00:03, 75.12it/s]"
     ]
    },
    {
     "name": "stdout",
     "output_type": "stream",
     "text": [
      "240.79053\n",
      "240.14136\n",
      "239.40173\n",
      "238.66528\n",
      "238.10547\n",
      "237.68738\n",
      "236.69165\n",
      "236.01501\n",
      "235.43823\n"
     ]
    },
    {
     "name": "stderr",
     "output_type": "stream",
     "text": [
      "\r",
      " 94%|█████████████████████████████████████████████████████████████████████████▎    | 3761/4000 [00:50<00:03, 75.14it/s]"
     ]
    },
    {
     "name": "stdout",
     "output_type": "stream",
     "text": [
      "234.50378\n",
      "234.00085\n",
      "233.19397\n",
      "232.44238\n",
      "231.80933\n",
      "231.30737\n",
      "230.45825\n",
      "230.57336\n",
      "229.70764\n"
     ]
    },
    {
     "name": "stderr",
     "output_type": "stream",
     "text": [
      "\r",
      " 94%|█████████████████████████████████████████████████████████████████████████▌    | 3770/4000 [00:50<00:03, 75.15it/s]"
     ]
    },
    {
     "name": "stdout",
     "output_type": "stream",
     "text": [
      "228.4447\n",
      "227.82812\n",
      "227.35901\n",
      "226.79797\n",
      "226.17737\n",
      "225.01465\n",
      "224.43127\n",
      "223.92554\n",
      "223.18726\n"
     ]
    },
    {
     "name": "stderr",
     "output_type": "stream",
     "text": [
      "\r",
      " 94%|█████████████████████████████████████████████████████████████████████████▋    | 3779/4000 [00:50<00:02, 75.17it/s]"
     ]
    },
    {
     "name": "stdout",
     "output_type": "stream",
     "text": [
      "222.44177\n",
      "221.86243\n",
      "221.12183\n",
      "220.44348\n",
      "219.94092\n",
      "219.09167\n",
      "218.27625\n",
      "217.65222\n",
      "217.15088\n"
     ]
    },
    {
     "name": "stderr",
     "output_type": "stream",
     "text": [
      "\r",
      " 95%|█████████████████████████████████████████████████████████████████████████▊    | 3788/4000 [00:50<00:02, 75.19it/s]"
     ]
    },
    {
     "name": "stdout",
     "output_type": "stream",
     "text": [
      "216.30884\n",
      "218.22998\n",
      "214.97083\n",
      "216.2373\n",
      "216.31201\n",
      "213.30396\n",
      "212.55908\n",
      "211.77637\n",
      "212.12378\n"
     ]
    },
    {
     "name": "stderr",
     "output_type": "stream",
     "text": [
      "\r",
      " 95%|██████████████████████████████████████████████████████████████████████████    | 3797/4000 [00:50<00:02, 75.19it/s]"
     ]
    },
    {
     "name": "stdout",
     "output_type": "stream",
     "text": [
      "210.58215\n",
      "209.77051\n",
      "209.02515\n",
      "208.7041\n",
      "207.65112\n",
      "207.06873\n",
      "207.01587\n",
      "205.82678\n",
      "204.95264\n"
     ]
    },
    {
     "name": "stderr",
     "output_type": "stream",
     "text": [
      "\r",
      " 95%|██████████████████████████████████████████████████████████████████████████▏   | 3806/4000 [00:50<00:02, 75.19it/s]"
     ]
    },
    {
     "name": "stdout",
     "output_type": "stream",
     "text": [
      "204.32605\n",
      "204.27673\n",
      "203.08862\n",
      "203.21448\n",
      "201.72424\n",
      "201.66028\n",
      "200.38074\n",
      "199.75354\n"
     ]
    },
    {
     "name": "stderr",
     "output_type": "stream",
     "text": [
      "\r",
      " 95%|██████████████████████████████████████████████████████████████████████████▎   | 3814/4000 [00:50<00:02, 75.15it/s]"
     ]
    },
    {
     "name": "stdout",
     "output_type": "stream",
     "text": [
      "199.52405\n",
      "198.80652\n",
      "197.80981\n",
      "196.99768\n",
      "198.8772\n",
      "195.69128\n",
      "195.13538\n",
      "194.45825\n",
      "193.94849\n"
     ]
    },
    {
     "name": "stderr",
     "output_type": "stream",
     "text": [
      "\r",
      " 96%|██████████████████████████████████████████████████████████████████████████▌   | 3823/4000 [00:50<00:02, 75.16it/s]"
     ]
    },
    {
     "name": "stdout",
     "output_type": "stream",
     "text": [
      "193.13818\n",
      "192.6886\n",
      "191.72327\n",
      "191.20837\n",
      "190.55835\n",
      "189.92432\n",
      "189.14795\n",
      "188.55347\n",
      "187.78943\n"
     ]
    },
    {
     "name": "stderr",
     "output_type": "stream",
     "text": [
      "\r",
      " 96%|██████████████████████████████████████████████████████████████████████████▋   | 3832/4000 [00:50<00:02, 75.17it/s]"
     ]
    },
    {
     "name": "stdout",
     "output_type": "stream",
     "text": [
      "187.74817\n",
      "186.71082\n",
      "185.82153\n",
      "185.41248\n",
      "184.42432\n",
      "184.16614\n",
      "183.32849\n",
      "182.47656\n"
     ]
    },
    {
     "name": "stderr",
     "output_type": "stream",
     "text": [
      "\r",
      " 96%|██████████████████████████████████████████████████████████████████████████▉   | 3840/4000 [00:51<00:02, 75.18it/s]"
     ]
    },
    {
     "name": "stdout",
     "output_type": "stream",
     "text": [
      "181.7633\n",
      "182.29614\n",
      "180.59143\n",
      "179.8247\n",
      "179.83618\n",
      "178.51208\n",
      "178.05493\n",
      "177.24536\n"
     ]
    },
    {
     "name": "stderr",
     "output_type": "stream",
     "text": [
      "\r",
      " 96%|███████████████████████████████████████████████████████████████████████████   | 3848/4000 [00:51<00:02, 75.17it/s]"
     ]
    },
    {
     "name": "stdout",
     "output_type": "stream",
     "text": [
      "177.49146\n",
      "176.20618\n",
      "175.46375\n",
      "177.10144\n",
      "174.13196\n",
      "173.50757\n",
      "172.5929\n",
      "172.38611\n",
      "171.63013\n"
     ]
    },
    {
     "name": "stderr",
     "output_type": "stream",
     "text": [
      "\r",
      " 96%|███████████████████████████████████████████████████████████████████████████▏  | 3857/4000 [00:51<00:01, 75.18it/s]"
     ]
    },
    {
     "name": "stdout",
     "output_type": "stream",
     "text": [
      "172.37537\n",
      "170.2373\n",
      "173.87048\n",
      "168.70581\n",
      "168.1582\n",
      "167.43591\n",
      "166.95544\n",
      "168.13281\n"
     ]
    },
    {
     "name": "stderr",
     "output_type": "stream",
     "text": [
      "\r",
      " 97%|███████████████████████████████████████████████████████████████████████████▎  | 3865/4000 [00:51<00:01, 75.19it/s]"
     ]
    },
    {
     "name": "stdout",
     "output_type": "stream",
     "text": [
      "165.43567\n",
      "164.7804\n",
      "164.12048\n",
      "165.2937\n",
      "162.8938\n",
      "162.41235\n",
      "161.7649\n",
      "161.77429\n",
      "160.94629\n"
     ]
    },
    {
     "name": "stderr",
     "output_type": "stream",
     "text": [
      "\r",
      " 97%|███████████████████████████████████████████████████████████████████████████▌  | 3874/4000 [00:51<00:01, 75.20it/s]"
     ]
    },
    {
     "name": "stdout",
     "output_type": "stream",
     "text": [
      "159.64734\n",
      "159.90479\n",
      "158.32886\n",
      "157.82959\n",
      "158.8457\n",
      "157.09924\n",
      "157.14929\n",
      "155.0039\n",
      "156.9447\n"
     ]
    },
    {
     "name": "stderr",
     "output_type": "stream",
     "text": [
      "\r",
      " 97%|███████████████████████████████████████████████████████████████████████████▋  | 3883/4000 [00:51<00:01, 75.21it/s]"
     ]
    },
    {
     "name": "stdout",
     "output_type": "stream",
     "text": [
      "153.81409\n",
      "153.229\n",
      "152.54553\n",
      "151.88513\n",
      "151.10608\n",
      "150.4458\n",
      "150.08606\n",
      "149.32922\n",
      "148.63647\n"
     ]
    },
    {
     "name": "stderr",
     "output_type": "stream",
     "text": [
      "\r",
      " 97%|███████████████████████████████████████████████████████████████████████████▉  | 3892/4000 [00:51<00:01, 75.23it/s]"
     ]
    },
    {
     "name": "stdout",
     "output_type": "stream",
     "text": [
      "148.14307\n",
      "147.32727\n",
      "146.78992\n",
      "149.3407\n",
      "147.8728\n",
      "144.73975\n",
      "144.18091\n",
      "145.02979\n",
      "143.15637\n"
     ]
    },
    {
     "name": "stderr",
     "output_type": "stream",
     "text": [
      "\r",
      " 98%|████████████████████████████████████████████████████████████████████████████  | 3901/4000 [00:51<00:01, 75.24it/s]"
     ]
    },
    {
     "name": "stdout",
     "output_type": "stream",
     "text": [
      "142.2738\n",
      "141.51282\n",
      "143.15039\n",
      "141.8003\n",
      "140.06726\n",
      "139.37854\n",
      "138.28174\n",
      "137.73901\n",
      "137.11523\n"
     ]
    },
    {
     "name": "stderr",
     "output_type": "stream",
     "text": [
      "\r",
      " 98%|████████████████████████████████████████████████████████████████████████████▏ | 3910/4000 [00:51<00:01, 75.26it/s]"
     ]
    },
    {
     "name": "stdout",
     "output_type": "stream",
     "text": [
      "136.50757\n",
      "135.8523\n",
      "135.04907\n",
      "134.40613\n",
      "133.96863\n",
      "134.85913\n",
      "132.56567\n",
      "131.94458\n",
      "131.21875\n"
     ]
    },
    {
     "name": "stderr",
     "output_type": "stream",
     "text": [
      "\r",
      " 98%|████████████████████████████████████████████████████████████████████████████▍ | 3919/4000 [00:52<00:01, 75.27it/s]"
     ]
    },
    {
     "name": "stdout",
     "output_type": "stream",
     "text": [
      "130.68494\n",
      "130.02856\n",
      "129.22241\n",
      "129.01892\n",
      "128.23035\n",
      "127.380005\n",
      "128.3905\n",
      "126.617065\n",
      "125.41638\n"
     ]
    },
    {
     "name": "stderr",
     "output_type": "stream",
     "text": [
      "\r",
      " 98%|████████████████████████████████████████████████████████████████████████████▌ | 3928/4000 [00:52<00:00, 75.28it/s]"
     ]
    },
    {
     "name": "stdout",
     "output_type": "stream",
     "text": [
      "125.06909\n",
      "125.04248\n",
      "123.66626\n",
      "122.88977\n",
      "122.26526\n",
      "121.63794\n",
      "121.21863\n",
      "122.88782\n",
      "120.45154\n"
     ]
    },
    {
     "name": "stderr",
     "output_type": "stream",
     "text": [
      "\r",
      " 98%|████████████████████████████████████████████████████████████████████████████▊ | 3937/4000 [00:52<00:00, 75.28it/s]"
     ]
    },
    {
     "name": "stdout",
     "output_type": "stream",
     "text": [
      "119.04651\n",
      "118.62427\n",
      "117.73486\n",
      "117.11279\n",
      "116.969604\n",
      "116.23596\n",
      "116.73352\n",
      "114.678345\n"
     ]
    },
    {
     "name": "stderr",
     "output_type": "stream",
     "text": [
      "\r",
      " 99%|████████████████████████████████████████████████████████████████████████████▉ | 3945/4000 [00:52<00:00, 75.28it/s]"
     ]
    },
    {
     "name": "stdout",
     "output_type": "stream",
     "text": [
      "115.517456\n",
      "113.517944\n",
      "112.66443\n",
      "113.01318\n",
      "111.47974\n",
      "110.88379\n",
      "110.25549\n",
      "109.57593\n",
      "109.67737\n"
     ]
    },
    {
     "name": "stderr",
     "output_type": "stream",
     "text": [
      "\r",
      " 99%|█████████████████████████████████████████████████████████████████████████████ | 3954/4000 [00:52<00:00, 75.30it/s]"
     ]
    },
    {
     "name": "stdout",
     "output_type": "stream",
     "text": [
      "108.381226\n",
      "107.62158\n",
      "107.13318\n",
      "107.99182\n",
      "105.76599\n",
      "106.73511\n",
      "104.45239\n",
      "104.1676\n",
      "103.263794\n"
     ]
    },
    {
     "name": "stderr",
     "output_type": "stream",
     "text": [
      "\r",
      " 99%|█████████████████████████████████████████████████████████████████████████████▎| 3963/4000 [00:52<00:00, 75.31it/s]"
     ]
    },
    {
     "name": "stdout",
     "output_type": "stream",
     "text": [
      "102.54895\n",
      "102.09448\n",
      "101.270874\n",
      "100.60266\n",
      "100.25232\n",
      "99.496826\n",
      "98.83069\n",
      "98.312744\n",
      "99.94556\n"
     ]
    },
    {
     "name": "stderr",
     "output_type": "stream",
     "text": [
      "\r",
      " 99%|█████████████████████████████████████████████████████████████████████████████▍| 3972/4000 [00:52<00:00, 75.32it/s]"
     ]
    },
    {
     "name": "stdout",
     "output_type": "stream",
     "text": [
      "96.9552\n",
      "96.6001\n",
      "97.49182\n",
      "95.11658\n",
      "94.93713\n",
      "93.69458\n",
      "93.22327\n",
      "92.83484\n",
      "94.1228\n"
     ]
    },
    {
     "name": "stderr",
     "output_type": "stream",
     "text": [
      "\r",
      "100%|█████████████████████████████████████████████████████████████████████████████▋| 3981/4000 [00:52<00:00, 75.33it/s]"
     ]
    },
    {
     "name": "stdout",
     "output_type": "stream",
     "text": [
      "91.14014\n",
      "90.7417\n",
      "93.244385\n",
      "89.47937\n",
      "89.02661\n",
      "88.10254\n",
      "88.05798\n",
      "86.78259\n",
      "86.5614\n"
     ]
    },
    {
     "name": "stderr",
     "output_type": "stream",
     "text": [
      "\r",
      "100%|█████████████████████████████████████████████████████████████████████████████▊| 3990/4000 [00:52<00:00, 75.34it/s]"
     ]
    },
    {
     "name": "stdout",
     "output_type": "stream",
     "text": [
      "86.52417\n",
      "84.95654\n",
      "84.87488\n",
      "83.77539\n",
      "83.19995\n",
      "82.55261\n",
      "81.97534\n",
      "81.60864\n"
     ]
    },
    {
     "name": "stderr",
     "output_type": "stream",
     "text": [
      "\r",
      "100%|█████████████████████████████████████████████████████████████████████████████▉| 3998/4000 [00:53<00:00, 75.34it/s]"
     ]
    },
    {
     "name": "stdout",
     "output_type": "stream",
     "text": [
      "80.66333\n",
      "79.87915\n"
     ]
    },
    {
     "name": "stderr",
     "output_type": "stream",
     "text": [
      "100%|██████████████████████████████████████████████████████████████████████████████| 4000/4000 [00:53<00:00, 75.35it/s]\n"
     ]
    }
   ],
   "source": [
    "for _ in tqdm(range(0, NUM_BATCHES)):\n",
    "    choices = np.random.choice(samples,batch_size)\n",
    "    x_np = Spirals[choices]\n",
    "    y_np = np.array(Y[choices]).reshape((batch_size,1))\n",
    "    loss_np, _ = sess.run([loss, optim], feed_dict={x: x_np, y: y_np})\n",
    "#     print(loss_np)\n"
   ]
  },
  {
   "cell_type": "code",
   "execution_count": 12,
   "metadata": {},
   "outputs": [],
   "source": [
    "#Now need to plot the descion boundary. \n",
    "\n",
    "#basically we are just going to sample a bunchacrunch points, pass em through the network and then matplotlib do a filled contour\n",
    "\n",
    "xx,yy = np.meshgrid(np.arange(-7,7,h), np.arange(-7,7,h))\n",
    "inputx = np.stack((xx,yy), axis=2)\n"
   ]
  },
  {
   "cell_type": "code",
   "execution_count": 13,
   "metadata": {},
   "outputs": [
    {
     "name": "stderr",
     "output_type": "stream",
     "text": [
      "100%|███████████████████████████████████████████████████████████████████████████████| 140/140 [00:00<00:00, 227.14it/s]\n"
     ]
    }
   ],
   "source": [
    "y_hats = np.array([])\n",
    "a = tf.placeholder(tf.float32, [inputx.shape[0],2])\n",
    "y_hat = f(a)\n",
    "\n",
    "for i in tqdm(range(inputx.shape[0])):\n",
    "    if y_hats.size>0: \n",
    "        y_hats = np.hstack((y_hats,sess.run(y_hat,{a:inputx[i]})))\n",
    "    else: \n",
    "        y_hats = sess.run(y_hat,{a:inputx[i]})\n",
    "    \n"
   ]
  },
  {
   "cell_type": "code",
   "execution_count": 14,
   "metadata": {},
   "outputs": [],
   "source": [
    "#change them either to have zero or 1....\n",
    "y_hats[y_hats>0] = 1\n",
    "y_hats[y_hats<=0] = 0"
   ]
  },
  {
   "cell_type": "code",
   "execution_count": 15,
   "metadata": {},
   "outputs": [
    {
     "data": {
      "text/plain": [
       "[<matplotlib.lines.Line2D at 0x1cbdf11e908>]"
      ]
     },
     "execution_count": 15,
     "metadata": {},
     "output_type": "execute_result"
    },
    {
     "data": {
      "image/png": "[encoded data removed]",
      "text/plain": [
       "<Figure size 432x288 with 1 Axes>"
      ]
     },
     "metadata": {},
     "output_type": "display_data"
    }
   ],
   "source": [
    "plt.contourf(xx,yy,y_hats,alpha=0.5)\n",
    "\n",
    "plt.plot(Spiral1[0:-1,0], Spiral1[0:-1,1], \".\", label=\"Spiral 1\", alpha=0.5)\n",
    "plt.plot(Spiral2[0:-1,0], Spiral2[0:-1,1], \".\", label=\"Spiral 2\", alpha=0.5)"
   ]
  },
  {
   "cell_type": "code",
   "execution_count": null,
   "metadata": {},
   "outputs": [],
   "source": []
  }
 ],
 "metadata": {
  "kernelspec": {
   "display_name": "Python 3",
   "language": "python",
   "name": "python3"
  },
  "language_info": {
   "codemirror_mode": {
    "name": "ipython",
    "version": 3
   },
   "file_extension": ".py",
   "mimetype": "text/x-python",
   "name": "python",
   "nbconvert_exporter": "python",
   "pygments_lexer": "ipython3",
   "version": "3.6.5"
  }
 },
 "nbformat": 4,
 "nbformat_minor": 2
}

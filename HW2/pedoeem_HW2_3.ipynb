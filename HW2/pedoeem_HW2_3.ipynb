{
 "cells": [
  {
   "cell_type": "code",
   "execution_count": 1,
   "metadata": {},
   "outputs": [],
   "source": [
    "import numpy as np\n",
    "import tensorflow as tf\n",
    "import matplotlib.pyplot as plt\n",
    "from tqdm import tqdm"
   ]
  },
  {
   "cell_type": "code",
   "execution_count": 2,
   "metadata": {},
   "outputs": [],
   "source": [
    "#iteration is for the tensorboard file.\n",
    "iteration = 3\n",
    "layers = 3\n",
    "dimensions = [(2,32), (32,32), (32,1)]\n",
    "#samples for each spiral, so in total there are 2*samples points. \n",
    "samples = 300\n",
    "#degrees of rotation for the spiral.\n",
    "degrees = 180\n",
    "noise  = 0.5\n",
    "batch_size = 200\n",
    "NUM_BATCHES = 10\n",
    "lr = 1e-4\n",
    "np.random.seed(1234)\n",
    "tf.set_random_seed(1234)\n",
    "h = 0.1\n",
    "lamb = 0.01"
   ]
  },
  {
   "cell_type": "code",
   "execution_count": 3,
   "metadata": {},
   "outputs": [],
   "source": [
    "def variable_summaries(var, name):\n",
    "  \"\"\"Attach a lot of summaries to a Tensor (for TensorBoard visualization).\"\"\"\n",
    "  with tf.name_scope(name):\n",
    "    mean = tf.reduce_mean(var)\n",
    "    tf.summary.scalar('mean', mean)\n",
    "    with tf.name_scope('stddev'):\n",
    "      stddev = tf.sqrt(tf.reduce_mean(tf.square(var - mean)))\n",
    "    tf.summary.scalar('stddev', stddev)\n",
    "    tf.summary.scalar('max', tf.reduce_max(var))\n",
    "    tf.summary.scalar('min', tf.reduce_min(var))\n",
    "    tf.summary.histogram('histogram', var)"
   ]
  },
  {
   "cell_type": "code",
   "execution_count": 4,
   "metadata": {},
   "outputs": [],
   "source": [
    "def create_spirals(samples,degrees,noise):\n",
    "    n = np.sqrt(np.random.rand(samples,1)) * degrees * (2*np.pi)/360\n",
    "    x1 = np.cos(n)*n + np.random.rand(samples,1) * noise\n",
    "    x2 = np.sin(n)*n + np.random.rand(samples,1) * noise\n",
    "#     x1 = n + np.random.rand(samples,1) * noise\n",
    "#     x2 = n + np.random.rand(samples,1) * noise\n",
    "    Spiral1 = np.hstack((x1,x2))\n",
    "    Spiral2 = np.hstack((-x1,-x2))\n",
    "    Spirals = np.vstack((Spiral1,Spiral2))\n",
    "    Y = np.hstack((np.zeros(samples),np.ones(samples)))\n",
    "    plt.title(\"Spirals\")\n",
    "    plt.plot(Spiral1[0:-1,0], Spiral1[0:-1,1], \".\", label=\"Spiral 1\", alpha=0.5)\n",
    "    plt.plot(Spiral2[0:-1,0], Spiral2[0:-1,1], \".\", label=\"Spiral 2\", alpha=0.5)\n",
    "    return Spirals,Y,Spiral1,Spiral2"
   ]
  },
  {
   "cell_type": "code",
   "execution_count": 5,
   "metadata": {},
   "outputs": [],
   "source": [
    "def init_variables(layers, dimensions):\n",
    "    weights_dictionary = {}\n",
    "    biases_dictionary = {}\n",
    "    for i in range(layers):\n",
    "        nameW = \"w{}\".format(i)\n",
    "        nameB = \"b{}\".format(i)\n",
    "        weights_dictionary[nameW] = tf.get_variable(nameW,dimensions[i], tf.float32, tf.truncated_normal_initializer()) \n",
    "        biases_dictionary[nameW] = tf.get_variable(nameB, [1,dimensions[i][1]], tf.float32, tf.zeros_initializer())\n",
    "        variable_summaries(weights_dictionary[nameW], nameW)\n",
    "        variable_summaries(biases_dictionary[nameW], nameB)\n",
    "    return weights_dictionary, biases_dictionary\n"
   ]
  },
  {
   "cell_type": "code",
   "execution_count": 6,
   "metadata": {},
   "outputs": [],
   "source": [
    "def f(x,weights_dictionary,biases_dictionary):\n",
    "    for weight in weights_dictionary:\n",
    "        if weight == \"w0\":\n",
    "            y_hat = tf.matmul(x,weights_dictionary[weight]) + biases_dictionary[weight]\n",
    "        else: \n",
    "            y_hat = tf.matmul(tf.nn.elu(y_hat),weights_dictionary[weight]) + biases_dictionary[weight]\n",
    "    return y_hat\n",
    "\n"
   ]
  },
  {
   "cell_type": "code",
   "execution_count": 7,
   "metadata": {},
   "outputs": [],
   "source": [
    "def initialize_network(weights_dictionary,biases_dictionary):\n",
    "    a = tf.placeholder(tf.float32, [batch_size,2])\n",
    "    b = tf.placeholder(tf.float32, [batch_size,1])\n",
    "    y_hat = f(a,weights_dictionary,biases_dictionary)\n",
    "    #eventually add regularization term\n",
    "    matrix_norm = 0 \n",
    "    for matrix in weights_dictionary: \n",
    "        matrix_norm += tf.pow(tf.norm(weights_dictionary[matrix]),2)\n",
    "    loss = tf.reduce_mean(tf.nn.sigmoid_cross_entropy_with_logits(labels=b, logits=y_hat)) \n",
    "    optim = tf.train.GradientDescentOptimizer(lr).minimize(loss)\n",
    "    init = tf.global_variables_initializer()\n",
    "    sess = tf.Session()\n",
    "    sess.run(init)\n",
    "    return sess,loss,optim,a,b"
   ]
  },
  {
   "cell_type": "code",
   "execution_count": 8,
   "metadata": {},
   "outputs": [],
   "source": [
    "def train(sess, loss,optim,a,b, iteration):\n",
    "    merged = tf.summary.merge_all()\n",
    "    train_writer = tf.summary.FileWriter(\"./train{}\".format(iteration), sess.graph)\n",
    "    for i in tqdm(range(0,NUM_BATCHES)):\n",
    "        #need to sample points, we do samples*2, just because the way the points were generated\n",
    "        choices = np.random.choice(samples*2,batch_size)\n",
    "        x_np = Spirals[choices]\n",
    "        y_np = np.array(Y[choices]).reshape(batch_size,1)\n",
    "        loss_np, _ = sess.run([loss,optim],feed_dict={a:x_np, b:y_np})\n",
    "        summary = sess.run(merged, feed_dict={a:x_np, b:y_np})\n",
    "        train_writer.add_summary(summary,i)\n",
    "        if i<10 or i>(NUM_BATCHES-10):\n",
    "            print(loss_np)"
   ]
  },
  {
   "cell_type": "code",
   "execution_count": 9,
   "metadata": {},
   "outputs": [],
   "source": [
    "def draw_contour(h):\n",
    "    xx,yy = np.meshgrid(np.arange(-7,7,h), np.arange(-7,7,h))\n",
    "    inputx = np.stack((xx,yy), axis=2)\n",
    "    y_hats = np.array([])\n",
    "    c = tf.placeholder(tf.float32, [inputx.shape[0],2])\n",
    "    y_hat = f(c,weights_dictionary,biases_dictionary)\n",
    "\n",
    "    for i in tqdm(range(inputx.shape[0])):\n",
    "        if y_hats.size>0: \n",
    "            y_hats = np.hstack((y_hats,sess.run(y_hat,{c: inputx[i]})))\n",
    "        else: \n",
    "            y_hats = sess.run(y_hat,{c:inputx[i]})\n",
    "    print(y_hats)\n",
    "    y_hats[y_hats>0] = 1\n",
    "    y_hats[y_hats<=0] = 0\n",
    "    plt.contourf(xx,yy,y_hats,alpha=0.5)\n",
    "    plt.plot(Spiral1[0:-1,0], Spiral1[0:-1,1], \".\", label=\"Spiral 1\", alpha=0.5)\n",
    "    plt.plot(Spiral2[0:-1,0], Spiral2[0:-1,1], \".\", label=\"Spiral 2\", alpha=0.5)"
   ]
  },
  {
   "cell_type": "code",
   "execution_count": 10,
   "metadata": {},
   "outputs": [
    {
     "data": {
      "image/png": "[encoded data removed]",
      "text/plain": [
       "<Figure size 432x288 with 1 Axes>"
      ]
     },
     "metadata": {},
     "output_type": "display_data"
    }
   ],
   "source": [
    "Spirals,Y,Spiral1,Spiral2 = create_spirals(samples,degrees,noise)"
   ]
  },
  {
   "cell_type": "code",
   "execution_count": 11,
   "metadata": {},
   "outputs": [],
   "source": [
    "weights_dictionary,biases_dictionary = init_variables(layers,dimensions)\n"
   ]
  },
  {
   "cell_type": "code",
   "execution_count": 12,
   "metadata": {},
   "outputs": [],
   "source": [
    "sess,loss,optim,a,b = initialize_network(weights_dictionary,biases_dictionary)"
   ]
  },
  {
   "cell_type": "code",
   "execution_count": 13,
   "metadata": {},
   "outputs": [
    {
     "name": "stderr",
     "output_type": "stream",
     "text": [
      "\r",
      "  0%|                                                                                           | 0/10 [00:00<?, ?it/s]"
     ]
    },
    {
     "name": "stdout",
     "output_type": "stream",
     "text": [
      "9.489016\n"
     ]
    },
    {
     "name": "stderr",
     "output_type": "stream",
     "text": [
      "\r",
      " 10%|████████▎                                                                          | 1/10 [00:00<00:01,  6.76it/s]"
     ]
    },
    {
     "name": "stdout",
     "output_type": "stream",
     "text": [
      "10.2964\n",
      "9.88565\n",
      "9.794468\n",
      "9.87858\n",
      "8.958013\n",
      "10.033219\n"
     ]
    },
    {
     "name": "stderr",
     "output_type": "stream",
     "text": [
      "\r",
      " 70%|██████████████████████████████████████████████████████████                         | 7/10 [00:00<00:00, 27.78it/s]"
     ]
    },
    {
     "name": "stdout",
     "output_type": "stream",
     "text": [
      "10.415352\n",
      "9.613893\n",
      "9.699386\n"
     ]
    },
    {
     "name": "stderr",
     "output_type": "stream",
     "text": [
      "100%|██████████████████████████████████████████████████████████████████████████████████| 10/10 [00:00<00:00, 34.04it/s]\n"
     ]
    }
   ],
   "source": [
    "train(sess,loss,optim,a,b,iteration)"
   ]
  },
  {
   "cell_type": "code",
   "execution_count": 14,
   "metadata": {},
   "outputs": [
    {
     "name": "stderr",
     "output_type": "stream",
     "text": [
      "100%|██████████████████████████████████████████████████████████████████████████████| 140/140 [00:00<00:00, 1095.36it/s]\n"
     ]
    },
    {
     "name": "stdout",
     "output_type": "stream",
     "text": [
      "[[ 31.245815  31.117435  31.00194  ... 103.2695   104.318886 105.36675 ]\n",
      " [ 30.807838  30.66588   30.538973 ... 102.6815   103.72868  104.77364 ]\n",
      " [ 30.38361   30.228561  30.087973 ... 102.090935 103.13515  104.17618 ]\n",
      " ...\n",
      " [ 63.1456    61.879326  60.61407  ... -41.379745 -40.639725 -39.8954  ]\n",
      " [ 62.830154  61.565437  60.301857 ... -42.65529  -41.920532 -41.18258 ]\n",
      " [ 62.51609   61.253166  59.991486 ... -43.917145 -43.19362  -42.460846]]\n"
     ]
    },
    {
     "data": {
      "image/png": "[encoded data removed]",
      "text/plain": [
       "<Figure size 432x288 with 1 Axes>"
      ]
     },
     "metadata": {},
     "output_type": "display_data"
    }
   ],
   "source": [
    "draw_contour(h)"
   ]
  }
 ],
 "metadata": {
  "kernelspec": {
   "display_name": "Python 3",
   "language": "python",
   "name": "python3"
  },
  "language_info": {
   "codemirror_mode": {
    "name": "ipython",
    "version": 3
   },
   "file_extension": ".py",
   "mimetype": "text/x-python",
   "name": "python",
   "nbconvert_exporter": "python",
   "pygments_lexer": "ipython3",
   "version": "3.6.5"
  }
 },
 "nbformat": 4,
 "nbformat_minor": 2
}

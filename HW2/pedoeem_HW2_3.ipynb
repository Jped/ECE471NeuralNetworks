{
 "cells": [
  {
   "cell_type": "code",
   "execution_count": 1,
   "metadata": {},
   "outputs": [],
   "source": [
    "import numpy as np\n",
    "import tensorflow as tf\n",
    "import matplotlib.pyplot as plt\n",
    "from tqdm import tqdm"
   ]
  },
  {
   "cell_type": "code",
   "execution_count": 14,
   "metadata": {},
   "outputs": [],
   "source": [
    "#iteration is for the tensorboard file.\n",
    "iteration = 2\n",
    "layers = 3\n",
    "dimensions = [(2,16), (16,16), (16,1)]\n",
    "samples = 300\n",
    "degrees = 180\n",
    "noise  = 0.60\n",
    "batch_size = 20\n",
    "NUM_BATCHES = 1000\n",
    "lr = 1e-4\n",
    "np.random.seed(1234)\n",
    "tf.set_random_seed(1234)\n",
    "h = 0.1"
   ]
  },
  {
   "cell_type": "code",
   "execution_count": 3,
   "metadata": {},
   "outputs": [],
   "source": [
    "def variable_summaries(var, name):\n",
    "  \"\"\"Attach a lot of summaries to a Tensor (for TensorBoard visualization).\"\"\"\n",
    "  with tf.name_scope(name):\n",
    "    mean = tf.reduce_mean(var)\n",
    "    tf.summary.scalar('mean', mean)\n",
    "    with tf.name_scope('stddev'):\n",
    "      stddev = tf.sqrt(tf.reduce_mean(tf.square(var - mean)))\n",
    "    tf.summary.scalar('stddev', stddev)\n",
    "    tf.summary.scalar('max', tf.reduce_max(var))\n",
    "    tf.summary.scalar('min', tf.reduce_min(var))\n",
    "    tf.summary.histogram('histogram', var)"
   ]
  },
  {
   "cell_type": "code",
   "execution_count": 4,
   "metadata": {},
   "outputs": [],
   "source": [
    "def create_spirals(samples,circles,noise):\n",
    "    n = np.sqrt(np.random.rand(samples,1)) * circles * (2*np.pi)/360\n",
    "    x1 = np.cos(n)*n + np.random.rand(samples,1) * noise\n",
    "    x2 = np.sin(n)*n + np.random.rand(samples,1) * noise\n",
    "#     x1 = n + np.random.rand(samples,1) * noise\n",
    "#     x2 = n + np.random.rand(samples,1) * noise\n",
    "    Spiral1 = np.hstack((x1,x2))\n",
    "    Spiral2 = np.hstack((-x1,-x2))\n",
    "    Spirals = np.vstack((Spiral1,Spiral2))\n",
    "    Y = np.hstack((np.zeros(samples),np.ones(samples)))\n",
    "    plt.title(\"Spirals\")\n",
    "    plt.plot(Spiral1[0:-1,0], Spiral1[0:-1,1], \".\", label=\"Spiral 1\", alpha=0.5)\n",
    "    plt.plot(Spiral2[0:-1,0], Spiral2[0:-1,1], \".\", label=\"Spiral 2\", alpha=0.5)\n",
    "    return Spirals,Y,Spiral1,Spiral2"
   ]
  },
  {
   "cell_type": "code",
   "execution_count": 5,
   "metadata": {},
   "outputs": [],
   "source": [
    "def init_variables(layers, dimensions):\n",
    "    weights_dictionary = {}\n",
    "    biases_dictionary = {}\n",
    "    for i in range(layers):\n",
    "        nameW = \"w{}\".format(i)\n",
    "        nameB = \"b{}\".format(i)\n",
    "        weights_dictionary[nameW] = tf.get_variable(nameW,dimensions[i], tf.float32, tf.truncated_normal_initializer()) \n",
    "        biases_dictionary[nameW] = tf.get_variable(nameB, [1,dimensions[i][1]], tf.float32, tf.zeros_initializer())\n",
    "        variable_summaries(weights_dictionary[nameW], nameW)\n",
    "        variable_summaries(biases_dictionary[nameW], nameB)\n",
    "    return weights_dictionary, biases_dictionary\n"
   ]
  },
  {
   "cell_type": "code",
   "execution_count": 6,
   "metadata": {},
   "outputs": [],
   "source": [
    "def f(x,weights_dictionary,biases_dictionary):\n",
    "    for weight in weights_dictionary:\n",
    "        if weight == \"w0\":\n",
    "            y_hat = tf.matmul(x,weights_dictionary[weight]) + biases_dictionary[weight]\n",
    "        else: \n",
    "            y_hat = tf.matmul(tf.nn.elu(y_hat),weights_dictionary[weight]) + biases_dictionary[weight]\n",
    "    return y_hat\n",
    "\n"
   ]
  },
  {
   "cell_type": "code",
   "execution_count": 7,
   "metadata": {},
   "outputs": [],
   "source": [
    "def initialize_network(weights_dictionary,biases_dictionary):\n",
    "    a = tf.placeholder(tf.float32, [batch_size,2])\n",
    "    b = tf.placeholder(tf.float32, [batch_size,1])\n",
    "    y_hat = f(a,weights_dictionary,biases_dictionary)\n",
    "    #eventually add regularization term\n",
    "    loss = tf.reduce_mean(tf.nn.sigmoid_cross_entropy_with_logits(labels=b, logits=y_hat))\n",
    "    optim = tf.train.GradientDescentOptimizer(lr).minimize(loss)\n",
    "    init = tf.global_variables_initializer()\n",
    "    sess = tf.Session()\n",
    "    sess.run(init)\n",
    "    return sess,loss,optim,a,b"
   ]
  },
  {
   "cell_type": "code",
   "execution_count": 8,
   "metadata": {},
   "outputs": [],
   "source": [
    "def train(sess, loss,optim,a,b, iteration):\n",
    "    merged = tf.summary.merge_all()\n",
    "    train_writer = tf.summary.FileWriter(\"./train{}\".format(iteration), sess.graph)\n",
    "    for i in tqdm(range(0,NUM_BATCHES)):\n",
    "        #need to sample points, we do samples*2, just because the way the points were generated\n",
    "        choices = np.random.choice(samples*2,batch_size)\n",
    "        x_np = Spirals[choices]\n",
    "        y_np = np.array(Y[choices]).reshape(batch_size,1)\n",
    "        loss_np, _ = sess.run([loss,optim],feed_dict={a:x_np, b:y_np})\n",
    "        summary = sess.run(merged, feed_dict={a:x_np, b:y_np})\n",
    "        train_writer.add_summary(summary,i)\n",
    "        if i<10 or i>(NUM_BATCHES-10):\n",
    "            print(loss_np)"
   ]
  },
  {
   "cell_type": "code",
   "execution_count": 9,
   "metadata": {},
   "outputs": [],
   "source": [
    "def draw_contour(h):\n",
    "    xx,yy = np.meshgrid(np.arange(-7,7,h), np.arange(-7,7,h))\n",
    "    inputx = np.stack((xx,yy), axis=2)\n",
    "    y_hats = np.array([])\n",
    "    c = tf.placeholder(tf.float32, [inputx.shape[0],2])\n",
    "    y_hat = f(c,weights_dictionary,biases_dictionary)\n",
    "\n",
    "    for i in tqdm(range(inputx.shape[0])):\n",
    "        if y_hats.size>0: \n",
    "            y_hats = np.hstack((y_hats,sess.run(y_hat,{c: inputx[i]})))\n",
    "        else: \n",
    "            y_hats = sess.run(y_hat,{c:inputx[i]})\n",
    "    y_hats[y_hats>0] = 1\n",
    "    y_hats[y_hats<=0] = 0\n",
    "    plt.contourf(xx,yy,y_hats,alpha=0.5)\n",
    "    plt.plot(Spiral1[0:-1,0], Spiral1[0:-1,1], \".\", label=\"Spiral 1\", alpha=0.5)\n",
    "    plt.plot(Spiral2[0:-1,0], Spiral2[0:-1,1], \".\", label=\"Spiral 2\", alpha=0.5)"
   ]
  },
  {
   "cell_type": "code",
   "execution_count": 10,
   "metadata": {},
   "outputs": [
    {
     "data": {
      "image/png": "[encoded data removed]",
      "text/plain": [
       "<Figure size 432x288 with 1 Axes>"
      ]
     },
     "metadata": {},
     "output_type": "display_data"
    }
   ],
   "source": [
    "Spirals,Y,Spiral1,Spiral2 = create_spirals(samples,degrees,noise)"
   ]
  },
  {
   "cell_type": "code",
   "execution_count": 11,
   "metadata": {},
   "outputs": [],
   "source": [
    "weights_dictionary,biases_dictionary = init_variables(layers,dimensions)\n"
   ]
  },
  {
   "cell_type": "code",
   "execution_count": 12,
   "metadata": {},
   "outputs": [],
   "source": [
    "sess,loss,optim,a,b = initialize_network(weights_dictionary,biases_dictionary)"
   ]
  },
  {
   "cell_type": "code",
   "execution_count": 15,
   "metadata": {},
   "outputs": [
    {
     "name": "stderr",
     "output_type": "stream",
     "text": [
      "\r",
      "  0%|                                                                                         | 0/1000 [00:00<?, ?it/s]"
     ]
    },
    {
     "name": "stdout",
     "output_type": "stream",
     "text": [
      "7.606842\n"
     ]
    },
    {
     "name": "stderr",
     "output_type": "stream",
     "text": [
      "\r",
      "  0%|                                                                                 | 1/1000 [00:00<01:46,  9.37it/s]"
     ]
    },
    {
     "name": "stdout",
     "output_type": "stream",
     "text": [
      "7.8529005\n",
      "6.8357286\n",
      "9.835472\n",
      "10.77875\n",
      "10.554255\n",
      "8.509481\n",
      "10.429537\n",
      "7.9581666\n",
      "12.165841\n"
     ]
    },
    {
     "name": "stderr",
     "output_type": "stream",
     "text": [
      " 97%|███████████████████████████████████████████████████████████████████████████▉  | 974/1000 [00:04<00:00, 210.93it/s]"
     ]
    },
    {
     "name": "stdout",
     "output_type": "stream",
     "text": [
      "0.54149544\n",
      "0.49292642\n",
      "0.5366665\n",
      "0.22028549\n",
      "0.52939814\n",
      "0.30587354\n",
      "0.46020737\n"
     ]
    },
    {
     "name": "stderr",
     "output_type": "stream",
     "text": [
      "\r",
      "100%|█████████████████████████████████████████████████████████████████████████████▊| 998/1000 [00:04<00:00, 209.92it/s]"
     ]
    },
    {
     "name": "stdout",
     "output_type": "stream",
     "text": [
      "0.14444749\n",
      "0.18618721\n"
     ]
    },
    {
     "name": "stderr",
     "output_type": "stream",
     "text": [
      "100%|█████████████████████████████████████████████████████████████████████████████| 1000/1000 [00:04<00:00, 209.68it/s]\n"
     ]
    }
   ],
   "source": [
    "train(sess,loss,optim,a,b,iteration)"
   ]
  },
  {
   "cell_type": "code",
   "execution_count": 16,
   "metadata": {},
   "outputs": [
    {
     "name": "stderr",
     "output_type": "stream",
     "text": [
      "100%|██████████████████████████████████████████████████████████████████████████████| 140/140 [00:00<00:00, 2034.52it/s]\n"
     ]
    },
    {
     "data": {
      "image/png": "[encoded data removed]",
      "text/plain": [
       "<Figure size 432x288 with 1 Axes>"
      ]
     },
     "metadata": {},
     "output_type": "display_data"
    }
   ],
   "source": [
    "draw_contour(h)"
   ]
  }
 ],
 "metadata": {
  "kernelspec": {
   "display_name": "Python 3",
   "language": "python",
   "name": "python3"
  },
  "language_info": {
   "codemirror_mode": {
    "name": "ipython",
    "version": 3
   },
   "file_extension": ".py",
   "mimetype": "text/x-python",
   "name": "python",
   "nbconvert_exporter": "python",
   "pygments_lexer": "ipython3",
   "version": "3.6.5"
  }
 },
 "nbformat": 4,
 "nbformat_minor": 2
}

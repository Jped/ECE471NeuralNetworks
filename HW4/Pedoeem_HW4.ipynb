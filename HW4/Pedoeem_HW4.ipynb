{
 "cells": [
  {
   "cell_type": "markdown",
   "metadata": {},
   "source": [
    "## Jonathan Pedoeem\n",
    "## Prof. Curro HW4\n",
    "## October 4th, 2018"
   ]
  },
  {
   "cell_type": "code",
   "execution_count": 1,
   "metadata": {},
   "outputs": [],
   "source": [
    "import numpy as np\n",
    "import tensorflow as tf\n",
    "from tensorflow import keras\n",
    "import matplotlib.pyplot as plt\n",
    "from tqdm import tqdm\n",
    "from time import time"
   ]
  },
  {
   "cell_type": "code",
   "execution_count": 2,
   "metadata": {},
   "outputs": [],
   "source": [
    "np.random.seed(1234)\n",
    "tf.set_random_seed(1234)\n",
    "IMAGE_HEIGHT = 32\n",
    "IMAGE_WIDTH  = 32\n",
    "IMAGE_DEPTH = 3\n",
    "batch_size = 20\n",
    "NUM_CLASSES = 10\n",
    "l2_lamb = 1e-3\n",
    "lr = 1e-2"
   ]
  },
  {
   "cell_type": "code",
   "execution_count": 3,
   "metadata": {},
   "outputs": [],
   "source": [
    "def reshape(x):\n",
    "    return np.reshape(x, [-1,IMAGE_WIDTH,IMAGE_HEIGHT,IMAGE_DEPTH])"
   ]
  },
  {
   "cell_type": "code",
   "execution_count": 4,
   "metadata": {},
   "outputs": [],
   "source": [
    "def get_cifar10():\n",
    "    datum = {}\n",
    "    cifar10 = tf.keras.datasets.cifar10\n",
    "    (x_train, y_train),(x_test, y_test) = cifar10.load_data()\n",
    "    x_train, x_test = x_train / 255.0, x_test / 255.0\n",
    "    randos = np.random.choice(50000,50000)\n",
    "    validation_randos = randos[:10000]\n",
    "    train_randos = randos[10000:]\n",
    "    val_x, val_y = reshape(x_train[validation_randos]), y_train[validation_randos]\n",
    "    x_train, y_train = reshape(x_train[train_randos]), y_train[train_randos]\n",
    "    x_test = reshape(x_test)\n",
    "    y_train = keras.utils.to_categorical(y_train, NUM_CLASSES)\n",
    "    y_test = keras.utils.to_categorical(y_test, NUM_CLASSES)\n",
    "    val_y = keras.utils.to_categorical(val_y,NUM_CLASSES)\n",
    "    datum = {\"x_train\":x_train, \"y_train\":y_train, \"x_val\":val_x, \"y_val\":val_y,\"x_test\":x_test,\"y_test\":y_test}\n",
    "    return datum"
   ]
  },
  {
   "cell_type": "code",
   "execution_count": 5,
   "metadata": {},
   "outputs": [],
   "source": [
    "datum = get_cifar10()"
   ]
  },
  {
   "cell_type": "code",
   "execution_count": 6,
   "metadata": {},
   "outputs": [],
   "source": [
    "#56 (7) batch- 256 lr - 1e-2\n",
    "# model = keras.Sequential()\n",
    "# model.add(keras.layers.Conv2D(filters=64,kernel_size=(4,4),strides=2,padding='valid',activation='elu'))\n",
    "# model.add(keras.layers.Conv2D(filters=64,kernel_size=(3,3),strides=2,padding='valid',activation='elu'))\n",
    "# model.add(keras.layers.Conv2D(filters=32,kernel_size=(2,2),strides=2,padding='valid',activation='elu'))\n",
    "# model.add(keras.layers.Flatten())\n",
    "# model.add(keras.layers.Dense(NUM_CLASSES,activation=\"softmax\"))\n",
    "# model.compile(optimizer=tf.train.AdamOptimizer(lr),\n",
    "#               loss='categorical_crossentropy',\n",
    "#               metrics=['accuracy'])"
   ]
  },
  {
   "cell_type": "code",
   "execution_count": 7,
   "metadata": {},
   "outputs": [],
   "source": [
    "#57 (7) batch- 256 lr - 1e-2 ---next step up the kernel size for internal layers, play with stride, filters, batchnorm, initial divide by 255\n",
    "# model = keras.Sequential()\n",
    "# model.add(keras.layers.Conv2D(filters=64,kernel_size=(4,4),strides=2,padding='valid',activation='elu'))\n",
    "# model.add(keras.layers.Conv2D(filters=64,kernel_size=(3,3),strides=2,padding='valid',activation='elu'))\n",
    "# model.add(keras.layers.Conv2D(filters=32,kernel_size=(3,3),strides=2,padding='valid',activation='elu'))\n",
    "# model.add(keras.layers.Flatten())\n",
    "# model.add(keras.layers.Dense(NUM_CLASSES,activation=\"softmax\"))\n",
    "# model.compile(optimizer=tf.train.AdamOptimizer(lr),\n",
    "#               loss='categorical_crossentropy',\n",
    "#               metrics=['accuracy'])"
   ]
  },
  {
   "cell_type": "code",
   "execution_count": 10,
   "metadata": {},
   "outputs": [],
   "source": [
    "model = keras.Sequential()\n",
    "model.add(keras.layers.Conv2D(filters=64,kernel_size=(4,4),strides=2,padding='valid',activation='elu'))\n",
    "model.add(keras.layers.Conv2D(filters=64,kernel_size=(4,4),strides=2,padding='valid',activation='elu'))\n",
    "model.add(keras.layers.Conv2D(filters=32,kernel_size=(3,3),strides=2,padding='valid',activation='elu'))\n",
    "model.add(keras.layers.Flatten())\n",
    "model.add(keras.layers.Dense(NUM_CLASSES,activation=\"softmax\"))\n",
    "model.compile(optimizer=tf.train.AdamOptimizer(lr),\n",
    "              loss='categorical_crossentropy',\n",
    "              metrics=['accuracy'])"
   ]
  },
  {
   "cell_type": "code",
   "execution_count": null,
   "metadata": {
    "scrolled": true
   },
   "outputs": [
    {
     "name": "stdout",
     "output_type": "stream",
     "text": [
      "Train on 40000 samples, validate on 10000 samples\n",
      "Epoch 1/50\n"
     ]
    }
   ],
   "source": [
    "# tensorboard = tf.keras.callbacks.TensorBoard(log_dir=\"logs/{}\".format(time()))\n",
    "model.fit(datum[\"x_train\"],datum[\"y_train\"], epochs=50, batch_size=256,\n",
    "          validation_data=(datum[\"x_val\"], datum[\"y_val\"]), verbose=2)"
   ]
  },
  {
   "cell_type": "code",
   "execution_count": null,
   "metadata": {},
   "outputs": [],
   "source": [
    "model.evaluate(datum[\"x_test\"],datum[\"y_test\"])"
   ]
  },
  {
   "cell_type": "code",
   "execution_count": null,
   "metadata": {},
   "outputs": [],
   "source": [
    "print(model.count_params())\n",
    "for layer in model.layers:\n",
    "    print(layer.get_output_at(0).get_shape().as_list())"
   ]
  },
  {
   "cell_type": "code",
   "execution_count": null,
   "metadata": {},
   "outputs": [],
   "source": []
  }
 ],
 "metadata": {
  "kernelspec": {
   "display_name": "Python 3",
   "language": "python",
   "name": "python3"
  },
  "language_info": {
   "codemirror_mode": {
    "name": "ipython",
    "version": 3
   },
   "file_extension": ".py",
   "mimetype": "text/x-python",
   "name": "python",
   "nbconvert_exporter": "python",
   "pygments_lexer": "ipython3",
   "version": "3.6.5"
  }
 },
 "nbformat": 4,
 "nbformat_minor": 2
}

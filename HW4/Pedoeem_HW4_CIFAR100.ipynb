{
  "nbformat": 4,
  "nbformat_minor": 0,
  "metadata": {
    "colab": {
      "name": "Pedoeem_HW4-CIFAR100.ipynb",
      "version": "0.3.2",
      "provenance": []
    },
    "kernelspec": {
      "display_name": "Python 3",
      "language": "python",
      "name": "python3"
    },
    "accelerator": "GPU"
  },
  "cells": [
    {
      "metadata": {
        "id": "23ep3tVcUzoK",
        "colab_type": "text"
      },
      "cell_type": "markdown",
      "source": [
        "## Jonathan Pedoeem\n",
        "## Prof. Curro HW4 CIFAR100\n",
        "## October 4th, 2018"
      ]
    },
    {
      "metadata": {
        "id": "bE1e7UyTUzoM",
        "colab_type": "code",
        "colab": {}
      },
      "cell_type": "code",
      "source": [
        "import numpy as np\n",
        "import tensorflow as tf\n",
        "from tensorflow import keras\n",
        "import matplotlib.pyplot as plt\n",
        "from tqdm import tqdm\n",
        "from time import time"
      ],
      "execution_count": 0,
      "outputs": []
    },
    {
      "metadata": {
        "id": "zxxFlkBkUzoV",
        "colab_type": "code",
        "colab": {}
      },
      "cell_type": "code",
      "source": [
        "np.random.seed(1234)\n",
        "tf.set_random_seed(1234)\n",
        "IMAGE_HEIGHT = 32\n",
        "IMAGE_WIDTH  = 32\n",
        "IMAGE_DEPTH = 3\n",
        "batch_size = 20\n",
        "NUM_CLASSES = 100\n",
        "l2_lamb = 1e-3\n",
        "lr = 1e-1"
      ],
      "execution_count": 0,
      "outputs": []
    },
    {
      "metadata": {
        "id": "lgB7dfjvUzoY",
        "colab_type": "code",
        "colab": {}
      },
      "cell_type": "code",
      "source": [
        "def reshape(x):\n",
        "    return np.reshape(x, [-1,IMAGE_WIDTH,IMAGE_HEIGHT,IMAGE_DEPTH])"
      ],
      "execution_count": 0,
      "outputs": []
    },
    {
      "metadata": {
        "id": "p2ncmxz0Uzoc",
        "colab_type": "code",
        "colab": {}
      },
      "cell_type": "code",
      "source": [
        "def get_cifar100():\n",
        "    datum = {}\n",
        "    cifar10 = tf.keras.datasets.cifar100\n",
        "    (x_train, y_train),(x_test, y_test) = cifar10.load_data()\n",
        "    x_train, x_test = x_train / 255.0, x_test / 255.0\n",
        "    randos = np.random.choice(50000,50000, replace=False)\n",
        "    validation_randos = randos[:10000]\n",
        "    train_randos = randos[10000:]\n",
        "    val_x, val_y = reshape(x_train[validation_randos]), y_train[validation_randos]\n",
        "    x_train, y_train = reshape(x_train[train_randos]), y_train[train_randos]\n",
        "    x_test = reshape(x_test)\n",
        "    y_train = keras.utils.to_categorical(y_train, NUM_CLASSES)\n",
        "    y_test = keras.utils.to_categorical(y_test, NUM_CLASSES)\n",
        "    val_y = keras.utils.to_categorical(val_y,NUM_CLASSES)\n",
        "    datum = {\"x_train\":x_train, \"y_train\":y_train, \"x_val\":val_x, \"y_val\":val_y,\"x_test\":x_test,\"y_test\":y_test}\n",
        "    return datum"
      ],
      "execution_count": 0,
      "outputs": []
    },
    {
      "metadata": {
        "id": "-Z8xcoSoUzog",
        "colab_type": "code",
        "colab": {
          "base_uri": "https://localhost:8080/",
          "height": 51
        },
        "outputId": "f2a95e59-5114-4cd3-a939-36a562c28384"
      },
      "cell_type": "code",
      "source": [
        "datum = get_cifar100()"
      ],
      "execution_count": 5,
      "outputs": [
        {
          "output_type": "stream",
          "text": [
            "Downloading data from https://www.cs.toronto.edu/~kriz/cifar-100-python.tar.gz\n",
            "169009152/169001437 [==============================] - 474s 3us/step\n"
          ],
          "name": "stdout"
        }
      ]
    },
    {
      "metadata": {
        "id": "M7pjaoPEdnU4",
        "colab_type": "code",
        "colab": {}
      },
      "cell_type": "code",
      "source": [
        "# from keras website\n",
        "datagen = keras.preprocessing.image.ImageDataGenerator(\n",
        "    horizontal_flip=True)\n",
        "test_datagen = keras.preprocessing.image.ImageDataGenerator()\n",
        "datagen.fit(datum[\"x_train\"])\n"
      ],
      "execution_count": 0,
      "outputs": []
    },
    {
      "metadata": {
        "id": "p83zNf5dUzom",
        "colab_type": "code",
        "colab": {}
      },
      "cell_type": "code",
      "source": [
        "model = keras.Sequential()\n",
        "model.add(keras.layers.BatchNormalization(input_shape=(IMAGE_HEIGHT, IMAGE_WIDTH, IMAGE_DEPTH)))\n",
        "model.add(keras.layers.Conv2D(filters=99,kernel_size=(3,3),input_shape=(IMAGE_HEIGHT, IMAGE_WIDTH, IMAGE_DEPTH), strides=2,padding='valid',activation='relu', kernel_initializer=keras.initializers.VarianceScaling()))\n",
        "model.add(keras.layers.BatchNormalization())\n",
        "model.add(keras.layers.Dropout(0.3))\n",
        "model.add(keras.layers.Conv2D(filters=99,kernel_size=(3,3),strides=2,padding='valid',activation='relu', kernel_initializer=keras.initializers.VarianceScaling()))\n",
        "model.add(keras.layers.BatchNormalization())\n",
        "model.add(keras.layers.Dropout(0.4))\n",
        "model.add(keras.layers.Conv2D(filters=211,kernel_size=(3,3),strides=2,padding='valid',activation='relu', kernel_initializer=keras.initializers.VarianceScaling()))\n",
        "model.add(keras.layers.BatchNormalization())\n",
        "model.add(keras.layers.Dropout(0.5))\n",
        "model.add(keras.layers.Conv2D(filters=211,kernel_size=(3,3),strides=2,padding='same',activation='relu', kernel_initializer=keras.initializers.VarianceScaling()))\n",
        "model.add(keras.layers.BatchNormalization())\n",
        "model.add(keras.layers.Dropout(0.5))\n",
        "model.add(keras.layers.Flatten())\n",
        "model.add(keras.layers.Dense(NUM_CLASSES,activation=\"softmax\", kernel_initializer=keras.initializers.VarianceScaling()))\n",
        "model.compile(optimizer=keras.optimizers.SGD(lr, momentum=0.7),\n",
        "              loss='categorical_crossentropy',\n",
        "              metrics=['accuracy', 'top_k_categorical_accuracy'])"
      ],
      "execution_count": 0,
      "outputs": []
    },
    {
      "metadata": {
        "id": "1SXVR2-xUzoo",
        "colab_type": "code",
        "colab": {}
      },
      "cell_type": "code",
      "source": [
        "model.fit_generator(datagen.flow(datum[\"x_train\"],datum[\"y_train\"], batch_size=512), epochs=200,\n",
        "          validation_data=(datum[\"x_val\"], datum[\"y_val\"]), verbose=2)"
      ],
      "execution_count": 0,
      "outputs": []
    },
    {
      "metadata": {
        "id": "B5ZPLUXYgG6_",
        "colab_type": "code",
        "colab": {}
      },
      "cell_type": "code",
      "source": [
        "model.compile(optimizer=keras.optimizers.SGD(1e-2, momentum=0.7),\n",
        "              loss='categorical_crossentropy',\n",
        "              metrics=['accuracy','top_k_categorical_accuracy'])\n",
        "model.fit_generator(datagen.flow(datum[\"x_train\"],datum[\"y_train\"], batch_size=256), epochs=200,\n",
        "          validation_data=(datum[\"x_val\"], datum[\"y_val\"]), verbose=2)"
      ],
      "execution_count": 0,
      "outputs": []
    },
    {
      "metadata": {
        "id": "LTWKVHW4Uzow",
        "colab_type": "code",
        "colab": {
          "base_uri": "https://localhost:8080/",
          "height": 51
        },
        "outputId": "73808f6c-eff4-4d5c-cddb-fe5308194f46"
      },
      "cell_type": "code",
      "source": [
        "model.evaluate(datum[\"x_test\"],datum[\"y_test\"])"
      ],
      "execution_count": 12,
      "outputs": [
        {
          "output_type": "stream",
          "text": [
            "10000/10000 [==============================] - 2s 215us/step\n"
          ],
          "name": "stdout"
        },
        {
          "output_type": "execute_result",
          "data": {
            "text/plain": [
              "[1.6003288402557374, 0.5663, 0.836]"
            ]
          },
          "metadata": {
            "tags": []
          },
          "execution_count": 12
        }
      ]
    },
    {
      "metadata": {
        "id": "nWdN-mr49mo9",
        "colab_type": "text"
      },
      "cell_type": "markdown",
      "source": [
        "Top 5 Accuacy: 83.6%\n",
        "<br>\n",
        "\n",
        "Top 1 Accuracy: 56.6%"
      ]
    },
    {
      "metadata": {
        "id": "nqAKXblDUzo4",
        "colab_type": "code",
        "colab": {}
      },
      "cell_type": "code",
      "source": [
        ""
      ],
      "execution_count": 0,
      "outputs": []
    },
    {
      "metadata": {
        "id": "ELgrx6vnUzo7",
        "colab_type": "code",
        "colab": {}
      },
      "cell_type": "code",
      "source": [
        ""
      ],
      "execution_count": 0,
      "outputs": []
    }
  ]
}